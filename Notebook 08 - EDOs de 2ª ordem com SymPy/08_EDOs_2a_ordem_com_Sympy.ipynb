{
 "cells": [
  {
   "cell_type": "markdown",
   "id": "455bc629",
   "metadata": {},
   "source": [
    "## 8. EDOs de 2ª ordem com SymPy\n",
    "\n",
    "\n",
    "\n",
    "### 8.1 Introdução\n",
    "\n",
    "Uma boa razão para estudar equações lineares de segunda ordem é que elas são essenciais para qualquer investigação séria das áreas clássicas da Física-Matemática. Não se pode progredir muito no estudo de mecânica dos fluidos, condução de calor, movimento ondulatório ou fenômenos eletromagnéticos sem esbarrar na necessidade de resolver equações diferenciais lineares de segunda ordem. Vamos ilustrar isso mais a frente com uma discussão de oscilações de alguns sistemas mecânicos e elétricos básicos.\n"
   ]
  },
  {
   "cell_type": "markdown",
   "id": "c89bd672-23b6-45f9-ade0-31bd92ec5fa6",
   "metadata": {},
   "source": [
    "Considere um pêndulo de comprimento $l$, com massa $m$ em sua extremidade, como ilustrado na figura abaixo. \n",
    "\n",
    "<img src=\"https://github.com/tiagoburiol/MatComp_III/blob/main/Notebook%2004%20-%20EDOs%20de%201%C2%AA%20ordem,%20solu%C3%A7%C3%A3o%20e%20campo%20de%20dire%C3%A7%C3%B5es/imagens/pendulo.png?raw=true\" width=\"100\"/>\n",
    "\n",
    "O ângulo que o pêndulo faz com o eixo vertical ao longo do tempo, $\\theta (t)$ na presença de gravidade vertical $g$ pode ser descrito pela equação do pêndulo, que é a EDO\n",
    "\n",
    "$$\n",
    "ml\\frac{d^2\\theta(t)}{dt^2} = -mg \\, sen(\\theta(t)).\n",
    "$$\n",
    "\n",
    "Esta equação pode ser deduzida somando as forças nas direções $x$\n",
    "e $y$ e, em seguida, mudando para coordenadas polares.\n",
    "\n",
    "Essa é uma equação não linear de difícil solução mas pode ser simplificada assumindo que os ângulos são muito pequenos (ou seja, $sen(\\theta(t) \\approx \\theta(t)$, então a equação do pêndulo se reduz a\n",
    "\n",
    "$$\n",
    "l\\frac{d^2\\theta(t)}{dt^2} = -g\\theta(t).\n",
    "$$\n",
    "\n",
    "e a solução geral $\\theta(t) = \\cos\\left(\\sqrt{\\frac{g}{l}}t\\right)$ pode ser obtida. Para um ângulo inicial $\\theta_0$, partindo do repouso no instante $t=0$, obtém-se a solução particular \n",
    "\n",
    "$$\\theta(t) = \\theta_0\\cos\\left(\\sqrt{\\frac{g}{l}}t\\right)$$\n",
    "\n",
    "Para verificar, basta calcular as derivadas de 1ª e 2ª ordens e substituir na equação"
   ]
  },
  {
   "cell_type": "markdown",
   "id": "99902c38-5ccf-4ba3-9306-10e987218ec0",
   "metadata": {},
   "source": [
    "**Exemplo 8.1:** Vamos verificar se $\\theta(t) = \\cos\\left(\\sqrt{\\frac{g}{l}}t\\right)$ é solução da equação \n",
    "\n",
    "$$\n",
    "l\\frac{d^2\\theta(t)}{dt^2} = -g\\theta(t)\n",
    "$$\n"
   ]
  },
  {
   "cell_type": "code",
   "execution_count": 4,
   "id": "13838601-6fbc-4c62-806c-341087116658",
   "metadata": {},
   "outputs": [],
   "source": [
    "import sympy as sp"
   ]
  },
  {
   "cell_type": "code",
   "execution_count": 5,
   "id": "dfd29a95-f605-482f-a07d-a45092e5845e",
   "metadata": {},
   "outputs": [],
   "source": [
    "# definido os símbolos\n",
    "t,g,l = sp.symbols('t,g,l') "
   ]
  },
  {
   "cell_type": "code",
   "execution_count": 6,
   "id": "9b7e6b9c-7e62-4551-b87a-90fcf5c29cec",
   "metadata": {},
   "outputs": [],
   "source": [
    "# entrando com a função theta\n",
    "theta = sp.cos(sp.sqrt(g/l)*t)"
   ]
  },
  {
   "cell_type": "code",
   "execution_count": 7,
   "id": "366af18d-308f-427e-ab17-49e4f2bcb76d",
   "metadata": {},
   "outputs": [
    {
     "data": {
      "text/latex": [
       "$\\displaystyle - g \\cos{\\left(t \\sqrt{\\frac{g}{l}} \\right)}$"
      ],
      "text/plain": [
       "-g*cos(t*sqrt(g/l))"
      ]
     },
     "execution_count": 7,
     "metadata": {},
     "output_type": "execute_result"
    }
   ],
   "source": [
    "# lado esquerdo da equação (derivada segunda)\n",
    "l*theta.diff(t, t)"
   ]
  },
  {
   "cell_type": "code",
   "execution_count": 8,
   "id": "099901e5-e1b5-4672-9f80-21498acc73f3",
   "metadata": {},
   "outputs": [
    {
     "data": {
      "text/latex": [
       "$\\displaystyle - g \\cos{\\left(t \\sqrt{\\frac{g}{l}} \\right)}$"
      ],
      "text/plain": [
       "-g*cos(t*sqrt(g/l))"
      ]
     },
     "execution_count": 8,
     "metadata": {},
     "output_type": "execute_result"
    }
   ],
   "source": [
    "# lado direito\n",
    "-g*theta"
   ]
  },
  {
   "cell_type": "code",
   "execution_count": 9,
   "id": "9c5ec76e-49bb-4df4-b16f-96b41bc74f98",
   "metadata": {},
   "outputs": [
    {
     "data": {
      "text/latex": [
       "$\\displaystyle - g \\cos{\\left(t \\sqrt{\\frac{g}{l}} \\right)}$"
      ],
      "text/plain": [
       "-g*cos(t*sqrt(g/l))"
      ]
     },
     "execution_count": 9,
     "metadata": {},
     "output_type": "execute_result"
    }
   ],
   "source": [
    "# lado direito\n",
    "-g*theta"
   ]
  },
  {
   "cell_type": "markdown",
   "id": "cb46424d-9051-412f-8c02-8db9859d3202",
   "metadata": {},
   "source": [
    "Podemos ver que que a função $\\theta(t)$ satisfaz a equação, pois derivando duas vezes e substituindo, o lado direito e o lado esquerdo da equação são inguais.\n",
    "\n",
    "A seguir mais alguns exemplos de como usar `sympy`para exibir expressões matemáticas em um formato matemático tradicional. "
   ]
  },
  {
   "cell_type": "code",
   "execution_count": 10,
   "id": "6f97f122-f772-4df8-baf1-b00f8062be25",
   "metadata": {},
   "outputs": [],
   "source": [
    "# definido o símbolo theta para a função\n",
    "theta_symbol = sp.Function('theta')(t) "
   ]
  },
  {
   "cell_type": "code",
   "execution_count": 11,
   "id": "b46bd825-3232-402e-afcc-d7a892becc3a",
   "metadata": {},
   "outputs": [
    {
     "data": {
      "text/latex": [
       "$\\displaystyle \\frac{d}{d t} \\theta{\\left(t \\right)} = - \\sqrt{\\frac{g}{l}} \\sin{\\left(t \\sqrt{\\frac{g}{l}} \\right)}$"
      ],
      "text/plain": [
       "Eq(Derivative(theta(t), t), -sqrt(g/l)*sin(t*sqrt(g/l)))"
      ]
     },
     "execution_count": 11,
     "metadata": {},
     "output_type": "execute_result"
    }
   ],
   "source": [
    "# exibindo uma equação para a derivada primeira\n",
    "sp.Eq(theta_symbol.diff(t), theta.diff(t))"
   ]
  },
  {
   "cell_type": "code",
   "execution_count": 12,
   "id": "788c885a-9b02-40c0-81a1-c4ecd966d8f0",
   "metadata": {},
   "outputs": [
    {
     "data": {
      "text/latex": [
       "$\\displaystyle \\frac{d^{2}}{d t^{2}} \\theta{\\left(t \\right)} = - \\frac{g \\cos{\\left(t \\sqrt{\\frac{g}{l}} \\right)}}{l}$"
      ],
      "text/plain": [
       "Eq(Derivative(theta(t), (t, 2)), -g*cos(t*sqrt(g/l))/l)"
      ]
     },
     "execution_count": 12,
     "metadata": {},
     "output_type": "execute_result"
    }
   ],
   "source": [
    "#exibindo uma equação para a derivada segunda\n",
    "sp.Eq(theta_symbol.diff(t,t), theta.diff(t,t))"
   ]
  },
  {
   "cell_type": "markdown",
   "id": "85ae2144-e091-41ee-9ed0-dccf455c2e90",
   "metadata": {},
   "source": [
    "Observe o que ocorre se entramos com a equação de forma simbólica:"
   ]
  },
  {
   "cell_type": "code",
   "execution_count": 13,
   "id": "e5fcfcfe-32ec-4e24-8f29-d836dc4ec8f9",
   "metadata": {},
   "outputs": [
    {
     "data": {
      "text/latex": [
       "$\\displaystyle \\text{True}$"
      ],
      "text/plain": [
       "True"
      ]
     },
     "execution_count": 13,
     "metadata": {},
     "output_type": "execute_result"
    }
   ],
   "source": [
    "sp.Eq(l*theta.diff(t,t), -g*theta)"
   ]
  },
  {
   "cell_type": "markdown",
   "id": "bf399d87-5d27-4d56-ab20-dfe275b462e3",
   "metadata": {},
   "source": [
    "O resultado acima confirma que a função $\\theta(t)$ dada é realmente solução da equação do pêndulo."
   ]
  },
  {
   "cell_type": "markdown",
   "id": "49216132-cd2d-4fad-a270-621a6c3b8237",
   "metadata": {},
   "source": [
    "### 8.2 Equações diferenciais homogêneas com coeficientes constantes\n",
    "\n",
    "As equações diferenciais homogêneas com coeficientes constantes e de 2ª ordem são aquelas que podem ser escritas na forma \n",
    "\n",
    "$$ay''+by'+cy=0$$\n",
    "\n",
    "com $a$, $b$ e $c$ constantes.\n",
    "\n",
    "Sabemos que se a equação característica $ar^2+br+c=0$ possuir **duas raízes reais e distintas** $r_ 1$ e $r_2$, em que $r_1 \\neq r_2$, então  $y_1(t)=e^{r_1t}$ e $y_2(t)=e^{r_2t}$ são duas soluções da equação diferencial. Além disso, a combinação linear dessas duas soluções, ou seja, a função\n",
    "\n",
    "$$ y = c_1e^{r_1t} + c_2e^{r_2t}$$\n",
    "\n",
    "também é uma solução (confira!).   \n",
    "\n",
    "Se estivermos interessados em um elemento particular da família de soluções que satisfaz as condições iniciais \n",
    "\n",
    "$$y(t_0)=y_0 \\,\\,\\,\\, \\text{e}\\,\\,\\,\\, y'(t_0)=y'_0$$  \n",
    "\n",
    "então, substituimos na equação e podemos obter\n",
    "\n",
    "$$c_1=\\frac{y'_0-y_0r_2}{r_1-r_2}e^{-r_1t_0}\\,\\,\\,\\, \\text{e}\\,\\,\\,\\,c_2=\\frac{y_0r_1-y'_0}{r_1-r_2}e^{-r_2t_0}$$\n"
   ]
  },
  {
   "cell_type": "markdown",
   "id": "217b8d96-6aae-4676-a3c5-358ca98e1111",
   "metadata": {},
   "source": [
    "**Exemplo 8.2:** Encontre a solução do problema de valor inicial\n",
    "\n",
    "$$y''+5y'+6y=0  \\, \\text{,}\\,\\, y(0)=2 \\,\\, \\text{e}\\,\\, y'(0)=3$$ \n",
    "\n",
    "_Solução:_ \n",
    "\n",
    "As raízes de $r^2+5r+6=0$ são $r_1=-2$ e $r_2=-3$. Então a solução geral da equação é\n",
    "\n",
    "$$ y = c_1e^{-2t}+c_2e^{⁻3t}$$\n",
    "\n",
    "Aplicando a primeira condição inicial $y(0)=2$ obtemos $c_1+c_2=2$. \n",
    "\n",
    "Aplicando a segunda condição inicial $y'(0)=3$ obtemos $-2c_1-3c_2=3$.\n",
    "\n",
    "Resolvendo o sistema linear formado por essas duas equações obtemse $c_1=9$ e $c_2=-7$, então a solução particular é \n",
    "\n",
    "$$y=9e^{-2t}-7e^{-3t}$$\n",
    "\n",
    "Vejamos agora como usar as bibliotecas computacionais para obter essa solução."
   ]
  },
  {
   "cell_type": "code",
   "execution_count": 14,
   "id": "4571762b",
   "metadata": {},
   "outputs": [],
   "source": [
    "import sympy as sp"
   ]
  },
  {
   "cell_type": "code",
   "execution_count": 15,
   "id": "07604e82-2d32-4ca0-8ecd-599803835422",
   "metadata": {},
   "outputs": [],
   "source": [
    "r, c1, c2 = sp.symbols('r, c1, c2')"
   ]
  },
  {
   "cell_type": "code",
   "execution_count": 16,
   "id": "9fba1ff9-45b8-48f3-bed0-71593af05d51",
   "metadata": {},
   "outputs": [
    {
     "data": {
      "text/plain": [
       "[-3, -2]"
      ]
     },
     "execution_count": 16,
     "metadata": {},
     "output_type": "execute_result"
    }
   ],
   "source": [
    "#resolvendo a equação característica \n",
    "sp.solve(r**2+5*r+6)"
   ]
  },
  {
   "cell_type": "code",
   "execution_count": 17,
   "id": "7156f862-d025-4193-b58b-8a82d63b99d6",
   "metadata": {},
   "outputs": [
    {
     "data": {
      "text/latex": [
       "$\\displaystyle c_{1} e^{- 2 t} + c_{2} e^{- 3 t}$"
      ],
      "text/plain": [
       "c1*exp(-2*t) + c2*exp(-3*t)"
      ]
     },
     "execution_count": 17,
     "metadata": {},
     "output_type": "execute_result"
    }
   ],
   "source": [
    "#escrevendo a solução geral\n",
    "t = sp.symbols('t')\n",
    "y = sp.Function('y')(t)\n",
    "y = c1*sp.exp(-2*t)+c2*sp.exp(-3*t)\n",
    "y"
   ]
  },
  {
   "cell_type": "code",
   "execution_count": 18,
   "id": "ed8fa562-e07d-4ea1-8461-96ac523b18e7",
   "metadata": {},
   "outputs": [
    {
     "data": {
      "text/latex": [
       "$\\displaystyle 0$"
      ],
      "text/plain": [
       "0"
      ]
     },
     "execution_count": 18,
     "metadata": {},
     "output_type": "execute_result"
    }
   ],
   "source": [
    "# verificando a solução\n",
    "sp.simplify(y.diff(t,t)+ 5*y.diff(t)+6*y)"
   ]
  },
  {
   "cell_type": "code",
   "execution_count": 19,
   "id": "a965e66c-84d1-4bed-bc25-026c2badad49",
   "metadata": {},
   "outputs": [],
   "source": [
    "dy = sp.lambdify(t, y.diff(t))\n",
    "y = sp.lambdify(t, y)"
   ]
  },
  {
   "cell_type": "code",
   "execution_count": 20,
   "id": "79397329-8b1f-4784-9c3a-f3314db64284",
   "metadata": {},
   "outputs": [
    {
     "data": {
      "text/latex": [
       "$\\displaystyle 1.0 c_{1} + 1.0 c_{2}$"
      ],
      "text/plain": [
       "1.0*c1 + 1.0*c2"
      ]
     },
     "execution_count": 20,
     "metadata": {},
     "output_type": "execute_result"
    }
   ],
   "source": [
    "y(0)"
   ]
  },
  {
   "cell_type": "code",
   "execution_count": 21,
   "id": "03eae6c8-5a24-4394-9650-dd4a2d1e6588",
   "metadata": {},
   "outputs": [],
   "source": [
    "eq1 = sp.Eq(y(0),2)\n",
    "eq2 = sp.Eq(dy(0),3)"
   ]
  },
  {
   "cell_type": "code",
   "execution_count": 22,
   "id": "8cd74fbf-1894-4044-b3d0-8f3e4b9080db",
   "metadata": {},
   "outputs": [
    {
     "data": {
      "text/plain": [
       "{c1: 9.00000000000000, c2: -7.00000000000000}"
      ]
     },
     "execution_count": 22,
     "metadata": {},
     "output_type": "execute_result"
    }
   ],
   "source": [
    "C = sp.solve([eq1,eq2])\n",
    "C"
   ]
  },
  {
   "cell_type": "code",
   "execution_count": 23,
   "id": "71dc3478-11dc-417b-a467-d542cfcbb1da",
   "metadata": {},
   "outputs": [
    {
     "data": {
      "text/latex": [
       "$\\displaystyle 9.0 e^{- 2 t} - 7.0 e^{- 3 t}$"
      ],
      "text/plain": [
       "9.0*exp(-2*t) - 7.0*exp(-3*t)"
      ]
     },
     "execution_count": 23,
     "metadata": {},
     "output_type": "execute_result"
    }
   ],
   "source": [
    "s_part = C[c1]*sp.exp(-2*t)+C[c2]*sp.exp(-3*t)\n",
    "s_part"
   ]
  },
  {
   "cell_type": "markdown",
   "id": "b78d4166-8409-414a-911d-60e989fc735d",
   "metadata": {},
   "source": [
    "O mesmo resultado poderia ser obtido fazendo simplesmente"
   ]
  },
  {
   "cell_type": "code",
   "execution_count": 24,
   "id": "02b0354d-e973-4888-a207-6d19640f579d",
   "metadata": {},
   "outputs": [
    {
     "data": {
      "text/latex": [
       "$\\displaystyle y{\\left(t \\right)} = \\left(C_{1} + C_{2} e^{- t}\\right) e^{- 2 t}$"
      ],
      "text/plain": [
       "Eq(y(t), (C1 + C2*exp(-t))*exp(-2*t))"
      ]
     },
     "execution_count": 24,
     "metadata": {},
     "output_type": "execute_result"
    }
   ],
   "source": [
    "y = sp.Function('y')(t)\n",
    "eq = y.diff(t,t)+5*y.diff(t)+6*y\n",
    "sp.dsolve(eq, y)"
   ]
  },
  {
   "cell_type": "markdown",
   "id": "53d3cff7-13ce-4dec-9178-05d35299d899",
   "metadata": {},
   "source": [
    "Para adicionar condições iniciais, podemos complementar o comando adicionando `ics={y(0): 2, y.diff(t).subs(t, 0): 3}` dentro do `dsolve`"
   ]
  },
  {
   "cell_type": "code",
   "execution_count": 25,
   "id": "6afee9f8-f3ea-4c84-9370-83ae808d1810",
   "metadata": {},
   "outputs": [
    {
     "data": {
      "text/latex": [
       "$\\displaystyle y{\\left(t \\right)} = \\left(9 - 7 e^{- t}\\right) e^{- 2 t}$"
      ],
      "text/plain": [
       "Eq(y(t), (9 - 7*exp(-t))*exp(-2*t))"
      ]
     },
     "execution_count": 25,
     "metadata": {},
     "output_type": "execute_result"
    }
   ],
   "source": [
    "sol = sp.dsolve(eq, y, ics={y.subs(t, 0):2, y.diff(t).subs(t, 0): 3})\n",
    "sol"
   ]
  },
  {
   "cell_type": "markdown",
   "id": "7c8070a1-5ea0-4cb8-b68e-75d7e97880de",
   "metadata": {},
   "source": [
    "Plotando a solução particular"
   ]
  },
  {
   "cell_type": "code",
   "execution_count": 1,
   "id": "00a4a00e",
   "metadata": {},
   "outputs": [],
   "source": [
    "import numpy as np\n",
    "import matplotlib.pyplot as plt\n",
    "plt.rcParams['figure.figsize']=(4,3)"
   ]
  },
  {
   "cell_type": "code",
   "execution_count": 26,
   "id": "bb1270c7-2037-434b-b0e2-3a1a153bfa42",
   "metadata": {},
   "outputs": [],
   "source": [
    "# sol.rhs é o lado direito da equação sol\n",
    "f = sp.lambdify(t,sol.rhs)"
   ]
  },
  {
   "cell_type": "code",
   "execution_count": 27,
   "id": "52770542-df2f-4172-8122-f181728e2364",
   "metadata": {},
   "outputs": [
    {
     "data": {
      "image/png": "[encoded data removed]",
      "text/plain": [
       "<Figure size 400x300 with 1 Axes>"
      ]
     },
     "metadata": {},
     "output_type": "display_data"
    }
   ],
   "source": [
    "t = np.linspace(0,2)\n",
    "plt.plot(t, f(t))\n",
    "plt.grid()\n",
    "plt.show()"
   ]
  },
  {
   "cell_type": "markdown",
   "id": "58c199dd-cfa6-44c9-838d-82ec3c201899",
   "metadata": {},
   "source": [
    "**Curiosidade:** O que acontece se eu plotar várias cuvas para várias soluções?"
   ]
  },
  {
   "cell_type": "code",
   "execution_count": 28,
   "id": "030512b5-a2bb-481a-a57d-f5db0ba0a22a",
   "metadata": {},
   "outputs": [
    {
     "data": {
      "image/png": "[encoded data removed]",
      "text/plain": [
       "<Figure size 400x300 with 1 Axes>"
      ]
     },
     "metadata": {},
     "output_type": "display_data"
    }
   ],
   "source": [
    "f = lambda t,c1,c2: (c1-c2*np.exp(-t))*np.exp(-2*t)\n",
    "for c1 in np.arange(6,10):\n",
    "    for c2 in np.arange(5,12):\n",
    "        plt.plot(t, f(t,c1,c2),'b-',lw=0.5)\n",
    "plt.grid()\n",
    "plt.show()"
   ]
  },
  {
   "cell_type": "markdown",
   "id": "8f482e9c-8923-4633-8d3c-b673be2a8492",
   "metadata": {},
   "source": [
    "Se a equação característica $ar^2+br+c=0$ possuir **raízes complexas conjugadas** $r_ 1 = \\lambda + i\\mu$ e $r_2 = \\lambda - i\\mu$, então a solução geral da equação diferencial é a função\n",
    "\n",
    "\n",
    "$$ y = c_1 e^{\\lambda t} cos(\\mu t)+c_2 e^{\\lambda t} sen(\\mu t)$$"
   ]
  },
  {
   "cell_type": "markdown",
   "id": "5e85ff5b-5878-4a60-8a3f-ce36b7b2e512",
   "metadata": {},
   "source": [
    "**Exemplo 8.3:** Encontre a solução do problema de valor inicial $16y\"-8y'+145y=0$, $y(0)=-2$ e $y'(0)=1$."
   ]
  },
  {
   "cell_type": "code",
   "execution_count": 29,
   "id": "8a52ac76-30a1-4c4b-89df-aa0a6e1e1dcb",
   "metadata": {},
   "outputs": [
    {
     "data": {
      "text/latex": [
       "$\\displaystyle y{\\left(t \\right)} = \\left(C_{1} \\sin{\\left(3 t \\right)} + C_{2} \\cos{\\left(3 t \\right)}\\right) e^{\\frac{t}{4}}$"
      ],
      "text/plain": [
       "Eq(y(t), (C1*sin(3*t) + C2*cos(3*t))*exp(t/4))"
      ]
     },
     "execution_count": 29,
     "metadata": {},
     "output_type": "execute_result"
    }
   ],
   "source": [
    "t = sp.symbols('t')\n",
    "y = sp.Function('y')(t)\n",
    "eq = 16*y.diff(t,t)-8*y.diff(t)+145*y\n",
    "sol_g = sp.dsolve(eq, y)\n",
    "sol_g"
   ]
  },
  {
   "cell_type": "code",
   "execution_count": 30,
   "id": "1b7fb540-25d8-41e3-a5bf-4fb604b58f3f",
   "metadata": {},
   "outputs": [
    {
     "data": {
      "text/latex": [
       "$\\displaystyle y{\\left(t \\right)} = \\left(\\frac{\\sin{\\left(3 t \\right)}}{2} - 2 \\cos{\\left(3 t \\right)}\\right) e^{\\frac{t}{4}}$"
      ],
      "text/plain": [
       "Eq(y(t), (sin(3*t)/2 - 2*cos(3*t))*exp(t/4))"
      ]
     },
     "execution_count": 30,
     "metadata": {},
     "output_type": "execute_result"
    }
   ],
   "source": [
    "sol_p = sp.dsolve(eq, y, ics={y.subs(t, 0):-2, y.diff(t).subs(t, 0): 1})\n",
    "sol_p"
   ]
  },
  {
   "cell_type": "code",
   "execution_count": 31,
   "id": "8e20a566-749c-4f07-ba13-4bf10a61e496",
   "metadata": {},
   "outputs": [
    {
     "data": {
      "image/png": "[encoded data removed]",
      "text/plain": [
       "<Figure size 400x300 with 1 Axes>"
      ]
     },
     "metadata": {},
     "output_type": "display_data"
    }
   ],
   "source": [
    "f = sp.lambdify(t,sol_p.rhs)\n",
    "t = np.linspace(0,10,100)\n",
    "plt.plot(t, f(t))\n",
    "plt.grid()\n",
    "plt.show()"
   ]
  },
  {
   "cell_type": "code",
   "execution_count": 32,
   "id": "ceb6684e-5edb-4ac7-9fa9-d0e29d393da2",
   "metadata": {},
   "outputs": [
    {
     "data": {
      "text/latex": [
       "$\\displaystyle \\left(C_{1} \\sin{\\left(3 t \\right)} + C_{2} \\cos{\\left(3 t \\right)}\\right) e^{\\frac{t}{4}}$"
      ],
      "text/plain": [
       "(C1*sin(3*t) + C2*cos(3*t))*exp(t/4)"
      ]
     },
     "metadata": {},
     "output_type": "display_data"
    }
   ],
   "source": [
    "display(sol_g.rhs)"
   ]
  },
  {
   "cell_type": "code",
   "execution_count": 33,
   "id": "94839c67-57b6-49ce-8f36-d405831688bc",
   "metadata": {},
   "outputs": [
    {
     "data": {
      "image/png": "[encoded data removed]",
      "text/plain": [
       "<Figure size 400x300 with 1 Axes>"
      ]
     },
     "metadata": {},
     "output_type": "display_data"
    }
   ],
   "source": [
    "sols = lambda t,c1,c2: (c1*np.sin(3*t) + c2*np.cos(3*t))*np.exp(t/4)\n",
    "t = np.linspace(0,4,100)\n",
    "\n",
    "for c1 in range(0,100,20):\n",
    "    plt.plot(t, sols(t, c1,c2), 'b-', lw=0.5)\n",
    "    for c2 in range(0,100,20):\n",
    "        plt.plot(t, sols(t, c1,c2), 'r:', lw=0.5)\n",
    "plt.grid()\n",
    "plt.show()"
   ]
  },
  {
   "cell_type": "markdown",
   "id": "1baf3ab1-bcab-4647-b405-559f2a8406d1",
   "metadata": {},
   "source": [
    "**Exemplo 8.4:** Encontre a solução do problema de valor inicial $y\"+9y'=0$."
   ]
  },
  {
   "cell_type": "code",
   "execution_count": 34,
   "id": "cd422266-aaa3-4eae-b2d8-52a02fe59752",
   "metadata": {},
   "outputs": [
    {
     "data": {
      "text/latex": [
       "$\\displaystyle y{\\left(t \\right)} = C_{1} \\sin{\\left(3 t \\right)} + C_{2} \\cos{\\left(3 t \\right)}$"
      ],
      "text/plain": [
       "Eq(y(t), C1*sin(3*t) + C2*cos(3*t))"
      ]
     },
     "execution_count": 34,
     "metadata": {},
     "output_type": "execute_result"
    }
   ],
   "source": [
    "t = sp.symbols('t')\n",
    "y = sp.Function('y')(t)\n",
    "eq = y.diff(t,t)+9*y\n",
    "sol_g = sp.dsolve(eq, y)\n",
    "sol_g"
   ]
  },
  {
   "cell_type": "code",
   "execution_count": 35,
   "id": "6ccfa393-28fe-4a8b-8dd6-166645042d05",
   "metadata": {},
   "outputs": [
    {
     "name": "stdout",
     "output_type": "stream",
     "text": [
      "C1*sin(3*t) + C2*cos(3*t)\n"
     ]
    }
   ],
   "source": [
    "print(sol_g.rhs)"
   ]
  },
  {
   "cell_type": "code",
   "execution_count": 36,
   "id": "7530270f-9fd8-4f2e-94d8-1a3578344350",
   "metadata": {},
   "outputs": [
    {
     "data": {
      "image/png": "[encoded data removed]",
      "text/plain": [
       "<Figure size 400x300 with 1 Axes>"
      ]
     },
     "metadata": {},
     "output_type": "display_data"
    }
   ],
   "source": [
    "sols = lambda t,C1,C2: C1*np.sin(3*t) + C2*np.cos(3*t)\n",
    "t = np.linspace(0,4,100)\n",
    "\n",
    "for c1 in range(0,100,20):\n",
    "    plt.plot(t, sols(t, c1,c2), 'b-', lw=0.5)\n",
    "    for c2 in range(0,100,20):\n",
    "        plt.plot(t, sols(t, c1,c2), 'r:', lw=0.5)\n",
    "plt.grid()\n",
    "plt.show()"
   ]
  },
  {
   "cell_type": "markdown",
   "id": "af927950-fb75-423d-87f4-97d7cc2f3eb3",
   "metadata": {},
   "source": [
    "Por fim, se a equação característica $ar^2+br+c=0$ possuir **raízes iguais** $r_1 = r_2$, então a solução geralé dada por \n",
    "\n",
    "$$ y = c_1e^{r_1t}+c_2 t e^{r_2t}$$"
   ]
  },
  {
   "cell_type": "markdown",
   "id": "d39f8fb6-4213-4c24-bb04-ef74a0f8d710",
   "metadata": {},
   "source": [
    "**Exemplo 8.5:**\n",
    "Encontre a solução do problema de valor inicial $y\"-y'+0.25y=0$, $y(0)=2$ e $y'(0)=1/3$."
   ]
  },
  {
   "cell_type": "code",
   "execution_count": 37,
   "id": "3602352c-1dd6-41ae-b51d-88eb12a76e70",
   "metadata": {},
   "outputs": [
    {
     "data": {
      "text/latex": [
       "$\\displaystyle y{\\left(t \\right)} = C_{1} e^{0.499999999999937 t} + C_{2} e^{0.500000000000057 t}$"
      ],
      "text/plain": [
       "Eq(y(t), C1*exp(0.499999999999937*t) + C2*exp(0.500000000000057*t))"
      ]
     },
     "execution_count": 37,
     "metadata": {},
     "output_type": "execute_result"
    }
   ],
   "source": [
    "t = sp.symbols('t')\n",
    "y = sp.Function('y')(t)\n",
    "eq = y.diff(t,t)-y.diff(t)+0.25*y\n",
    "sp.dsolve(eq, y)\n"
   ]
  },
  {
   "cell_type": "markdown",
   "id": "6cde1c40-2252-4ea7-b53e-3a170f71fea1",
   "metadata": {},
   "source": [
    "Ops! Aqui parece que algo não deu certo, o que será??? "
   ]
  },
  {
   "cell_type": "code",
   "execution_count": 38,
   "id": "0827c3b4-6b87-4ef2-b641-bd32dfc5e33b",
   "metadata": {},
   "outputs": [
    {
     "data": {
      "text/plain": [
       "[0.500000000000000]"
      ]
     },
     "execution_count": 38,
     "metadata": {},
     "output_type": "execute_result"
    }
   ],
   "source": [
    "#resolvendo a equação característica \n",
    "sp.solve(r**2-r+0.25)"
   ]
  },
  {
   "cell_type": "markdown",
   "id": "69b686c2-142a-4333-9876-92aef56d85e4",
   "metadata": {},
   "source": [
    "Raízes iguais!!! A solução geral é $y(t) = C_1 e^{0.5t} + C_2te^{0.5t}$"
   ]
  },
  {
   "cell_type": "markdown",
   "id": "bcbc9ad2-6ae6-4bd6-b38f-ee523963bbfa",
   "metadata": {},
   "source": [
    "A solução geral para equações não homogêneas $ay\"+by'+cy=g(t)$ obtida pelo **método dos coeficientes indeterminados** tem a forma $y(t)=c_1y_1(t)+c_2y_2(t)+Y(t)$ onde $y_1$ e $y_2$ são as soluções da equação homogênea associada e $Y(t)$ é alguma solução específica da equação não homogênea. \n",
    "\n",
    "A função $Y(t)$ pode ser encontrada calculando coeficientes de uma combinação linear de funções exponenciais, seno, cosseno, polinômios, somas ou produtos dessas funções dependendo da forma da  função $g(t)$. \n",
    "\n",
    "Os exemplos a seguir dão um panorama de como proceder para obter uma solução geral.\n"
   ]
  },
  {
   "cell_type": "markdown",
   "id": "4dc78ede-94a5-4819-b583-909405e3b0f5",
   "metadata": {},
   "source": [
    "**Exemplo 8.6:** Encontre uma solução particular $Y(t)$ para $y\"-3y'-4y=3e^{2t}$. Então escreva a solução geral."
   ]
  },
  {
   "cell_type": "markdown",
   "id": "2b284cc0-6043-45aa-a734-c3448ea86b9a",
   "metadata": {},
   "source": [
    "Fazendo $Y(t)=Ae^{2t}$ derivando e substituindo no lado esquerdo da equação, temos:"
   ]
  },
  {
   "cell_type": "code",
   "execution_count": 39,
   "id": "48b2089a-086d-48cf-b28a-b9377cfcd421",
   "metadata": {},
   "outputs": [
    {
     "data": {
      "text/latex": [
       "$\\displaystyle - 6 A e^{2 t}$"
      ],
      "text/plain": [
       "-6*A*exp(2*t)"
      ]
     },
     "execution_count": 39,
     "metadata": {},
     "output_type": "execute_result"
    }
   ],
   "source": [
    "A = sp.symbols('A')\n",
    "Y = sp.Function('Y')(t)\n",
    "Y = A*sp.exp(2*t) \n",
    "expr = Y.diff(t,t)-3*Y.diff(t)-4*Y\n",
    "expr"
   ]
  },
  {
   "cell_type": "markdown",
   "id": "92b70410-596c-427e-b595-684b5e308817",
   "metadata": {},
   "source": [
    "Igualando com o lado direito da equação, ou sejan fazendo $-6Ae^{2t} = 3e^{2t}$ tem-se que $A=-1/2$, portanto $Y(t) = -\\frac{1}{2}e^{2t}$. Resolvendo a equação característica:"
   ]
  },
  {
   "cell_type": "code",
   "execution_count": 40,
   "id": "55fabca4-638b-4420-aa2b-19c45677bf7a",
   "metadata": {},
   "outputs": [
    {
     "data": {
      "text/plain": [
       "[-1, 4]"
      ]
     },
     "execution_count": 40,
     "metadata": {},
     "output_type": "execute_result"
    }
   ],
   "source": [
    "r = sp.symbols('r')\n",
    "sp.solve(r**2-3*r-4)"
   ]
  },
  {
   "cell_type": "markdown",
   "id": "4b8591d4-1497-429b-ad9e-24c98fe84b4d",
   "metadata": {},
   "source": [
    "Escrevemos a solução geral como $y(t) = C_1e^{-t}+C_2e^{4t}-\\frac{1}{2}e^{2t}$. Podemos confirmar a solução obtida usando os comandos abaixo:\n"
   ]
  },
  {
   "cell_type": "code",
   "execution_count": 41,
   "id": "b0ba7514-87b3-4901-8123-0d1f259afa13",
   "metadata": {},
   "outputs": [
    {
     "data": {
      "text/latex": [
       "$\\displaystyle y{\\left(t \\right)} = C_{1} e^{- t} + C_{2} e^{4 t} - \\frac{e^{2 t}}{2}$"
      ],
      "text/plain": [
       "Eq(y(t), C1*exp(-t) + C2*exp(4*t) - exp(2*t)/2)"
      ]
     },
     "execution_count": 41,
     "metadata": {},
     "output_type": "execute_result"
    }
   ],
   "source": [
    "eq = y.diff(t,t)-3*y.diff(t)-4*y-3*sp.exp(2*t)\n",
    "sp.dsolve(eq, y)"
   ]
  },
  {
   "cell_type": "markdown",
   "id": "dbd34696-3ebe-44a6-9747-79983528fe57",
   "metadata": {},
   "source": [
    "**Exemplo 8.7:** Encontre uma solução particular $Y(t)$ para $y\"-3y'-4y=2sen(t)$. Então escreva a solução geral."
   ]
  },
  {
   "cell_type": "markdown",
   "id": "676a4bfe-32da-4440-9f44-7980eeac1892",
   "metadata": {},
   "source": [
    "Fazendo $Y(t)=Asen(t) + Bcos(t)$ derivando e substituindo no lado esquerdo da equação, temos:"
   ]
  },
  {
   "cell_type": "code",
   "execution_count": 42,
   "id": "77a603cc-9162-4910-abf7-577c0442b7f1",
   "metadata": {},
   "outputs": [
    {
     "data": {
      "text/latex": [
       "$\\displaystyle - 4 A \\sin{\\left(t \\right)} - 3 A \\cos{\\left(t \\right)} + 3 B \\sin{\\left(t \\right)} - 4 B \\cos{\\left(t \\right)} - \\left(A \\sin{\\left(t \\right)} + B \\cos{\\left(t \\right)}\\right)$"
      ],
      "text/plain": [
       "-4*A*sin(t) - 3*A*cos(t) + 3*B*sin(t) - 4*B*cos(t) - (A*sin(t) + B*cos(t))"
      ]
     },
     "execution_count": 42,
     "metadata": {},
     "output_type": "execute_result"
    }
   ],
   "source": [
    "A, B = sp.symbols('A, B')\n",
    "Y = sp.Function('Y')(t)\n",
    "Y = A*sp.sin(t) + B*sp.cos(t)\n",
    "expr = Y.diff(t,t)-3*Y.diff(t)-4*Y\n",
    "expr"
   ]
  },
  {
   "cell_type": "markdown",
   "id": "aa560224-2c29-4991-824d-850d5be3e811",
   "metadata": {},
   "source": [
    "Fatorando para colocar $cos(t)$ e $sen(t)$ em evidência"
   ]
  },
  {
   "cell_type": "code",
   "execution_count": 43,
   "id": "4e4aeb5c-b80f-4888-9f34-cef3a05e227b",
   "metadata": {},
   "outputs": [
    {
     "data": {
      "text/latex": [
       "$\\displaystyle - \\left(3 A + 5 B\\right) \\cos{\\left(t \\right)} - \\left(5 A - 3 B\\right) \\sin{\\left(t \\right)}$"
      ],
      "text/plain": [
       "-(3*A + 5*B)*cos(t) - (5*A - 3*B)*sin(t)"
      ]
     },
     "execution_count": 43,
     "metadata": {},
     "output_type": "execute_result"
    }
   ],
   "source": [
    "fact = sp.factor(expr, [sp.cos(t), sp.sin(t)])\n",
    "fact"
   ]
  },
  {
   "cell_type": "code",
   "execution_count": 44,
   "id": "afe23dec-d5b3-4c18-8c95-2633bf8005f3",
   "metadata": {},
   "outputs": [],
   "source": [
    "eq1 = sp.Eq(-3*A-5*B, 0)\n",
    "eq2 = sp.Eq(-5*A+3*B, 2)"
   ]
  },
  {
   "cell_type": "code",
   "execution_count": 45,
   "id": "04d9a501-40c2-4002-ad2c-07fda9a1f0a9",
   "metadata": {},
   "outputs": [
    {
     "data": {
      "text/plain": [
       "{A: -5/17, B: 3/17}"
      ]
     },
     "execution_count": 45,
     "metadata": {},
     "output_type": "execute_result"
    }
   ],
   "source": [
    "sp.solve([eq1,eq2])"
   ]
  },
  {
   "cell_type": "markdown",
   "id": "eeeb843c-2807-474a-9605-a63a8d0f8575",
   "metadata": {},
   "source": [
    "Escrevemos a solução geral como $y(t) = C_1e^{-t}+C_2e^{4t}-\\frac{5}{17}sen(t)+\\frac{3}{17}cos(t)$. Podemos confirmar a solução obtida usando os comandos abaixo:"
   ]
  },
  {
   "cell_type": "code",
   "execution_count": 46,
   "id": "e0db323d-4f0d-4111-a4ab-fa2ec4325684",
   "metadata": {},
   "outputs": [
    {
     "data": {
      "text/latex": [
       "$\\displaystyle y{\\left(t \\right)} = C_{1} e^{- t} + C_{2} e^{4 t} - \\frac{5 \\sin{\\left(t \\right)}}{17} + \\frac{3 \\cos{\\left(t \\right)}}{17}$"
      ],
      "text/plain": [
       "Eq(y(t), C1*exp(-t) + C2*exp(4*t) - 5*sin(t)/17 + 3*cos(t)/17)"
      ]
     },
     "execution_count": 46,
     "metadata": {},
     "output_type": "execute_result"
    }
   ],
   "source": [
    "eq = y.diff(t,t)-3*y.diff(t)-4*y-2*sp.sin(t)\n",
    "sp.dsolve(eq, y)"
   ]
  },
  {
   "cell_type": "markdown",
   "id": "8fb3bf64-21ae-405d-91c8-486b5410e145",
   "metadata": {},
   "source": [
    "**Exemplo 8.8:** Use o método dos coeficientes indeterminados para encontrar uma solução particular $Y(t)$ para $y\"-3y'-4y=-8e^tcos(2t)$. Então escreva a solução geral."
   ]
  },
  {
   "cell_type": "code",
   "execution_count": null,
   "id": "d1c08287-460f-4a35-89b9-616e2a7c524f",
   "metadata": {},
   "outputs": [],
   "source": []
  },
  {
   "cell_type": "code",
   "execution_count": 47,
   "id": "3d13955c-56a0-411b-a7bf-34299ac8a092",
   "metadata": {},
   "outputs": [
    {
     "data": {
      "text/latex": [
       "$\\displaystyle y{\\left(t \\right)} = C_{1} e^{- t} + C_{2} e^{4 t} + \\frac{2 \\left(- \\sin{\\left(2 t \\right)} - 5 \\cos{\\left(2 t \\right)}\\right) e^{t}}{13}$"
      ],
      "text/plain": [
       "Eq(y(t), C1*exp(-t) + C2*exp(4*t) + 2*(-sin(2*t) - 5*cos(2*t))*exp(t)/13)"
      ]
     },
     "execution_count": 47,
     "metadata": {},
     "output_type": "execute_result"
    }
   ],
   "source": [
    "# A resposta procurada é dada por \n",
    "eq = y.diff(t,t)-3*y.diff(t)-4*y-8*sp.exp(t)*sp.cos(2*t)\n",
    "sp.dsolve(eq, y)"
   ]
  },
  {
   "cell_type": "markdown",
   "id": "512570d3-4df5-4043-85f9-b98b16c4598c",
   "metadata": {},
   "source": [
    "**Exemplo 8.9:** Use o método dos coeficientes indeterminados para encontrar uma solução particular $Y(t)$ para $y\"-3y'-4y=3e^{2t}+2sen(t)-8e^tcos(2t)$. Então escreva a solução geral."
   ]
  },
  {
   "cell_type": "code",
   "execution_count": null,
   "id": "a64fdedf-a217-43ae-8892-7716361499ba",
   "metadata": {},
   "outputs": [],
   "source": []
  },
  {
   "cell_type": "code",
   "execution_count": 48,
   "id": "143945a5-4e26-43f0-bf8e-a2036f58a216",
   "metadata": {},
   "outputs": [
    {
     "data": {
      "text/latex": [
       "$\\displaystyle y{\\left(t \\right)} = C_{1} e^{- t} + C_{2} e^{4 t} + \\frac{2 \\left(- \\sin{\\left(2 t \\right)} - 5 \\cos{\\left(2 t \\right)}\\right) e^{t}}{13} - \\frac{e^{2 t}}{2} + \\frac{5 \\sin{\\left(t \\right)}}{17} - \\frac{3 \\cos{\\left(t \\right)}}{17}$"
      ],
      "text/plain": [
       "Eq(y(t), C1*exp(-t) + C2*exp(4*t) + 2*(-sin(2*t) - 5*cos(2*t))*exp(t)/13 - exp(2*t)/2 + 5*sin(t)/17 - 3*cos(t)/17)"
      ]
     },
     "execution_count": 48,
     "metadata": {},
     "output_type": "execute_result"
    }
   ],
   "source": [
    "# A resposta procurada é dada por \n",
    "eq = y.diff(t,t)-3*y.diff(t)-4*y-3*sp.exp(2*t)+2*sp.sin(t)-8*sp.exp(t)*sp.cos(2*t)\n",
    "sp.dsolve(eq, y)"
   ]
  },
  {
   "cell_type": "code",
   "execution_count": null,
   "id": "5bc29b65-fb33-41c6-a41c-32af91988bce",
   "metadata": {},
   "outputs": [],
   "source": []
  },
  {
   "cell_type": "markdown",
   "id": "20a5238b-30ab-4b21-97cb-54e67452fd98",
   "metadata": {},
   "source": [
    "**Exercícios:**\n",
    "\n",
    "**1.** Encontre a solução geral da equação diferencial dada. Esboce o gráfico para algumas soluções.\n",
    "\n",
    "a) $y^{\\prime \\prime}+2 y^{\\prime}-3 y=0$\n",
    "\n",
    "b) $y^{\\prime \\prime}+3 y^{\\prime}+2 y=0$\n",
    "\n",
    "c) $6 y^{\\prime \\prime}-y^{\\prime}-y=0$\n",
    "\n",
    "d) $y^{\\prime \\prime}+5 y^{\\prime}=0$\n",
    "\n",
    "e) $4 y^{\\prime \\prime}-9 y=0$\n",
    "\n",
    "f) $y^{\\prime \\prime}-2 y^{\\prime}-2 y=0$\n",
    "\n",
    "g) $y^{\\prime \\prime}-2 y^{\\prime}+2 y=0$\n",
    "\n",
    "h) $y^{\\prime \\prime}-2 y^{\\prime}+6 y=0$\n",
    "\n",
    "i) $y^{\\prime \\prime}+2 y^{\\prime}+2 y=0$\n",
    "\n",
    "j) $y^{\\prime \\prime}+6 y^{\\prime}+13 y=0$\n",
    "\n",
    "k) $y^{\\prime \\prime}+2 y^{\\prime}+1,25 y=0$\n",
    "\n",
    "l)  $9 y^{\\prime \\prime}+9 y^{\\prime}-4 y=0$\n",
    "\n",
    "m) $y^{\\prime \\prime}+4 y^{\\prime}+6,25 y=0$\n",
    "\n",
    "n)  $y^{\\prime \\prime}-2 y^{\\prime}+y=0$\n",
    "\n",
    "o) $9 y^{\\prime \\prime}+6 y^{\\prime}+y=0$\n",
    "\n",
    "p) $4 y^{\\prime \\prime}-4 y^{\\prime}-3 y=0$\n",
    "\n",
    "q) $y^{\\prime \\prime}-2 y^{\\prime}+10 y=0$\n",
    "\n",
    "r) $y^{\\prime \\prime}-6 y^{\\prime}+9 y=0$\n",
    "\n",
    "s) $4 y^{\\prime \\prime}+17 y^{\\prime}+4 y=0$\n",
    "\n",
    "t) $16 y^{\\prime \\prime}+24 y^{\\prime}+9 y=0$\n",
    "\n",
    "u) $2 y^{\\prime \\prime}+2 y^{\\prime}+y=0$"
   ]
  },
  {
   "cell_type": "markdown",
   "id": "5aa6a99e-10bf-4f31-bcaf-130bb2a1c976",
   "metadata": {},
   "source": [
    "**2.** Encontre a solução do problema de valor inicial dado. Esboce o gráfico da solução e descreva seu comportamento quando $t$ aumenta.\n",
    "\n",
    "a) $y^{\\prime \\prime}+y^{\\prime}-2 y=0, \\quad y(0)=1, \\quad y^{\\prime}(0)=1$\n",
    "\n",
    "b) $y^{\\prime \\prime}+4 y^{\\prime}+3 y=0, \\quad y(0)=2, \\quad y^{\\prime}(0)=-1$\n",
    "\n",
    "c) $y^{\\prime \\prime}+3 y^{\\prime}=0, \\quad y(0)=-2, \\quad y^{\\prime}(0)=3$\n",
    "\n",
    "d) $2 y^{\\prime \\prime}+y^{\\prime}-4 y=0, \\quad y(0)=0, \\quad y^{\\prime}(0)=1$\n",
    "\n",
    "e) $y^{\\prime \\prime}+8 y^{\\prime}-9 y=0, \\quad y(1)=1, \\quad y^{\\prime}(1)=0$\n",
    "\n",
    "f) $4 y^{\\prime \\prime}-y=0, \\quad y(-2)=1, \\quad y^{\\prime}(-2)=-1$\n",
    "\n",
    "g) $y^{\\prime \\prime}+4 y=0, \\quad y(0)=0, \\quad y^{\\prime}(0)=1$\n",
    "\n",
    "h) $y^{\\prime \\prime}-2 y^{\\prime}+5 y=0, \\quad y(\\pi / 2)=0, \\quad y^{\\prime}(\\pi / 2)=2$\n",
    "\n",
    "i) $y^{\\prime \\prime}+y=0, \\quad y(\\pi / 3)=2, \\quad y^{\\prime}(\\pi / 3)=-4$\n",
    "\n",
    "j) $y^{\\prime \\prime}+2 y^{\\prime}+2 y=0, \\quad y(\\pi / 4)=2, \\quad y^{\\prime}(\\pi / 4)=-2$\n",
    "\n",
    "k)  $9 y^{\\prime \\prime}-12 y^{\\prime}+4 y=0, \\quad y(0)=2, \\quad y^{\\prime}(0)=-1$\n",
    "\n",
    "l)  $y^{\\prime \\prime}-6 y^{\\prime}+9 y=0, \\quad y(0)=0, \\quad y^{\\prime}(0)=2$\n",
    "\n",
    "m) $y^{\\prime \\prime}+4 y^{\\prime}+4 y=0, \\quad y(-1)=2, \\quad y^{\\prime}(-1)=1$"
   ]
  },
  {
   "cell_type": "code",
   "execution_count": null,
   "id": "66b06d62-b4c8-433d-9913-659b83f27365",
   "metadata": {},
   "outputs": [],
   "source": []
  }
 ],
 "metadata": {
  "kernelspec": {
   "display_name": "Python 3 (ipykernel)",
   "language": "python",
   "name": "python3"
  },
  "language_info": {
   "codemirror_mode": {
    "name": "ipython",
    "version": 3
   },
   "file_extension": ".py",
   "mimetype": "text/x-python",
   "name": "python",
   "nbconvert_exporter": "python",
   "pygments_lexer": "ipython3",
   "version": "3.12.4"
  }
 },
 "nbformat": 4,
 "nbformat_minor": 5
}
