{
 "cells": [
  {
   "cell_type": "markdown",
   "id": "d7e6877c",
   "metadata": {},
   "source": [
    "## Exercícios de revisão\n",
    "\n",
    "### Método de Euler e método das diferenças finitas \n"
   ]
  },
  {
   "cell_type": "markdown",
   "id": "075a8af7",
   "metadata": {},
   "source": [
    "### Método de Euler\n",
    "*Adaptado de [Boyce (2020)](https://integrada.minhabiblioteca.com.br/reader/books/9788521637134/epubcfi/6/28%5B%3Bvnd.vst.idref%3Dchapter02%5D!/4/742/5:19%5Bm%C3%A9r%2Cica%5D).*\n",
    "\n",
    "O método de Euler fornece a solução numérica para equações diferenciais ordinárias da forma\n",
    "\n",
    "$$ \\frac{dy}{dx} = f(x,y) $$\n",
    "\n",
    "usando um método de _passo único_ em que obtemos um processo iterativo para obter a solução para cada ponto $y_{i+1}$ a partir de um ponto $y_i$ conhecido. Fazemos isso considerando a derivada no ponto $x_i$ para obter o valor da função no ponto $x_{i+1}$ em que o tamanho de cada _passo_ é dado por $h = x_{i+1} - x_i$. Matemativamente, escrevemos\n",
    "\n",
    "$$ y_{i+1} = y_i + f(x_i, y_{i}) h$$\n",
    "\n",
    "Assim, a inclinação no ponto $(x_i,y_i)$, tomada como sendo $y_i' = f(x_i,y_i)$, é usada para extrapolar de um valor antigo $y_i$ para um valor novo $y_{i+1}$ em uma distância $h$. "
   ]
  },
  {
   "cell_type": "markdown",
   "id": "f825d7b4",
   "metadata": {},
   "source": [
    "### Uma melhoria no método de Euler (método de Heun)\n",
    "\n",
    "*Adaptado de [Chapra e Canalle (2016, p.651)](https://integrada.minhabiblioteca.com.br/reader/books/9788580555691/pageid/651).*\n",
    "\n",
    "Uma melhoria nos resultados do método de Euler pode ser obtida melhorando a estimativa da inclinação $y_i'$. No método a inclinação em $y_i$ é tomada como sendo constante e igual a $dy/dx$ ao longo do intervalo. O método de Heus consiste em usar a inclinação média $\\bar y'$ entre a inclinação nos dois extremos do intervalo, ou seja:\n",
    "\n",
    "$$ \\bar y'= \\frac{y_i'+y_{i+1}'}{2}$$\n",
    "\n",
    "em que $y_{i+1}'$ é estimada fazendo\n",
    "$$\n",
    "y_{i+1}^{\\prime}=f\\left(x_{i+1}, y_{i+1}^*\\right) \\quad \\text{com} \\quad y_{i+1}^0=y_i+f(x_i, y_i)h\n",
    "$$\n",
    "\n",
    "Aqui, $y_{i+1}^0$ é a primeira aproximação obtida pelo método de Euler, uma estimativa preditiva da inclinação, então, uma correção nessa aproximação é realizada usando a média das inclinações estimadas em $x_i$ e $x_{i+1}$. \n",
    "\n",
    "Essa inclinação média é, então, usada para extrapolar linearmente de $y_i$ a $y_{i+1}$\n",
    "\n",
    "$$y_{i+1} = yi + \\bar y'h$$\n",
    "\n",
    "O método de Heun é uma abordagem do tipo *preditor-corretor* e pode ser usada repetidamente realizadno múltiplas iterações de correção da inclinação.\n",
    "\n",
    "**Exemplo resolvido:** [(Chapra e Canale, 2016, p. 653)](https://integrada.minhabiblioteca.com.br/reader/books/9788580555691/pageid/653)\n",
    "\n",
    "Use o método de Heun para integrar $y^{\\prime}=4 e^{0.8 x}-0,5 y$ de $x=0$ a $x=4$ com tamanho do passo 1 . A condição inicial em $x=0$ é $y=2$."
   ]
  },
  {
   "cell_type": "code",
   "execution_count": 21,
   "id": "64231665-c701-41d6-ab14-0939ed775a75",
   "metadata": {},
   "outputs": [],
   "source": [
    "import numpy as np\n",
    "\n",
    "#Método de Heun\n",
    "def heun(a,b,h,f,n):\n",
    "    yi = [2]\n",
    "    xi = np.arange(a,b+2*h,h)   \n",
    "    for i in range(len(xi)-1):\n",
    "        err = 10.0\n",
    "        dy = f(xi[i],yi[i])\n",
    "        y = yi[i]+h*dy            #previsor (Euler)\n",
    "        y_ant = y                 #guarda iteração anterior\n",
    "        #n iterações\n",
    "        for k in range(n):           #iterações \n",
    "            dy0 = f(xi[i+1],y)        #corretor\n",
    "            y = yi[-1]+h*(dy+dy0)/2   #metodo de Heun\n",
    "            err = abs(y-y_ant)/abs(y) #calcula o erro\n",
    "            y_ant = y                 #atualiza iteração anterior\n",
    "        yi.append(y)                        #inclui o resultado na lista\n",
    "        print (xi[i], y_ex[i], yi[i], err)  #imprime\n",
    "\n",
    "\n",
    "a = 0.0                                #início\n",
    "b = 4.0                                #fim\n",
    "h = 1.0                                #passo\n",
    "f = lambda x,y: 4*np.exp(0.8*x)-0.5*y  #função\n",
    "\n",
    "# solução exata\n",
    "y_ex = (4/1.3)*(np.exp(0.8*xi)-np.exp(-0.5*xi))+2*np.exp(-0.5*xi)\n"
   ]
  },
  {
   "cell_type": "code",
   "execution_count": 22,
   "id": "1e2942d5-1109-420a-a342-684c74ec026f",
   "metadata": {},
   "outputs": [
    {
     "name": "stdout",
     "output_type": "stream",
     "text": [
      "0.0 2.0 2 0.25385182471869033\n",
      "1.0 6.194631377209372 6.701081856984936 0.24921149748890042\n",
      "2.0 14.84392190764649 16.31978193789828 0.2480487779717735\n",
      "3.0 33.67717176796817 37.199248896864745 0.2477320670388547\n",
      "4.0 75.33896260915857 83.33776733540077 0.24764387442549554\n"
     ]
    }
   ],
   "source": [
    "heun(a,b,h,f,1)"
   ]
  },
  {
   "cell_type": "code",
   "execution_count": 23,
   "id": "658959e7-c548-48b9-bdb9-f47fd4b0d700",
   "metadata": {},
   "outputs": [
    {
     "name": "stdout",
     "output_type": "stream",
     "text": [
      "0.0 2.0 2 9.9625174649684e-10\n",
      "1.0 6.194631377209372 6.360865486855353 9.797664900539922e-10\n",
      "2.0 14.84392190764649 15.302236659731868 9.75736166799688e-10\n",
      "3.0 33.67717176796817 34.743276090677924 9.746769595727495e-10\n",
      "4.0 75.33896260915857 77.73509619396161 9.743931514353492e-10\n"
     ]
    }
   ],
   "source": [
    "heun(a,b,h,f,15)"
   ]
  },
  {
   "cell_type": "markdown",
   "id": "b050b7ca-8a7a-45b9-9332-eb68626b25ac",
   "metadata": {},
   "source": [
    "Exercícios:\n",
    "---"
   ]
  },
  {
   "cell_type": "code",
   "execution_count": 3,
   "id": "321d1cb7",
   "metadata": {},
   "outputs": [],
   "source": [
    "# Importando as bibliotecas\n",
    "import numpy as np\n",
    "import matplotlib.pyplot as plt"
   ]
  },
  {
   "cell_type": "markdown",
   "id": "57048b9c",
   "metadata": {},
   "source": [
    "**1.** Considere o problema de valor inicial ([Boyce, 2020, p.54](https://integrada.minhabiblioteca.com.br/reader/books/9788521637134/epubcfi/6/28%5B%3Bvnd.vst.idref%3Dchapter02%5D!/4/804/22/1:0%5B%2Ct%5D))\n",
    "\n",
    "$$\n",
    "\\frac{d y}{d t}=3-2 t-0,5 y, \\quad y(0)=1 .\n",
    "$$\n",
    "\n",
    "Use o método de Euler com passos de tamanho $h = 0,2$ para encontrar valores aproximados da solução do problema de valor inicial em $t = 0,2$; $0,4$; $0,6$; $0,8$ e $1$. Compare-os com os valores correspondentes da solução exata $y=14-4 t-13 e^{-t / 2}$.\n",
    "\n",
    "Em seguida, use diversos tamanhos de passos para calcular valores aproximados da solução para $0 ≤ t ≤ 5$. Compare os resultados calculados com os valores correspondentes da solução exata. Plote os gráficos."
   ]
  },
  {
   "cell_type": "markdown",
   "id": "d1824435",
   "metadata": {},
   "source": [
    "**2.** Considere o problema de valor inicial ([Boyce, 2020, p.56](https://integrada.minhabiblioteca.com.br/reader/books/9788521637134/epubcfi/6/28%5B%3Bvnd.vst.idref%3Dchapter02%5D!/4/758/6%4052:53))\n",
    "\n",
    "$$\n",
    "\\frac{d y}{d t}=4-t+2 y, \\quad y(0)=1 .\n",
    "$$\n",
    "\n",
    "Use o método de Euler e o método de Heun (Euler melhorado), com o mesmo número de pontos na discretização, para encontrar valores aproximados da solução no intervalo $0 \\leq t \\leq 5$. Compare os resultados com os valores correspondentes da solução\n",
    "\n",
    "$$\n",
    "y=-\\frac{7}{4}+\\frac{1}{2} t+\\frac{11}{4} e^{2 t} .\n",
    "$$\n",
    "\n",
    "Plote os gráficos."
   ]
  },
  {
   "cell_type": "markdown",
   "id": "bb6c0835",
   "metadata": {},
   "source": [
    "**3.** Para cada um dos problemas a seguir, encontre a solução exata e soluções numéricas com três diferentes discretizações no intervalo $0,1 <= t <= 0.5$. Plote os gráficos  ([Boyce, 2020, p.57](https://integrada.minhabiblioteca.com.br/reader/books/9788521637134/epubcfi/6/28%5B%3Bvnd.vst.idref%3Dchapter02%5D!/4/850/2/1:7%5Blem%2Cas%5D)). \n",
    "\n",
    "$\\begin{aligned} \n",
    "& \\quad \\quad (a) \\quad y^{\\prime}=3+t-y, \\quad y(0)=1 \\\\\n",
    "& \\quad \\quad (b) \\quad y^{\\prime}=2 y-1, \\quad y(0)=1 \\\\ \n",
    "& \\quad \\quad (c) \\quad y^{\\prime}=0,5-t+2 y, \\quad y(0)=1 \\\\ \n",
    "& \\quad \\quad (d) \\quad y^{\\prime}=3 \\cos t-2 y, \\quad y(0)=0\n",
    "\\end{aligned}$"
   ]
  },
  {
   "cell_type": "code",
   "execution_count": null,
   "id": "65843327",
   "metadata": {},
   "outputs": [],
   "source": []
  },
  {
   "cell_type": "markdown",
   "id": "14f9403a",
   "metadata": {},
   "source": [
    "### Diferenças finitas para problema lineares\n",
    "*Adaptado de ([Burden, Richard, L. et al., 2016](https://integrada.minhabiblioteca.com.br/reader/books/9788522123414/pageid/783))*\n",
    "\n",
    "Dado o problema de contorno de segunda ordem linear\n",
    "\n",
    "$$\n",
    "y^{\\prime \\prime}=p(x) y^{\\prime}+q(x) y+r(x), \\quad \\text { para } a \\leq x \\leq b \\operatorname{com} y(a)=\\alpha \\text { e } y(b)=\\beta,\n",
    "$$\n",
    "\n",
    "a resolução pelo método das diferenças finitas requer aproximações numéricas para $y'$ e $y''$ em um conjunto pontos que dividem o intervalo $[a,b]$ em $N+1$ subintervalos cujos extremos são os pontos $x_i=a+ih$, com $i=0,1,2,...,N+1$ da malha, e $h=(b-a)/(N+1))$.\n",
    "\n",
    "Aproximando $y'$ e $y''$ pela fórmula de diferenças centradas obtemos uma equação na forma\n",
    "\n",
    "$$\n",
    "\\left(\\frac{-y_{i+1}+2 y_i-y_{i-1}}{h^2}\\right)+p\\left(x_i\\right)\\left(\\frac{y_{i+1}-y_{i-1}}{2 h}\\right)+q\\left(x_i\\right) y_i=-r\\left(x_i\\right)\n",
    "$$\n",
    "\n",
    "para cada $i=1,2,...,N$. \n",
    "\n",
    "As equações podem ser reescritas na forma \n",
    "$$\n",
    "-\\left(1+\\frac{h}{2} p\\left(x_i\\right)\\right) y_{i-1}+\\left(2+h^2 q\\left(x_i\\right)\\right) y_i-\\left(1-\\frac{h}{2} p\\left(x_i\\right)\\right) y_{i+1}=-h^2 r\\left(x_i\\right),\n",
    "$$\n",
    "\n",
    "que vai gerar o sistema linear tridiagonal $N \\times N$ cuja solução dará a solução numérica do problema de valor de contorno.  "
   ]
  },
  {
   "cell_type": "markdown",
   "id": "1d7d1d97",
   "metadata": {},
   "source": []
  },
  {
   "cell_type": "markdown",
   "id": "2772fc6b",
   "metadata": {},
   "source": [
    "**4.** O problema de contorno ([fonte](https://integrada.minhabiblioteca.com.br/reader/books/9788522123414/pageid/789))\n",
    "\n",
    "$$\n",
    "y^{\\prime \\prime}=y^{\\prime}+2 y+\\cos x, \\quad 0 \\leq x \\leq \\frac{\\pi}{2}, \\quad y(0)=-0,3, \\quad y\\left(\\frac{\\pi}{2}\\right)=-0,1,\n",
    "$$\n",
    "\n",
    "tem a solução $y(x)=-\\frac{1}{10}(\\operatorname{sen} x+3 \\cos x)$. Use o método das diferenças finitas linear para obter uma aproximação para a solução e compare os resultados com a solução real. Repita para diferentes valores de $h$."
   ]
  },
  {
   "cell_type": "code",
   "execution_count": null,
   "id": "5117adba",
   "metadata": {},
   "outputs": [],
   "source": []
  },
  {
   "cell_type": "markdown",
   "id": "26706aeb",
   "metadata": {},
   "source": [
    "**5.** O problema de contorno ([fonte](https://integrada.minhabiblioteca.com.br/reader/books/9788522123414/pageid/789))\n",
    "\n",
    "$$\n",
    "y^{\\prime \\prime}=4(y-x), \\quad 0 \\leq x \\leq 1, \\quad y(0)=0, \\quad y(1)=2\n",
    "$$\n",
    "\n",
    "tem a solução $y(x)=e^2\\left(e^4-1\\right)^{-1}\\left(e^{2 x}-e^{-2 x}\\right)+x$. Use o método das diferenças finitas linear para obter uma aproximação para a solução e compare os resultados com a solução real. Repita para diferentes valores de $h$."
   ]
  },
  {
   "cell_type": "code",
   "execution_count": null,
   "id": "0fc7276f",
   "metadata": {},
   "outputs": [],
   "source": []
  },
  {
   "cell_type": "markdown",
   "id": "a9126045",
   "metadata": {},
   "source": [
    "**6.** A deflexão de uma viga, com extremidades apoiadas, sujeita a uma carga uniforme é uma situação física governada pelo seguinte problema de valores de contorno  ([fonte](https://integrada.minhabiblioteca.com.br/reader/books/9788522123414/pageid/789)):\n",
    "\n",
    "$$\n",
    "\\frac{d^2 w}{d x^2}=\\frac{S}{E I} w+\\frac{q x}{2 E I}(x-l), \\quad 0<x<l\n",
    "$$\n",
    "\n",
    "com condições de contorno $w(0)=0$ e $w(l)=0$.\n",
    "\n",
    "Suponha que se trate de uma viga-I de aço tipo W10 com as seguintes características: comprimento $l=120 \\mathrm{pol}$., intensidade da carga uniforme $q=100 \\mathrm{lb} /$ pé, módulo de elasticidade $E=3,0 \\times 10^7 \\mathrm{lb} / \\mathrm{pé}^2$, tensão nas extremidades $S=1000 \\mathrm{lb}$ e momento de inércia central $I=625 \\mathrm{pol}^4$.\n",
    "\n",
    "**a.** Aproxime a deflexão $w(x)$ da barra a cada 6 pol.\n",
    "\n",
    "**b.** A relação real é dada por\n",
    "\n",
    "$$\n",
    "w(x)=c_1 e^{a x}+c_2 e^{-a x}+b(x-1) x+c,\n",
    "$$\n",
    "\n",
    "em que $c_1=7,7042537 \\times 10^4$, $c_2=7,9207462 \\times 10^4$, $a=2,3094010 \\times 10^{-4}$, $b=-4,1666666 \\times 10^{-3}$ e   $c=-1,5625 \\times 10^5$. O erro máximo no intervalo é inferior a 0,2 pol.?\n",
    "\n",
    "**c.** Uma lei estadual requer que $ \\max _{0 \\leq x \\leq 1} w(x)<1 / 300 $. A viga atende ao código estadual? "
   ]
  },
  {
   "cell_type": "code",
   "execution_count": null,
   "id": "c3c14c78",
   "metadata": {},
   "outputs": [],
   "source": []
  },
  {
   "cell_type": "markdown",
   "id": "2f0b3816",
   "metadata": {},
   "source": [
    "**7.** A deflexão de uma placa retangular, longa, com carga uniforme, sob uma força de tensão axial é governada por uma equação diferencial de segunda ordem. Represente por $S$ a força axial e por $q$ a intensidade da carga uniforme. A deflexão $W$ ao longo do comprimento é dada por ([fonte](https://integrada.minhabiblioteca.com.br/reader/books/9788522123414/pageid/789)):\n",
    "\n",
    "$$\n",
    "W^{\\prime \\prime}(x)-\\frac{S}{D} W(x)=\\frac{-q l}{2 D} x+\\frac{q}{2 D} x^2, \\quad 0 \\leq x \\leq l, W(0)=W(l)=0,\n",
    "$$\n",
    "\n",
    "em que $l$ é o comprimento da placa e $D$ é a resistência da placa à flexão. Sejam $q=200$ lb/pol$^2$, $S=100$ lb/pol., $D=8,8 \\times 10^7$ lb/pol., e $l=50$ pol. Aproxime a deflexão em intervalos de 1 pol."
   ]
  },
  {
   "cell_type": "code",
   "execution_count": null,
   "id": "5479e334",
   "metadata": {},
   "outputs": [],
   "source": []
  },
  {
   "cell_type": "markdown",
   "id": "e94c3408",
   "metadata": {},
   "source": [
    "**Exercício resolvido**\n",
    "\n",
    "**8.** Use o Algoritmo 11.3 (p.769 de [Burden et al., 2016](https://integrada.minhabiblioteca.com.br/reader/books/9788522123414/pageid/785), para obter uma aproximação para a solução do problema de contorno\n",
    "\n",
    "$$\n",
    "y^{\\prime \\prime}=-\\frac{2}{x} y^{\\prime}+\\frac{2}{x^2} y+\\frac{\\operatorname{sen}(\\ln x)}{x^2}, \\quad \\text { para } 1 \\leq x \\leq 2, \\operatorname{com} y(1)=1 \\text { e } y(2)=2,\n",
    "$$\n",
    "\n",
    "e compare os resultados com aqueles apresentados na tabela 11.3 de (p.771 de [Burden, et al., 2016](https://integrada.minhabiblioteca.com.br/reader/books/9788522123414/pageid/785))."
   ]
  },
  {
   "cell_type": "code",
   "execution_count": 6,
   "id": "fe7ab18b",
   "metadata": {},
   "outputs": [],
   "source": [
    "import numpy as np\n",
    "import matplotlib.pyplot as plt"
   ]
  },
  {
   "cell_type": "code",
   "execution_count": 7,
   "id": "062a3d29",
   "metadata": {},
   "outputs": [],
   "source": [
    "a = 1.0\n",
    "b = 2.0\n",
    "ya = 1\n",
    "yb = 2\n",
    "\n",
    "N = 9\n",
    "h = (b-a)/(N+1)\n",
    "A = np.zeros((N,N))\n",
    "b = np.zeros(N)\n",
    "\n",
    "p = lambda x: -2./x\n",
    "q = lambda x: 2./x**2\n",
    "r = lambda x: np.sin(np.log(x))/x**2"
   ]
  },
  {
   "cell_type": "code",
   "execution_count": 8,
   "id": "29d792b4",
   "metadata": {},
   "outputs": [],
   "source": [
    "x = a+h\n",
    "A[0,0] = 2+h**2*q(x)\n",
    "A[0,1] = -1+(h/2)*p(x)\n",
    "b[0] = -h**2*r(x)+(1+(h/2)*p(x))*ya\n",
    "#print(x)\n",
    "\n",
    "for i in range(1,N-1):\n",
    "    x = a+(i+1)*h\n",
    "    A[i,i-1] = -1-(h/2)*p(x)\n",
    "    A[i,i] = 2+h**2*q(x) \n",
    "    A[i,i+1] = -1+(h/2)*p(x)\n",
    "    b[i] = -h**2*r(x)\n",
    "    #print(x)\n",
    "    \n",
    "x = a+(N)*h\n",
    "#print (x)\n",
    "A[N-1,N-2] = -1-(h/2)*p(x)\n",
    "A[N-1,N-1] = 2+h**2*q(x)\n",
    "b[N-1] = -h**2*r(x)+(1-(h/2)*p(x))*yb"
   ]
  },
  {
   "cell_type": "code",
   "execution_count": 9,
   "id": "9f07ea86",
   "metadata": {},
   "outputs": [
    {
     "name": "stdout",
     "output_type": "stream",
     "text": [
      "[[ 2.017 -1.091  0.     0.     0.     0.     0.     0.     0.   ]\n",
      " [-0.917  2.014 -1.083  0.     0.     0.     0.     0.     0.   ]\n",
      " [ 0.    -0.923  2.012 -1.077  0.     0.     0.     0.     0.   ]\n",
      " [ 0.     0.    -0.929  2.01  -1.071  0.     0.     0.     0.   ]\n",
      " [ 0.     0.     0.    -0.933  2.009 -1.067  0.     0.     0.   ]\n",
      " [ 0.     0.     0.     0.    -0.938  2.008 -1.062  0.     0.   ]\n",
      " [ 0.     0.     0.     0.     0.    -0.941  2.007 -1.059  0.   ]\n",
      " [ 0.     0.     0.     0.     0.     0.    -0.944  2.006 -1.056]\n",
      " [ 0.     0.     0.     0.     0.     0.     0.    -0.947  2.006]]\n",
      "[ 9.080e-01 -1.000e-03 -2.000e-03 -2.000e-03 -2.000e-03 -2.000e-03\n",
      " -2.000e-03 -2.000e-03  2.104e+00]\n"
     ]
    }
   ],
   "source": [
    "print (np.round(A,3))\n",
    "print (np.round(b,3))"
   ]
  },
  {
   "cell_type": "code",
   "execution_count": 5,
   "id": "61278566",
   "metadata": {},
   "outputs": [
    {
     "data": {
      "text/plain": [
       "array([1.09260052, 1.18704313, 1.28333687, 1.38140205, 1.48112026,\n",
       "       1.5823599 , 1.68498902, 1.78888175, 1.8939211 ])"
      ]
     },
     "execution_count": 5,
     "metadata": {},
     "output_type": "execute_result"
    }
   ],
   "source": [
    "np.linalg.solve(A,b)"
   ]
  },
  {
   "cell_type": "code",
   "execution_count": null,
   "id": "9a57110b",
   "metadata": {},
   "outputs": [],
   "source": []
  }
 ],
 "metadata": {
  "kernelspec": {
   "display_name": "Python 3 (ipykernel)",
   "language": "python",
   "name": "python3"
  },
  "language_info": {
   "codemirror_mode": {
    "name": "ipython",
    "version": 3
   },
   "file_extension": ".py",
   "mimetype": "text/x-python",
   "name": "python",
   "nbconvert_exporter": "python",
   "pygments_lexer": "ipython3",
   "version": "3.8.5"
  }
 },
 "nbformat": 4,
 "nbformat_minor": 5
}
