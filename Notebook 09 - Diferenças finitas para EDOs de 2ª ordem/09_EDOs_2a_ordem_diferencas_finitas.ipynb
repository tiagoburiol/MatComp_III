{
 "cells": [
  {
   "cell_type": "markdown",
   "id": "455bc629",
   "metadata": {},
   "source": [
    "## 9. EDOs de 2ª ordem e diferenças finitas\n",
    "\n",
    "### 9.1 Derivada de 1ª ordem em uma variável"
   ]
  },
  {
   "cell_type": "markdown",
   "id": "07eaaac7",
   "metadata": {},
   "source": [
    "A aproximação numérica para a derivada de 1ª ordem de uma função $y=f(x)$ em um ponto $x_i$ pode ser obtida por diferença finita, em que a inclinação da função é estimada usando valores da função na vizinhança do ponto. \n",
    "\n",
    "Chamamos aproximação _**para frente**_ quando se estima $f'(x_i)$ usando a inclinação da reta secante que passa pelos pontos $(x_i, f(x_i))$ e $(x_{i+1}, f(x_{i+1}))$. A aproximação _**para trás**_ é quando usamos a inclinação da reta que passa pelos pontos $(x_{i-1}, f(x_{i-1}))$ e $(x_{i}, f(x_{i}))$. E a aproximação _**central**_ é quando usamos a inclinação da reta que passa pelos pontos $(x_{i-1}, f(x_{i-1}))$ e $(x_{i+1}, f(x_{i+1}))$.\n",
    "\n",
    "A seguir são mostradas as fórmulas e uma representação geométrica  que ilustra a aproximação de $f'(x_i)$ _para frente_, _para trás_ e _central_ respectivamente: "
   ]
  },
  {
   "cell_type": "markdown",
   "id": "b5831986",
   "metadata": {},
   "source": [
    "\n",
    "$$f'(x_i) \\simeq \\frac{f(x_{i+1}) - f(x_i)}{x_{i+1}-x_i} \\quad\\quad\\quad\\quad\\quad\n",
    "f'(x_i) \\simeq \\frac{f(x_{i}) - f(x_{i-1})}{x_i-x_{i-1}} \\quad\\quad\\quad\\quad\\quad\n",
    "f'(x_i) \\simeq \\frac{f(x_{i+1}) - f(x_{i-1})}{x_{i+1}-x_{i-1}}$$\n",
    "\n",
    "\n",
    "<img src=\"imagens/diffs.png\" width=\"960\">\n"
   ]
  },
  {
   "cell_type": "markdown",
   "id": "b4914954",
   "metadata": {},
   "source": [
    "As fórmulas de diferenças finitas mostradas acima podem ser obtidas a partir da série de Taylor para a função $f(x)$ desenvolvida em torno de $x=x_i$ o que nos fornece"
   ]
  },
  {
   "cell_type": "markdown",
   "id": "67efb0df",
   "metadata": {},
   "source": [
    "$$f(x) = f(x_i) + f'(x_i)(x - x_i) + f''(x_i)\\frac{(x - x_i)^2}{2!} + f'''(x_i)\\frac{(x - x_i)^3}{3!} + \\cdots$$"
   ]
  },
  {
   "cell_type": "markdown",
   "id": "fe80f106",
   "metadata": {},
   "source": [
    "Ao aproximarmos $x_{i+1}$ por $x_i$, se considerarmos $h=x_{i+1}-x_i$ suficientemente pequeno, podemos desprezar os termos de ordem mais alta, proporcionais a $(x_{i+1}-x_i)^2$, $(x_{i+1}-x_i)^3$,$ \\dots$. \n",
    "\n",
    "Assim, a derivada de $f(x)$ em $x_i$ pode ser aproximada por\n",
    "\n",
    "$$f'(x_i) \\approx \\frac{f(x_{i+1}) - f(x_i)}{h} $$\n",
    "\n",
    "Que é exatamente a fórmula para a aproximação _para frente_ da derivada 1ª de $f$. Observe que nessa aproximação foram desprezados os termos \n",
    "\n",
    "$$ O(h^2) = \\frac{f''(x_i)h^2}{2} + \\frac{f'''(x_i)h^3}{6} + \\frac{f''''(x_i)h^4}{24} + \\frac{f'''''(x_i)h^5}{120} +\\cdots$$\n",
    "\n",
    "o que mostra que o erro de truncamento depende de $h$. Quanto menor o _passo_ $h$ menor será o erro, no entanto maior será o esforço computacional, o que impossibilita o cálculo com valores de $h$ próximos de zero. "
   ]
  },
  {
   "cell_type": "markdown",
   "id": "ad1efd6f-6288-416c-af62-679b5fe7fff8",
   "metadata": {},
   "source": [
    "**Exemplo 9.1:** A derivada  de $f(x)=sen^2(x)$ é dada por $f'(x)=2\\sin(x)\\cos (x)$. Vamos calcular as derivadas de primeira ordem numericamente usando 2 pontos em torno de $x_i$ (diferença finita central) em um conjunto de 25 pontos de discretização do intervalo $[0, 2\\pi]$ e comparar os gráficos."
   ]
  },
  {
   "cell_type": "code",
   "execution_count": 25,
   "id": "cd6836fc-fde5-412b-b5d8-c3eca17ed171",
   "metadata": {},
   "outputs": [
    {
     "data": {
      "text/latex": [
       "$\\displaystyle 2 \\sin{\\left(x \\right)} \\cos{\\left(x \\right)}$"
      ],
      "text/plain": [
       "2*sin(x)*cos(x)"
      ]
     },
     "execution_count": 25,
     "metadata": {},
     "output_type": "execute_result"
    }
   ],
   "source": [
    "import sympy as sp\n",
    "x = sp.symbols('x')\n",
    "(sp.sin(x)**2).diff(x)"
   ]
  },
  {
   "cell_type": "code",
   "execution_count": 26,
   "id": "a66f1dcc-0778-4584-8e95-9a0be4f23c85",
   "metadata": {},
   "outputs": [],
   "source": [
    "import numpy as np\n",
    "import matplotlib.pyplot as plt\n",
    "plt.rcParams['figure.figsize']=(4,3)"
   ]
  },
  {
   "cell_type": "code",
   "execution_count": 35,
   "id": "5bf603fe-1be4-47ea-8543-b1f51a04b375",
   "metadata": {},
   "outputs": [
    {
     "data": {
      "image/png": "[encoded data removed]",
      "text/plain": [
       "<Figure size 400x300 with 1 Axes>"
      ]
     },
     "metadata": {},
     "output_type": "display_data"
    }
   ],
   "source": [
    "# criando uma lista de pontos para o gráfico \n",
    "x = np.linspace(0, 2*np.pi, 50)\n",
    "\n",
    "xi = np.linspace(0, 2*np.pi, 25)\n",
    "h=(xi[-1]-xi[0])/(len(xi)-1)\n",
    "f = lambda x: np.sin(x)**2\n",
    "\n",
    "# calculando as derivadas 2ªs numéricas com 2 pontos\n",
    "dxi = (f(xi[2:])-f(xi[:-2]))/(2*h)\n",
    "\n",
    "plt.plot(x,2*np.sin(x)*np.cos(x), '-',color='k', linewidth=0.5) \n",
    "plt.plot(xi[1:-1], dxi, ':', color='r', linewidth=1.5)\n",
    "plt.grid()"
   ]
  },
  {
   "cell_type": "markdown",
   "id": "32a59016",
   "metadata": {},
   "source": [
    "### 9.2 Derivada de 2ª ordem em uma variável\n",
    "\n",
    "Da mesma forma que a derivada primeira pode ser aproximada em termos da variação da função em dois pontos, a derivada segunda pode ser aproximada em termos da variação na derivada primeira em dois pontos. Por exemplo, considerando as expanções em série de Taylor de $f$ em torno de $x_i$ e calculando a função em $x_{i-1}$ e $x_{i+1}$ obtemos:"
   ]
  },
  {
   "cell_type": "markdown",
   "id": "8885627a",
   "metadata": {},
   "source": [
    "$$f(x_{i-1}) = f(x_i) - hf'(x_i) + \\frac{h^2f''(x_i)}{2} - \\frac{h^3f'''(x_i)}{6} + \\dots$$\n",
    "\n",
    "e\n",
    "\n",
    "$$f(x_{i+1}) = f(x_i) + hf'(x_i) + \\frac{h^2f''(x_i)}{2} + \\frac{h^3f'''(x_i)}{6} + \\dots$$\n",
    "\n",
    "Somando as duas equações acima obtemos:\n",
    "\n",
    "$$f(x_{i-1}) + f(x_{i+1}) = 2f(x_i) + h^2f''(x_i) + \\frac{h^4f''''(x_i)}{24} + \\dots$$\n",
    "\n",
    "que, desprezando os termos com derivadas de 4ª ordem ou maiores, nos dá a seguinte aproximação para a derivada\n",
    "segunda:\n",
    "\n",
    "\n",
    "$$ f''(x_i) \\approx \\frac{f(x_{i+1}) - 2f(x_i) + f(x_{i-1})}{h^2}$$"
   ]
  },
  {
   "cell_type": "markdown",
   "id": "0182fc70",
   "metadata": {},
   "source": [
    "**Exemplo 9.2:** A derivada segunda de $f(x)=sen^2(x)$ é dada por $f''(x)=2\\left(-\\sin ^2(x)+\\cos ^2(x)\\right)$. Vamos calcular as derivadas numericamente usando 2 pontos em torno de $x_i$  em um conjunto de 21 pontos de discretização do intervalo $[0, 2\\pi]$ e comparar os gráficos."
   ]
  },
  {
   "cell_type": "code",
   "execution_count": 33,
   "id": "84238092-ddc3-427c-b67d-8a4a2ca4b47c",
   "metadata": {},
   "outputs": [
    {
     "data": {
      "text/latex": [
       "$\\displaystyle 2 \\left(- \\sin^{2}{\\left(x \\right)} + \\cos^{2}{\\left(x \\right)}\\right)$"
      ],
      "text/plain": [
       "2*(-sin(x)**2 + cos(x)**2)"
      ]
     },
     "execution_count": 33,
     "metadata": {},
     "output_type": "execute_result"
    }
   ],
   "source": [
    "x = sp.symbols('x')\n",
    "(sp.sin(x)**2).diff(x,x)"
   ]
  },
  {
   "cell_type": "code",
   "execution_count": 34,
   "id": "09cea365",
   "metadata": {},
   "outputs": [
    {
     "data": {
      "image/png": "[encoded data removed]",
      "text/plain": [
       "<Figure size 400x300 with 1 Axes>"
      ]
     },
     "metadata": {},
     "output_type": "display_data"
    }
   ],
   "source": [
    "# criando uma lista de pontos para o gráfico \n",
    "x = np.linspace(0, 2*np.pi, 50)\n",
    "\n",
    "xi = np.linspace(0, 2*np.pi, 25)\n",
    "h=(xi[-1]-xi[0])/(len(xi)-1)\n",
    "f = lambda x: np.sin(x)*np.sin(x)\n",
    "\n",
    "# calculando as derivadas 2ªs numéricas com 2 pontos\n",
    "dxi2 = (f(xi[2:])-2*f(xi[1:-1])+f(xi[0:-2]))/(h**2)\n",
    "\n",
    "plt.plot(x,2*(-np.sin(x)**2+np.cos(x)**2), '-',color='k', linewidth=0.5) \n",
    "plt.plot(xi[1:-1], dxi2, ':', color='r', linewidth=1.5)\n",
    "plt.grid()"
   ]
  },
  {
   "cell_type": "markdown",
   "id": "affdfb68",
   "metadata": {},
   "source": [
    "### 9.3 Método de diferenças finitas para EDOs de 2ª ordem\n",
    "\n",
    "Consiste na reformulação do problema contínuo em um problema discreto usando fórmulas de diferenças finitas tomadas sobre uma malha discretizada do domínio do problema.\n",
    "\n",
    "Vamos apresentar esse método por meio de um exemplo (adaptado de https://www.ufrgs.br/reamat/CalculoNumerico)."
   ]
  },
  {
   "cell_type": "markdown",
   "id": "44a77069",
   "metadata": {},
   "source": [
    "**Exemplo 9.3:** Seja o problema de valor de contorno $-y'' = 100(x-1)^2$, $0<x<1$, $y(0)=0$ e $y(1)=0$.\n",
    "\n",
    "Vamos usar a fórmula de diferenças finitas central de ordem 2 para discretizar a derivada em uma malha uniforme de 11 pontos. "
   ]
  },
  {
   "cell_type": "code",
   "execution_count": 37,
   "id": "995d74fc",
   "metadata": {},
   "outputs": [
    {
     "name": "stdout",
     "output_type": "stream",
     "text": [
      "[0.  0.1 0.2 0.3 0.4 0.5 0.6 0.7 0.8 0.9 1. ]\n"
     ]
    }
   ],
   "source": [
    "xi = np.linspace(0, 1, 11)\n",
    "print(xi)"
   ]
  },
  {
   "cell_type": "markdown",
   "id": "87375775",
   "metadata": {},
   "source": [
    "A fórmula de diferenças finitas de ordem 2 nos diz que\n",
    "\n",
    "$$ y''(x_i) \\approx \\frac{y_{i-1} - 2y_i + y_{i+1}}{h^2}$$\n",
    "\n",
    "substituindo na equação $-y'' = 100(x-1)^2$, obtemos:\n",
    "\n",
    "$$-\\frac{y_{i-1} - 2y_i + y_{i+1}}{h^2} = 100(x_i-1)^2$$\n",
    "\n",
    "como $h = 0,1$ podemos escrever \n",
    "\n",
    "$$y_{i-1} - 2y_i + y_{i+1} = (x_i-1)^2$$\n",
    "\n",
    "fazendo $i=1,...,9$ na equação acima, juntamente com as condições de contorno $y_0=0$ e $y_{10}= 0$, obtemos o seguinte sistema linear 11x11."
   ]
  },
  {
   "cell_type": "markdown",
   "id": "a75b41e3",
   "metadata": {},
   "source": [
    "$$ \\begin{cases} \n",
    "y_{0} = 0\\\\\n",
    "y_{0} -2 y_{1} + y_{2}  = (-0,9)^2\\\\ \n",
    "y_{1} -2 y_{2} + y_{3}  = (-0,8)^2\\\\ \n",
    "y_{2} -2 y_{3} + y_{4}  = (-0,7)^2\\\\ \n",
    "\\vdots\\\\\n",
    "y_{8} -2 y_{9} + y_{10}  = (-0,1)^2\\\\ \n",
    "y_{10} = 0\\\\ \n",
    "\\end{cases} $$\n"
   ]
  },
  {
   "cell_type": "markdown",
   "id": "1bfc27ec",
   "metadata": {},
   "source": [
    "cujas matrizes podem ser obtidas como é mostrado a seguir"
   ]
  },
  {
   "cell_type": "code",
   "execution_count": 28,
   "id": "776ba912",
   "metadata": {},
   "outputs": [
    {
     "name": "stdout",
     "output_type": "stream",
     "text": [
      "[[ 1.  0.  0.  0.  0.  0.  0.  0.  0.  0.  0.]\n",
      " [ 1. -2.  1.  0.  0.  0.  0.  0.  0.  0.  0.]\n",
      " [ 0.  1. -2.  1.  0.  0.  0.  0.  0.  0.  0.]\n",
      " [ 0.  0.  1. -2.  1.  0.  0.  0.  0.  0.  0.]\n",
      " [ 0.  0.  0.  1. -2.  1.  0.  0.  0.  0.  0.]\n",
      " [ 0.  0.  0.  0.  1. -2.  1.  0.  0.  0.  0.]\n",
      " [ 0.  0.  0.  0.  0.  1. -2.  1.  0.  0.  0.]\n",
      " [ 0.  0.  0.  0.  0.  0.  1. -2.  1.  0.  0.]\n",
      " [ 0.  0.  0.  0.  0.  0.  0.  1. -2.  1.  0.]\n",
      " [ 0.  0.  0.  0.  0.  0.  0.  0.  1. -2.  1.]\n",
      " [ 0.  0.  0.  0.  0.  0.  0.  0.  0.  0.  1.]]\n"
     ]
    }
   ],
   "source": [
    "A = np.identity(11)\n",
    "for i in range(1,10):\n",
    "    A[i,i-1:i+2] = np.array([1,-2,1])\n",
    "print(A)"
   ]
  },
  {
   "cell_type": "code",
   "execution_count": 29,
   "id": "0dc6a9cc",
   "metadata": {},
   "outputs": [
    {
     "data": {
      "text/plain": [
       "array([ 0.  , -0.81, -0.64, -0.49, -0.36, -0.25, -0.16, -0.09, -0.04,\n",
       "       -0.01, -0.  ])"
      ]
     },
     "execution_count": 29,
     "metadata": {},
     "output_type": "execute_result"
    }
   ],
   "source": [
    "b = -(xi-1)**2\n",
    "b[0]=0\n",
    "b"
   ]
  },
  {
   "cell_type": "markdown",
   "id": "fefcb761",
   "metadata": {},
   "source": [
    "A solução pode ser obtida fazendo"
   ]
  },
  {
   "cell_type": "code",
   "execution_count": 30,
   "id": "7b5f6437",
   "metadata": {},
   "outputs": [
    {
     "data": {
      "text/plain": [
       "array([ 0.   ,  2.025,  3.24 ,  3.815,  3.9  ,  3.625,  3.1  ,  2.415,\n",
       "        1.64 ,  0.825, -0.   ])"
      ]
     },
     "execution_count": 30,
     "metadata": {},
     "output_type": "execute_result"
    }
   ],
   "source": [
    "yi= np.linalg.solve(A,b)\n",
    "yi"
   ]
  },
  {
   "cell_type": "markdown",
   "id": "b59052ee",
   "metadata": {},
   "source": [
    "Esta é a solução numérica do problema de valor de contorno dado. Podemos obter a solução analítica usando SymPy e plotar os fráficos para comparar os resultados."
   ]
  },
  {
   "cell_type": "code",
   "execution_count": 38,
   "id": "fb06b810",
   "metadata": {},
   "outputs": [
    {
     "data": {
      "image/png": "[encoded data removed]",
      "text/latex": [
       "$\\displaystyle y{\\left(x \\right)} = - \\frac{25 x^{4}}{3} + \\frac{100 x^{3}}{3} - 50 x^{2} + 25 x$"
      ],
      "text/plain": [
       "             4        3               \n",
       "         25⋅x    100⋅x        2       \n",
       "y(x) = - ───── + ────── - 50⋅x  + 25⋅x\n",
       "           3       3                  "
      ]
     },
     "execution_count": 38,
     "metadata": {},
     "output_type": "execute_result"
    }
   ],
   "source": [
    "import sympy as sp\n",
    "sp.init_printing()\n",
    "\n",
    "x = sp.symbols('x')\n",
    "y = sp.Function('y')(x)\n",
    "eq = y.diff(x,x)+100*(x-1)**2\n",
    "sol = sp.dsolve(eq, y, ics={y.subs(x, 0):0, y.subs(x, 1): 0})\n",
    "sol"
   ]
  },
  {
   "cell_type": "code",
   "execution_count": 37,
   "id": "131f1d3c",
   "metadata": {},
   "outputs": [
    {
     "data": {
      "image/png": "[encoded data removed]",
      "text/plain": [
       "<Figure size 432x288 with 1 Axes>"
      ]
     },
     "metadata": {
      "needs_background": "light"
     },
     "output_type": "display_data"
    }
   ],
   "source": [
    "# converte de simbólico para numérico\n",
    "y_ex = sp.lambdify(x,sol.rhs)\n",
    "# plota\n",
    "plt.plot(xi,yi,'.-', xi, y_ex(xi))\n",
    "plt.grid()"
   ]
  },
  {
   "cell_type": "code",
   "execution_count": 40,
   "id": "9ccaa6c7",
   "metadata": {},
   "outputs": [
    {
     "name": "stdout",
     "output_type": "stream",
     "text": [
      "Erro quadrático médio: 0.0002104166666666658\n"
     ]
    }
   ],
   "source": [
    "err = np.mean((yi-y_ex(xi))**2)\n",
    "print('Erro quadrático médio:',err)"
   ]
  },
  {
   "cell_type": "markdown",
   "id": "c57b4a5c",
   "metadata": {},
   "source": [
    "Agora, juntando tudo em um único script, usando um número maior de pontos, obtemos:"
   ]
  },
  {
   "cell_type": "code",
   "execution_count": 47,
   "id": "e7ff8ac4",
   "metadata": {},
   "outputs": [
    {
     "name": "stdout",
     "output_type": "stream",
     "text": [
      "Erro quadrático médio (101 pontos): 2.2918958339434085e-08\n"
     ]
    },
    {
     "data": {
      "image/png": "[encoded data removed]",
      "text/plain": [
       "<Figure size 432x288 with 1 Axes>"
      ]
     },
     "metadata": {
      "needs_background": "light"
     },
     "output_type": "display_data"
    }
   ],
   "source": [
    "N = 101\n",
    "h = 1/(N-1)\n",
    "xi = np.linspace(0, 1, N)\n",
    "A = np.identity(N)\n",
    "\n",
    "for i in range(1,N-1):\n",
    "    A[i,i-1:i+2] = np.array([1,-2,1])\n",
    "\n",
    "b = -(100*h**2)*(xi-1)**2\n",
    "b[0]=0\n",
    "\n",
    "yi= np.linalg.solve(A,b)\n",
    "y_ex = -25*xi**4/3 + 100*xi**3/3 - 50*xi**2 + 25*xi\n",
    "\n",
    "err = np.mean((yi-y_ex)**2)\n",
    "print('Erro quadrático médio (101 pontos):',err)\n",
    "\n",
    "plt.plot(xi,yi,'r-', lw=1)\n",
    "plt.plot(xi,y_ex,'b,', )\n",
    "plt.grid()\n",
    "plt.show()"
   ]
  },
  {
   "cell_type": "markdown",
   "id": "6e23475c",
   "metadata": {},
   "source": [
    "**Exemplo 9.4:** Use o método de diferenças finitas para resolver o seguinte problema de valor de contorno:\n",
    "\n",
    "$$ \\begin{cases} \n",
    "-y'' + y= e^{-x} \\,\\text{, } \\,\\,\\,0,5<x<1,5\\\\\n",
    "y(0,5)= 1\\\\ \n",
    "y(1,5)= 2\n",
    "\\end{cases} $$\n",
    "\n",
    "Para tanto, use a fórmula de diferenças finitas central de ordem 2 para discretizar a derivada em uma malha uniforme com passo $h=0,1$. Faça, então, um esboço do gráfico da solução computada."
   ]
  },
  {
   "cell_type": "markdown",
   "id": "0652a25d",
   "metadata": {},
   "source": [
    "Substituindo $ y''(x_i)$ por $\\frac{y_{i-1}-2y_i+y_{i+1}}{h^2}$, com $h=0,1$, na equação e simplificando obtém-se um sistema linear. "
   ]
  },
  {
   "cell_type": "markdown",
   "id": "d666a658",
   "metadata": {},
   "source": [
    "As equações do sistema serão dadas por \n",
    "\n",
    "\n",
    "$$ \\begin{cases} \n",
    "y_0 = 1\\\\\n",
    "-y_0 + 2,01y_1 - y_1= 0,01e^{-0,1}\\\\ \n",
    "-y_1 + 2,01y_2 - y_3= 0,01e^{-0,2}\\\\ \n",
    "-y_2 + 2,01y_3 - y_4= 0,01e^{-0,3}\\\\ \n",
    "\\vdots \\\\\n",
    "-y_8 + 2,01y_9 + y_{10}= 0,01e^{-0,9}\\\\\n",
    "y_{10}= 2\n",
    "\\end{cases} $$"
   ]
  },
  {
   "cell_type": "markdown",
   "id": "4c170737",
   "metadata": {},
   "source": [
    "Computacionalmente podemos encontrar a solução seguindo os passos descritos a seguir. Primeiro entramos com os dados do problema."
   ]
  },
  {
   "cell_type": "code",
   "execution_count": 48,
   "id": "477e3753",
   "metadata": {},
   "outputs": [],
   "source": [
    "N = 11\n",
    "x0 = 0.5\n",
    "xn = 1.5\n",
    "h = (xn-x0)/(N-1)\n",
    "xi = np.linspace(x0, xn, N)  "
   ]
  },
  {
   "cell_type": "markdown",
   "id": "a4883a9a",
   "metadata": {},
   "source": [
    "Então construímos as matrizes $A$ e $b$.\n"
   ]
  },
  {
   "cell_type": "code",
   "execution_count": 49,
   "id": "81e3817e",
   "metadata": {},
   "outputs": [
    {
     "name": "stdout",
     "output_type": "stream",
     "text": [
      "[[ 1.    0.    0.    0.    0.    0.    0.    0.    0.    0.    0.  ]\n",
      " [-1.    2.01 -1.    0.    0.    0.    0.    0.    0.    0.    0.  ]\n",
      " [ 0.   -1.    2.01 -1.    0.    0.    0.    0.    0.    0.    0.  ]\n",
      " [ 0.    0.   -1.    2.01 -1.    0.    0.    0.    0.    0.    0.  ]\n",
      " [ 0.    0.    0.   -1.    2.01 -1.    0.    0.    0.    0.    0.  ]\n",
      " [ 0.    0.    0.    0.   -1.    2.01 -1.    0.    0.    0.    0.  ]\n",
      " [ 0.    0.    0.    0.    0.   -1.    2.01 -1.    0.    0.    0.  ]\n",
      " [ 0.    0.    0.    0.    0.    0.   -1.    2.01 -1.    0.    0.  ]\n",
      " [ 0.    0.    0.    0.    0.    0.    0.   -1.    2.01 -1.    0.  ]\n",
      " [ 0.    0.    0.    0.    0.    0.    0.    0.   -1.    2.01 -1.  ]\n",
      " [ 0.    0.    0.    0.    0.    0.    0.    0.    0.    0.    1.  ]]\n"
     ]
    }
   ],
   "source": [
    "A = np.zeros((N,N))  \n",
    "b = np.zeros(N)  \n",
    " \n",
    "A[0,0] = 1  \n",
    "b[0] = 1  \n",
    "\n",
    "for i in np.arange(1,N-1):\n",
    "    A[i,i-1] = -1  \n",
    "    A[i,i] = 2+h**2\n",
    "    A[i,i+1] = -1  \n",
    "    b[i] = h**2*np.exp(-xi[i])  \n",
    "A[N-1,N-1] = 1  \n",
    "b[N-1] = 2  \n",
    "print(A)"
   ]
  },
  {
   "cell_type": "code",
   "execution_count": 50,
   "id": "1048f839",
   "metadata": {},
   "outputs": [
    {
     "name": "stdout",
     "output_type": "stream",
     "text": [
      "[1.         0.00548812 0.00496585 0.00449329 0.0040657  0.00367879\n",
      " 0.00332871 0.00301194 0.00272532 0.00246597 2.        ]\n"
     ]
    }
   ],
   "source": [
    "print(b)"
   ]
  },
  {
   "cell_type": "markdown",
   "id": "4b44aaae",
   "metadata": {},
   "source": [
    "resolvendo o sistema"
   ]
  },
  {
   "cell_type": "code",
   "execution_count": 51,
   "id": "2d97085d",
   "metadata": {},
   "outputs": [
    {
     "name": "stdout",
     "output_type": "stream",
     "text": [
      "[1.         1.06189437 1.12891956 1.2022681  1.28314602 1.37278972\n",
      " 1.47248251 1.58357142 1.7074841  1.8457463  2.        ]\n"
     ]
    }
   ],
   "source": [
    "yi = np.linalg.solve(A,b)  \n",
    "print(yi)"
   ]
  },
  {
   "cell_type": "markdown",
   "id": "af95af46",
   "metadata": {},
   "source": [
    "Antes de plotar a solução numérica obtida, vamos encontrar a solução analítica usando `sympy`"
   ]
  },
  {
   "cell_type": "code",
   "execution_count": 58,
   "id": "f8db0171",
   "metadata": {},
   "outputs": [
    {
     "data": {
      "image/png": "[encoded data removed]",
      "text/latex": [
       "$\\displaystyle y{\\left(x \\right)} = \\left(\\frac{x}{2} + 0.332107241263667\\right) e^{- x} + 0.392385373094705 e^{x}$"
      ],
      "text/plain": [
       "       ⎛x                    ⎞  -x                      x\n",
       "y(x) = ⎜─ + 0.332107241263667⎟⋅ℯ   + 0.392385373094705⋅ℯ \n",
       "       ⎝2                    ⎠                           "
      ]
     },
     "execution_count": 58,
     "metadata": {},
     "output_type": "execute_result"
    }
   ],
   "source": [
    "x = sp.symbols('x')\n",
    "y = sp.Function('y')(x)\n",
    "eq = -y.diff(x,x)+y-sp.exp(-x)\n",
    "sol = sp.dsolve(eq, y, ics={y.subs(x, 0.5):1, y.subs(x, 1.5): 2})\n",
    "sol"
   ]
  },
  {
   "cell_type": "markdown",
   "id": "8c347546",
   "metadata": {},
   "source": [
    "Calculando o erro quadrático médio"
   ]
  },
  {
   "cell_type": "code",
   "execution_count": 59,
   "id": "fcfedfd0",
   "metadata": {},
   "outputs": [
    {
     "name": "stdout",
     "output_type": "stream",
     "text": [
      "Erro quadrático médio (11 pontos): 1.8502912502771752e-09\n"
     ]
    }
   ],
   "source": [
    "y_ex =(xi/2 + 0.332107241263667)*np.exp(-xi) + 0.392385373094705*np.exp(xi)\n",
    "\n",
    "err = np.mean((yi-y_ex)**2)\n",
    "print('Erro quadrático médio (11 pontos):',err)"
   ]
  },
  {
   "cell_type": "markdown",
   "id": "4b9aa73b",
   "metadata": {},
   "source": [
    "Plotando a solução numérica e a solução analítica"
   ]
  },
  {
   "cell_type": "code",
   "execution_count": 60,
   "id": "cf50741b",
   "metadata": {},
   "outputs": [
    {
     "data": {
      "image/png": "[encoded data removed]",
      "text/plain": [
       "<Figure size 432x288 with 1 Axes>"
      ]
     },
     "metadata": {
      "needs_background": "light"
     },
     "output_type": "display_data"
    }
   ],
   "source": [
    "plt.plot(xi,yi,'rx', xi, y_ex,'b--' )\n",
    "plt.grid()\n",
    "plt.show()"
   ]
  },
  {
   "cell_type": "code",
   "execution_count": null,
   "id": "61468aff",
   "metadata": {},
   "outputs": [],
   "source": []
  },
  {
   "cell_type": "markdown",
   "id": "c7b27ad8",
   "metadata": {},
   "source": [
    "**Exemplo 9.5:** Considere o seguinte problema de valor de contorno para a equação de calor no estado estacionário \n",
    "\n",
    "$$ \\begin{cases} \n",
    "-y'' = 200e^{-(x-1)^2} \\,\\text{, } \\,\\,\\,0<x<2\\\\\n",
    "y'(0)=0\\\\ \n",
    "y(2)=100\n",
    "\\end{cases} $$\n",
    "\n",
    "Aproxime a derivada segunda por um esquema de segunda ordem, a derivada primeira na fronteira por um esquema de primeira ordem e transforme a equação diferencial em um sistema de equações lineares. Resolva o sistema linear obtido."
   ]
  },
  {
   "cell_type": "markdown",
   "id": "6897e61d",
   "metadata": {},
   "source": [
    "*Solução exata com* `sympy`:"
   ]
  },
  {
   "cell_type": "code",
   "execution_count": 61,
   "id": "183187f5",
   "metadata": {},
   "outputs": [
    {
     "data": {
      "image/png": "[encoded data removed]",
      "text/latex": [
       "$\\displaystyle y{\\left(x \\right)} = - 100 \\sqrt{\\pi} x \\operatorname{erf}{\\left(1 \\right)} - 100 \\sqrt{\\pi} \\left(x \\operatorname{erf}{\\left(x - 1 \\right)} + \\frac{e^{2 x} e^{- x^{2}}}{e \\sqrt{\\pi}} - \\operatorname{erf}{\\left(x - 1 \\right)}\\right) + \\frac{100}{e} + 100 + 300 \\sqrt{\\pi} \\operatorname{erf}{\\left(1 \\right)}$"
      ],
      "text/plain": [
       "                                 ⎛                           2             ⎞  \n",
       "                                 ⎜                -1  2⋅x  -x              ⎟  \n",
       "                                 ⎜               ℯ  ⋅ℯ   ⋅ℯ                ⎟  \n",
       "y(x) = -100⋅√π⋅x⋅erf(1) - 100⋅√π⋅⎜x⋅erf(x - 1) + ───────────── - erf(x - 1)⎟ +\n",
       "                                 ⎝                     √π                  ⎠  \n",
       "\n",
       "                              \n",
       "                              \n",
       "      -1                      \n",
       " 100⋅ℯ   + 100 + 300⋅√π⋅erf(1)\n",
       "                              "
      ]
     },
     "execution_count": 61,
     "metadata": {},
     "output_type": "execute_result"
    }
   ],
   "source": [
    "x = sp.symbols('x')\n",
    "y = sp.Function('y')(x)\n",
    "eq = y.diff(x,x) + 200*sp.exp(-(x-1)**2)\n",
    "sol = sp.dsolve(eq, y, ics={y.diff(x).subs(x, 0):0, y.subs(x, 2): 100})\n",
    "sol"
   ]
  },
  {
   "cell_type": "markdown",
   "id": "e403f680",
   "metadata": {},
   "source": [
    "Observe que a solução não pode ser expressa em termos de funções elementares. Nesse caso, a resolução numérica é a abordagem mais indicada."
   ]
  },
  {
   "cell_type": "markdown",
   "id": "a5e4efb9",
   "metadata": {},
   "source": [
    "*Solução numérica:*\n",
    "\n",
    "Escolhendo uma discretização em 21 pontos no intervalo de 0 a 2, temos $h=0,2$. O esquema de fiferenças finitas de 1ª ordem na fronteira esquerda será dado pela equação\n",
    "\n",
    "$$y'(x_i)\\approx\\ \\frac{f(x_{i+1})-f(x_i)}{h}  \\,\\,\\,\\,\\,\\text{ou} \\,\\,\\,\\, y'_0=0\\approx\\frac{y_1-y_0}{0,1}$$\n",
    "\n",
    "assim as equações fornecidas pelas condições de contorno são\n",
    "\n",
    "$$ y_1-y_0 = 0 \\,\\,\\,\\,\\,\\text{e} \\,\\,\\,\\, y_{20}=100$$\n",
    "\n",
    "As demais equações serão fornecidas pelo esquema de segunda ordem, ou seja, serão dadas por\n",
    "\n",
    "$$ y''(x_i)= 200e^{-(xi-1)^2} \\approx \\frac{y_{i-1}-2y_i+y_{i+1}}{h^2}$$\n",
    "\n",
    "que leva a \n",
    "\n",
    "$$ y_{i-1}-2y_i+y_{i+1}=2e^{-(xi-1)^2}  \\,\\,\\,\\,\\,\\text{para} \\,\\,\\,\\, i=1,...,19$$\n",
    "\n"
   ]
  },
  {
   "cell_type": "markdown",
   "id": "7f5840fa",
   "metadata": {},
   "source": [
    "Temos, portanto\n",
    "\n",
    "$$ \\begin{cases} \n",
    "y_0 - y_1 = 0\\\\\n",
    "y_1 - 2y_1 + y_1= 2e^{-(0,2-1)^2}\\\\\n",
    "y_2 - 2y_2 + y_3= 2e^{-(0,4-1)^2}\\\\\n",
    "\\vdots \\\\\n",
    "y_{18} - 2y_{18} + y_{19}= 2e^{-(1,6-1)^2}\\\\\n",
    "y_{19} - 2y_{18} + y_{19}= 2e^{-(1,8-1)^2}\\\\\n",
    "y_{20}= 100\n",
    "\\end{cases} $$\n"
   ]
  },
  {
   "cell_type": "code",
   "execution_count": null,
   "id": "21999d6c-954b-4890-89cb-7531eda84073",
   "metadata": {},
   "outputs": [],
   "source": [
    "N = 11\n",
    "x0 = 0.0\n",
    "xn = 2.0\n",
    "h = (xn-x0)/(N-1)\n",
    "xi = np.linspace(x0, xn, N)  \n",
    "print('xi=',xi)\n",
    "\n",
    "A = np.zeros((N,N))  \n",
    "b = np.zeros(N)  \n",
    " \n",
    "# Condições de contorno\n",
    "A[0,0] = 1\n",
    "A[0,1] = -1\n",
    "A[N-1,N-1] = 1\n",
    "b[0] = 0\n",
    "b[N-1] = 100\n",
    "\n",
    "# montando as matrizes A e b\n",
    "for i in np.arange(1,N-1):\n",
    "    A[i,i-1] = 1  \n",
    "    A[i,i] = -2\n",
    "    A[i,i+1] = 1  \n",
    "    b[i] = 2*np.exp(-(xi[i]-1)**2)  \n",
    "print('A=',A)\n",
    "\n",
    "#resolvendo o sistema\n",
    "yi = np.linalg.solve(A,b)  \n",
    "print('yi=',yi)\n",
    "\n",
    "#plotando\n",
    "plt.plot(xi,yi)\n",
    "plt.grid()\n",
    "plt.show()"
   ]
  },
  {
   "cell_type": "markdown",
   "id": "6f8a5cf9-124e-41b6-a6e5-b2d5bb731a67",
   "metadata": {},
   "source": [
    "**Exemplo 9.6:** ([Burden, Richard, L. et al., 2016](https://integrada.minhabiblioteca.com.br/reader/books/9788522123414/pageid/783)) Dado o problema de contorno de segunda ordem linear\n",
    "\n",
    "$$\n",
    "y^{\\prime \\prime}=p(x) y^{\\prime}+q(x) y+r(x), \\quad \\text { para } a \\leq x \\leq b \\operatorname{com} y(a)=\\alpha \\text { e } y(b)=\\beta,\n",
    "$$\n",
    "\n",
    "a resolução pelo método das diferenças finitas requer aproximações numéricas para $y'$ e $y''$ em um conjunto pontos que dividem o intervalo $[a,b]$ em $N+1$ subintervalos cujos extremos são os pontos $x_i=a+ih$, com $i=0,1,2,...,N+1$ da malha, e $h=(b-a)/(N+1))$.\n",
    "\n",
    "Aproximando $y'$ e $y''$ pela fórmula de diferenças centradas obtemos uma equação na forma\n",
    "\n",
    "$$\n",
    "\\left(\\frac{-y_{i+1}+2 y_i-y_{i-1}}{h^2}\\right)+p\\left(x_i\\right)\\left(\\frac{y_{i+1}-y_{i-1}}{2 h}\\right)+q\\left(x_i\\right) y_i=-r\\left(x_i\\right)\n",
    "$$\n",
    "\n",
    "para cada $i=1,2,...,N$. \n",
    "\n",
    "As equações podem ser reescritas na forma \n",
    "$$\n",
    "-\\left(1+\\frac{h}{2} p\\left(x_i\\right)\\right) y_{i-1}+\\left(2+h^2 q\\left(x_i\\right)\\right) y_i-\\left(1-\\frac{h}{2} p\\left(x_i\\right)\\right) y_{i+1}=-h^2 r\\left(x_i\\right),\n",
    "$$\n",
    "\n",
    "que vai gerar o sistema linear tridiagonal $N \\times N$ cuja solução dará a solução numérica do problema de valor de contorno.  "
   ]
  },
  {
   "cell_type": "markdown",
   "id": "4c94d817-bd44-4008-82ec-cf76653b08d4",
   "metadata": {},
   "source": [
    "Use método apresentado para obter uma aproximação para a solução do problema de contorno\n",
    "\n",
    "$$\n",
    "y^{\\prime \\prime}=-\\frac{2}{x} y^{\\prime}+\\frac{2}{x^2} y+\\frac{\\operatorname{sen}(\\ln x)}{x^2}, \\quad \\text { para } 1 \\leq x \\leq 2, \\operatorname{com} y(1)=1 \\text { e } y(2)=2.\n",
    "$$\n"
   ]
  },
  {
   "cell_type": "code",
   "execution_count": 41,
   "id": "88663401-27c2-4727-9ebb-5cd0cfe5c2d4",
   "metadata": {},
   "outputs": [],
   "source": [
    "a = 1.0\n",
    "b = 2.0\n",
    "ya = 1\n",
    "yb = 2\n",
    "\n",
    "N = 9\n",
    "h = (b-a)/(N+1)\n",
    "A = np.zeros((N,N))\n",
    "b = np.zeros(N)\n",
    "\n",
    "p = lambda x: -2./x\n",
    "q = lambda x: 2./x**2\n",
    "r = lambda x: np.sin(np.log(x))/x**2"
   ]
  },
  {
   "cell_type": "code",
   "execution_count": 42,
   "id": "f6f26d55-34bb-461d-bfe9-516d7da88b08",
   "metadata": {},
   "outputs": [],
   "source": [
    "x = a+h\n",
    "A[0,0] = 2+h**2*q(x)\n",
    "A[0,1] = -1+(h/2)*p(x)\n",
    "b[0] = -h**2*r(x)+(1+(h/2)*p(x))*ya\n",
    "#print(x)\n",
    "\n",
    "for i in range(1,N-1):\n",
    "    x = a+(i+1)*h\n",
    "    A[i,i-1] = -1-(h/2)*p(x)\n",
    "    A[i,i] = 2+h**2*q(x) \n",
    "    A[i,i+1] = -1+(h/2)*p(x)\n",
    "    b[i] = -h**2*r(x)\n",
    "    #print(x)\n",
    "    \n",
    "x = a+(N)*h\n",
    "#print (x)\n",
    "A[N-1,N-2] = -1-(h/2)*p(x)\n",
    "A[N-1,N-1] = 2+h**2*q(x)\n",
    "b[N-1] = -h**2*r(x)+(1-(h/2)*p(x))*yb"
   ]
  },
  {
   "cell_type": "code",
   "execution_count": 43,
   "id": "606a8794-d55c-4144-b2bf-b15a47c382c6",
   "metadata": {},
   "outputs": [
    {
     "name": "stdout",
     "output_type": "stream",
     "text": [
      "[[ 2.017 -1.091  0.     0.     0.     0.     0.     0.     0.   ]\n",
      " [-0.917  2.014 -1.083  0.     0.     0.     0.     0.     0.   ]\n",
      " [ 0.    -0.923  2.012 -1.077  0.     0.     0.     0.     0.   ]\n",
      " [ 0.     0.    -0.929  2.01  -1.071  0.     0.     0.     0.   ]\n",
      " [ 0.     0.     0.    -0.933  2.009 -1.067  0.     0.     0.   ]\n",
      " [ 0.     0.     0.     0.    -0.938  2.008 -1.062  0.     0.   ]\n",
      " [ 0.     0.     0.     0.     0.    -0.941  2.007 -1.059  0.   ]\n",
      " [ 0.     0.     0.     0.     0.     0.    -0.944  2.006 -1.056]\n",
      " [ 0.     0.     0.     0.     0.     0.     0.    -0.947  2.006]]\n",
      "[ 9.080e-01 -1.000e-03 -2.000e-03 -2.000e-03 -2.000e-03 -2.000e-03\n",
      " -2.000e-03 -2.000e-03  2.104e+00]\n"
     ]
    }
   ],
   "source": [
    "print (np.round(A,3))\n",
    "print (np.round(b,3))"
   ]
  },
  {
   "cell_type": "code",
   "execution_count": 44,
   "id": "d8d8f8e7-ecf1-44c9-8e62-c1d3d3a96ba3",
   "metadata": {},
   "outputs": [
    {
     "data": {
      "text/plain": [
       "array([1.09260052, 1.18704313, 1.28333687, 1.38140205, 1.48112026,\n",
       "       1.5823599 , 1.68498902, 1.78888175, 1.8939211 ])"
      ]
     },
     "execution_count": 44,
     "metadata": {},
     "output_type": "execute_result"
    }
   ],
   "source": [
    "np.linalg.solve(A,b)"
   ]
  },
  {
   "cell_type": "markdown",
   "id": "d6cf6430",
   "metadata": {},
   "source": [
    "### Exercícios:\n",
    "\n",
    "(Adaptados de https://www.ufrgs.br/reamat/CalculoNumerico)**:**"
   ]
  },
  {
   "cell_type": "markdown",
   "id": "91620d03",
   "metadata": {},
   "source": [
    "**1.** Considere o seguinte problema de valor de contorno para a equação de calor no estado estacionário \n",
    "\n",
    "$$ \\begin{cases} \n",
    "-y'' = 200e^{-(x-1)^2} \\,\\text{, } \\,\\,\\,0<x<2\\\\\n",
    "y(0)=120\\\\ \n",
    "y(2)=100\n",
    "\\end{cases} $$\n",
    "\n",
    "Aproxime a derivada segunda por um esquema de segunda ordem, a derivada primeira na fronteira por um esquema de primeira ordem e transforme a equação diferencial em um sistema de equações lineares. Resolva o sistema linear obtido. Use uma discretização com 21 pontos."
   ]
  },
  {
   "cell_type": "code",
   "execution_count": null,
   "id": "e30abb75",
   "metadata": {},
   "outputs": [],
   "source": []
  },
  {
   "cell_type": "markdown",
   "id": "12a92bce",
   "metadata": {},
   "source": [
    "**2.** Considere o seguinte problema de valor de contorno para a equação de calor no estado estacionário com um termo não linear de radiação\n",
    "\n",
    "$$-y'' = 100 - \\frac{y^4}{10000} \\,\\text{, } \\,\\,\\,0<x<2$$\n",
    "$$y(0)=0 \\,\\,\\,\\text{e}\\,\\,\\, y(2)=10$$\n",
    "\n",
    "Aproxime a derivada segunda por um esquema de segunda ordem, a derivada primeira na fronteira por um esquema de primeira ordem e transforme a equação diferencial em um sistema de equações lineares. Resolva o sistema linear obtido."
   ]
  },
  {
   "cell_type": "code",
   "execution_count": null,
   "id": "607b65ca",
   "metadata": {},
   "outputs": [],
   "source": []
  },
  {
   "cell_type": "markdown",
   "id": "3c7f0b81",
   "metadata": {},
   "source": [
    "**3.** Considere o seguinte problema de valor de contorno para a equação de calor no estado estacionário com um termo não linear de radiação e um termo de convecção\n",
    "\n",
    "$$-y'' +3y'= 100 - \\frac{y^4}{10000} \\,\\text{, } \\,\\,\\,0<x<2$$\n",
    "$$y'(0)=0 \\,\\,\\,\\text{e}\\,\\,\\, y(2)=10$$\n",
    "\n",
    "Aproxime a derivada segunda por um esquema de segunda ordem, a derivada primeira na fronteira por um esquema de primeira ordem e transforme a equação diferencial em um sistema de equações lineares. Resolva o sistema linear obtido."
   ]
  },
  {
   "cell_type": "code",
   "execution_count": null,
   "id": "1e93db8b-bf79-4d7c-aae0-6c430fd3d9ea",
   "metadata": {},
   "outputs": [],
   "source": []
  },
  {
   "cell_type": "markdown",
   "id": "f6123d4b-a00a-45e2-8936-086169b83b83",
   "metadata": {},
   "source": [
    "**4.** O problema de contorno ([fonte](https://integrada.minhabiblioteca.com.br/reader/books/9788522123414/pageid/789))\n",
    "\n",
    "$$\n",
    "y^{\\prime \\prime}=y^{\\prime}+2 y+\\cos x, \\quad 0 \\leq x \\leq \\frac{\\pi}{2}, \\quad y(0)=-0,3, \\quad y\\left(\\frac{\\pi}{2}\\right)=-0,1,\n",
    "$$\n",
    "\n",
    "tem a solução $y(x)=-\\frac{1}{10}(\\operatorname{sen} x+3 \\cos x)$. Use o método das diferenças finitas linear para obter uma aproximação para a solução e compare os resultados com a solução real. Repita para diferentes valores de $h$."
   ]
  },
  {
   "cell_type": "code",
   "execution_count": null,
   "id": "33a18672-a4d3-4131-84f1-741fab6826bc",
   "metadata": {},
   "outputs": [],
   "source": []
  },
  {
   "cell_type": "markdown",
   "id": "be5fbe30-226c-4adb-9c41-94cd6293fe31",
   "metadata": {},
   "source": [
    "**5.** O problema de contorno ([fonte](https://integrada.minhabiblioteca.com.br/reader/books/9788522123414/pageid/789))\n",
    "\n",
    "$$\n",
    "y^{\\prime \\prime}=4(y-x), \\quad 0 \\leq x \\leq 1, \\quad y(0)=0, \\quad y(1)=2\n",
    "$$\n",
    "\n",
    "tem a solução $y(x)=e^2\\left(e^4-1\\right)^{-1}\\left(e^{2 x}-e^{-2 x}\\right)+x$. Use o método das diferenças finitas linear para obter uma aproximação para a solução e compare os resultados com a solução real. Repita para diferentes valores de $h$."
   ]
  },
  {
   "cell_type": "code",
   "execution_count": null,
   "id": "b5f59883-5caa-46c1-9da8-65694deae876",
   "metadata": {},
   "outputs": [],
   "source": []
  }
 ],
 "metadata": {
  "kernelspec": {
   "display_name": "Python 3 (ipykernel)",
   "language": "python",
   "name": "python3"
  },
  "language_info": {
   "codemirror_mode": {
    "name": "ipython",
    "version": 3
   },
   "file_extension": ".py",
   "mimetype": "text/x-python",
   "name": "python",
   "nbconvert_exporter": "python",
   "pygments_lexer": "ipython3",
   "version": "3.12.4"
  }
 },
 "nbformat": 4,
 "nbformat_minor": 5
}
