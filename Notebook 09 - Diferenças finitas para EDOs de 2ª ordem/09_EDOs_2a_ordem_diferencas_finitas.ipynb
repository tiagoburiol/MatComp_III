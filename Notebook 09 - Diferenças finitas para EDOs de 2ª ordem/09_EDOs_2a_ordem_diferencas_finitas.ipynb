{
 "cells": [
  {
   "cell_type": "markdown",
   "id": "455bc629",
   "metadata": {},
   "source": [
    "## 9. EDOs de 2ª ordem e diferenças finitas\n",
    "\n",
    "### Derivada de 1ª ordem em uma variável"
   ]
  },
  {
   "cell_type": "markdown",
   "id": "07eaaac7",
   "metadata": {},
   "source": [
    "A aproximação numérica para a derivada de 1ª ordem de uma função $y=f(x)$ em um ponto $x_i$ pode ser obtida por diferença finita, em que a inclinação da função é estimada usando valores da função na vizinhança do ponto. \n",
    "\n",
    "Chamamos aproximação _**para frente**_ quando se estima $f'(x_i)$ usando a inclinação da reta secante que passa pelos pontos $(x_i, f(x_i))$ e $(x_{i+1}, f(x_{i+1}))$. A aproximação _**para trás**_ é quando usamos a inclinação da reta que passa pelos pontos $(x_{i-1}, f(x_{i-1}))$ e $(x_{i}, f(x_{i}))$. E a aproximação _**central**_ é quando usamos a inclinação da reta que passa pelos pontos $(x_{i-1}, f(x_{i-1}))$ e $(x_{i+1}, f(x_{i+1}))$.\n",
    "\n",
    "A seguir são mostradas as fórmulas e uma representação geométrica  que ilustra a aproximação de $f'(x_i)$ _para frente_, _para trás_ e _central_ respectivamente: "
   ]
  },
  {
   "cell_type": "markdown",
   "id": "b5831986",
   "metadata": {},
   "source": [
    "\n",
    "$$f'(x_i) \\simeq \\frac{f(x_{i+1}) - f(x_i)}{x_{i+1}-x_i} \\quad\\quad\\quad\\quad\\quad\n",
    "f'(x_i) \\simeq \\frac{f(x_{i}) - f(x_{i-1})}{x_i-x_{i-1}} \\quad\\quad\\quad\\quad\\quad\n",
    "f'(x_i) \\simeq \\frac{f(x_{i+1}) - f(x_{i-1})}{x_{i+1}-x_{i-1}}$$\n",
    "\n",
    "\n",
    "<img src=\"imagens/diffs.png\" width=\"960\">\n"
   ]
  },
  {
   "cell_type": "markdown",
   "id": "b4914954",
   "metadata": {},
   "source": [
    "As fórmulas de diferenças finitas mostradas acima podem ser obtidas a partir da série de Taylor para a função $f(x)$ desenvolvida em torno de $x=x_i$ o que nos fornece"
   ]
  },
  {
   "cell_type": "markdown",
   "id": "67efb0df",
   "metadata": {},
   "source": [
    "$$f(x) = f(x_i) + f'(x_i)(x - x_i) + f''(x_i)\\frac{(x - x_i)^2}{2!} + f'''(x_i)\\frac{(x - x_i)^3}{3!} + \\cdots$$"
   ]
  },
  {
   "cell_type": "markdown",
   "id": "fe80f106",
   "metadata": {},
   "source": [
    "Ao aproximarmos $x_{i+1}$ por $x_i$, se considerarmos $h=x_{i+1}-x_i$ suficientemente pequeno, podemos desprezar os termos de ordem mais alta, proporcionais a $(x_{i+1}-x_i)^2$, $(x_{i+1}-x_i)^3$,$ \\dots$. \n",
    "\n",
    "Assim, a derivada de $f(x)$ em $x_i$ pode ser aproximada por\n",
    "\n",
    "$$f'(x_i) \\approx \\frac{f(x_{i+1}) - f(x_i)}{h} $$\n",
    "\n",
    "Que é exatamente a fórmula para a aproximação _para frente_ da derivada 1ª de $f$. Observe que nessa aproximação foram desprezados os termos \n",
    "\n",
    "$$ O(h^2) = \\frac{f''(x_i)h^2}{2} + \\frac{f'''(x_i)h^3}{6} + \\frac{f''''(x_i)h^4}{24} + \\frac{f'''''(x_i)h^5}{120} +\\cdots$$\n",
    "\n",
    "o que mostra que o erro de truncamento depende de $h$. Quanto menor o _passo_ $h$ menor será o erro, no entanto maior será o esforço computacional, o que impossibilita o cálculo com valores de $h$ próximos de zero. "
   ]
  },
  {
   "cell_type": "markdown",
   "id": "32a59016",
   "metadata": {},
   "source": [
    "### Derivada de 2ª ordem em uma variável\n",
    "\n",
    "Da mesma forma que a derivada primeira pode ser aproximada em termos da variação da função em dois pontos, a derivada segunda pode ser aproximada em termos da variação na derivada primeira em dois pontos. Por exemplo, considerando as expanções em série de Taylor de $f$ em torno de $x_i$ e calculando a função em $x_{i-1}$ e $x_{i+1}$ obtemos:"
   ]
  },
  {
   "cell_type": "markdown",
   "id": "8885627a",
   "metadata": {},
   "source": [
    "$$f(x_{i-1}) = f(x_i) - hf'(x_i) + \\frac{h^2f''(x_i)}{2} - \\frac{h^3f'''(x_i)}{6} + \\dots$$\n",
    "\n",
    "e\n",
    "\n",
    "$$f(x_{i+1}) = f(x_i) + hf'(x_i) + \\frac{h^2f''(x_i)}{2} + \\frac{h^3f'''(x_i)}{6} + \\dots$$\n",
    "\n",
    "Somando as duas equações acima obtemos:\n",
    "\n",
    "$$f(x_{i-1}) + f(x_{i+1}) = 2f(x_i) + h^2f''(x_i) + \\frac{h^4f''''(x_i)}{24} + \\dots$$\n",
    "\n",
    "que, desprezando os termos com derivadas de 4ª ordem ou maiores, nos dá a seguinte aproximação para a derivada\n",
    "segunda:\n",
    "\n",
    "\n",
    "$$ f''(x_i) \\approx \\frac{f(x_{i+1}) - 2f(x_i) + f(x_{i-1})}{h^2}$$"
   ]
  },
  {
   "cell_type": "markdown",
   "id": "0182fc70",
   "metadata": {},
   "source": [
    "**Exemplo 9.1:** A derivada segunda de $f(x)=sen^2(x)$ é dada por $f''(x)=2\\left(-\\sin ^2(x)+\\cos ^2(x)\\right)$. Vamos calcular as derivadas numericamente usando 2 pontos em torno de $x_i$  em um conjunto de 21 pontos de discretização do intervalo $[0, 2\\pi]$ e comparar os gráficos."
   ]
  },
  {
   "cell_type": "code",
   "execution_count": 11,
   "id": "84238092-ddc3-427c-b67d-8a4a2ca4b47c",
   "metadata": {},
   "outputs": [
    {
     "data": {
      "text/latex": [
       "$\\displaystyle 2 \\left(- \\sin^{2}{\\left(x \\right)} + \\cos^{2}{\\left(x \\right)}\\right)$"
      ],
      "text/plain": [
       "2*(-sin(x)**2 + cos(x)**2)"
      ]
     },
     "execution_count": 11,
     "metadata": {},
     "output_type": "execute_result"
    }
   ],
   "source": [
    "import sympy as sp\n",
    "x = sp.symbols('x')\n",
    "(sp.sin(x)**2).diff(x,x)"
   ]
  },
  {
   "cell_type": "code",
   "execution_count": 2,
   "id": "2f9a06bc-6e01-4ef1-878e-d4dddbc22fb2",
   "metadata": {},
   "outputs": [],
   "source": [
    "import numpy as np\n",
    "import matplotlib.pyplot as plt\n",
    "plt.rcParams['figure.figsize']=(4,3)"
   ]
  },
  {
   "cell_type": "code",
   "execution_count": 17,
   "id": "09cea365",
   "metadata": {},
   "outputs": [
    {
     "data": {
      "image/png": "[encoded data removed]",
      "text/plain": [
       "<Figure size 400x300 with 1 Axes>"
      ]
     },
     "metadata": {},
     "output_type": "display_data"
    }
   ],
   "source": [
    "# criando uma lista de pontos para o gráfico \n",
    "x = np.linspace(0, 2*np.pi, 50)\n",
    "\n",
    "xi = np.linspace(0, 2*np.pi, 20)\n",
    "h=(xi[-1]-xi[0])/(len(xi)-1)\n",
    "f = lambda x: np.sin(x)*np.sin(x)\n",
    "\n",
    "# calculando as derivadas 2ªs numéricas com 2 pontos\n",
    "dxi2 = (f(xi[2:])-2*f(xi[1:-1])+f(xi[0:-2]))/(h**2)\n",
    "\n",
    "plt.plot(x,2*(-np.sin(x)**2+np.cos(x)**2), ':',color='r', linewidth=1) \n",
    "plt.plot(xi[1:-1], dxi2, '-', color='k', linewidth=1)\n",
    "plt.grid()"
   ]
  },
  {
   "cell_type": "markdown",
   "id": "affdfb68",
   "metadata": {},
   "source": [
    "### Método de diferenças finitas\n",
    "\n",
    "Consiste na reformulação do problema contínuo em um problema discreto usando fórmulas de diferenças finitas tomadas sobre uma malha discretizada do domínio do problema.\n",
    "\n",
    "Vamos apresentar esse método por meio de um exemplo (adaptado de https://www.ufrgs.br/reamat/CalculoNumerico)."
   ]
  },
  {
   "cell_type": "markdown",
   "id": "44a77069",
   "metadata": {},
   "source": [
    "**Exemplo 3:** Seja o problema de valor de contorno $-y'' = 100(x-1)^2$, $0<x<1$, $y(0)=0$ e $y(1)=0$.\n",
    "\n",
    "Vamos usar a fórmula de diferenças finitas central de ordem 2 para discretizar a derivada em uma malha uniforme de 11 pontos. "
   ]
  },
  {
   "cell_type": "code",
   "execution_count": 27,
   "id": "995d74fc",
   "metadata": {},
   "outputs": [
    {
     "data": {
      "text/plain": [
       "array([0. , 0.1, 0.2, 0.3, 0.4, 0.5, 0.6, 0.7, 0.8, 0.9, 1. ])"
      ]
     },
     "execution_count": 27,
     "metadata": {},
     "output_type": "execute_result"
    }
   ],
   "source": [
    "xi = np.linspace(0, 1, 11)\n",
    "xi"
   ]
  },
  {
   "cell_type": "markdown",
   "id": "87375775",
   "metadata": {},
   "source": [
    "A fórmula de diferenças finitas de ordem 2 nos diz que\n",
    "\n",
    "$$ y''(x_i) \\approx \\frac{y_{i-1} - 2y_i + y_{i+1}}{h^2}$$\n",
    "\n",
    "substituindo na equação, obtemos:\n",
    "\n",
    "$$-\\frac{y_{i-1} - 2y_i + y_{i+1}}{h^2} = 100(x_i-1)^2$$\n",
    "\n",
    "como $h = 0,1$ podemos escrever \n",
    "\n",
    "$$y_{i-1} - 2y_i + y_{i+1} = (x_i-1)^2$$\n",
    "\n",
    "fazendo $i=1,...9$ na equação acima, juntamente com as condições de contorno $y_0=0$ e $y_{10}= 0$, obtemos o seguinte sistema linear 11x11."
   ]
  },
  {
   "cell_type": "markdown",
   "id": "a75b41e3",
   "metadata": {},
   "source": [
    "$$ \\begin{cases} \n",
    "y_{0} = 0\\\\\n",
    "y_{0} -2 y_{1} + y_{2}  = (-0,9)^2\\\\ \n",
    "y_{1} -2 y_{2} + y_{3}  = (-0,8)^2\\\\ \n",
    "y_{2} -2 y_{3} + y_{4}  = (-0,7)^2\\\\ \n",
    "\\vdots\\\\\n",
    "y_{8} -2 y_{9} + y_{10}  = (-0,1)^2\\\\ \n",
    "y_{10} = 0\\\\ \n",
    "\\end{cases} $$\n"
   ]
  },
  {
   "cell_type": "markdown",
   "id": "1bfc27ec",
   "metadata": {},
   "source": [
    "cujas matrizes podem ser obtidas como é mostrado a seguir"
   ]
  },
  {
   "cell_type": "code",
   "execution_count": 28,
   "id": "776ba912",
   "metadata": {},
   "outputs": [
    {
     "name": "stdout",
     "output_type": "stream",
     "text": [
      "[[ 1.  0.  0.  0.  0.  0.  0.  0.  0.  0.  0.]\n",
      " [ 1. -2.  1.  0.  0.  0.  0.  0.  0.  0.  0.]\n",
      " [ 0.  1. -2.  1.  0.  0.  0.  0.  0.  0.  0.]\n",
      " [ 0.  0.  1. -2.  1.  0.  0.  0.  0.  0.  0.]\n",
      " [ 0.  0.  0.  1. -2.  1.  0.  0.  0.  0.  0.]\n",
      " [ 0.  0.  0.  0.  1. -2.  1.  0.  0.  0.  0.]\n",
      " [ 0.  0.  0.  0.  0.  1. -2.  1.  0.  0.  0.]\n",
      " [ 0.  0.  0.  0.  0.  0.  1. -2.  1.  0.  0.]\n",
      " [ 0.  0.  0.  0.  0.  0.  0.  1. -2.  1.  0.]\n",
      " [ 0.  0.  0.  0.  0.  0.  0.  0.  1. -2.  1.]\n",
      " [ 0.  0.  0.  0.  0.  0.  0.  0.  0.  0.  1.]]\n"
     ]
    }
   ],
   "source": [
    "A = np.identity(11)\n",
    "for i in range(1,10):\n",
    "    A[i,i-1:i+2] = np.array([1,-2,1])\n",
    "print(A)"
   ]
  },
  {
   "cell_type": "code",
   "execution_count": 29,
   "id": "0dc6a9cc",
   "metadata": {},
   "outputs": [
    {
     "data": {
      "text/plain": [
       "array([ 0.  , -0.81, -0.64, -0.49, -0.36, -0.25, -0.16, -0.09, -0.04,\n",
       "       -0.01, -0.  ])"
      ]
     },
     "execution_count": 29,
     "metadata": {},
     "output_type": "execute_result"
    }
   ],
   "source": [
    "b = -(xi-1)**2\n",
    "b[0]=0\n",
    "b"
   ]
  },
  {
   "cell_type": "markdown",
   "id": "fefcb761",
   "metadata": {},
   "source": [
    "cuja solução pode ser obtida fazendo"
   ]
  },
  {
   "cell_type": "code",
   "execution_count": 30,
   "id": "7b5f6437",
   "metadata": {},
   "outputs": [
    {
     "data": {
      "text/plain": [
       "array([ 0.   ,  2.025,  3.24 ,  3.815,  3.9  ,  3.625,  3.1  ,  2.415,\n",
       "        1.64 ,  0.825, -0.   ])"
      ]
     },
     "execution_count": 30,
     "metadata": {},
     "output_type": "execute_result"
    }
   ],
   "source": [
    "yi= np.linalg.solve(A,b)\n",
    "yi"
   ]
  },
  {
   "cell_type": "markdown",
   "id": "b59052ee",
   "metadata": {},
   "source": [
    "Esta é a solução numérica do problema de valor de contorno dado. Podemos obter a solução analítica usando SymPy e plotar os fráficos para comparar os reultados."
   ]
  },
  {
   "cell_type": "code",
   "execution_count": 31,
   "id": "fb06b810",
   "metadata": {},
   "outputs": [
    {
     "data": {
      "image/png": "[encoded data removed]",
      "text/latex": [
       "$\\displaystyle y{\\left(x \\right)} = - \\frac{25 x^{4}}{3} + \\frac{100 x^{3}}{3} - 50 x^{2} + 25 x$"
      ],
      "text/plain": [
       "             4        3               \n",
       "         25⋅x    100⋅x        2       \n",
       "y(x) = - ───── + ────── - 50⋅x  + 25⋅x\n",
       "           3       3                  "
      ]
     },
     "execution_count": 31,
     "metadata": {},
     "output_type": "execute_result"
    }
   ],
   "source": [
    "import sympy as sp\n",
    "sp.init_printing()\n",
    "\n",
    "x = sp.symbols('x')\n",
    "y = sp.Function('y')(x)\n",
    "eq = y.diff(x,x)+100*(x-1)**2\n",
    "sol = sp.dsolve(eq, y, ics={y.subs(x, 0):0, y.subs(x, 1): 0})\n",
    "sol"
   ]
  },
  {
   "cell_type": "code",
   "execution_count": 37,
   "id": "131f1d3c",
   "metadata": {},
   "outputs": [
    {
     "data": {
      "image/png": "[encoded data removed]",
      "text/plain": [
       "<Figure size 432x288 with 1 Axes>"
      ]
     },
     "metadata": {
      "needs_background": "light"
     },
     "output_type": "display_data"
    }
   ],
   "source": [
    "# converte de simbolico para numérico\n",
    "y_ex = sp.lambdify(x,sol.rhs)\n",
    "# plota\n",
    "plt.plot(xi,yi,'.-', xi, y_ex(xi))\n",
    "plt.grid()"
   ]
  },
  {
   "cell_type": "code",
   "execution_count": 40,
   "id": "9ccaa6c7",
   "metadata": {},
   "outputs": [
    {
     "name": "stdout",
     "output_type": "stream",
     "text": [
      "Erro quadrático médio: 0.0002104166666666658\n"
     ]
    }
   ],
   "source": [
    "err = np.mean((yi-y_ex(xi))**2)\n",
    "print('Erro quadrático médio:',err)"
   ]
  },
  {
   "cell_type": "markdown",
   "id": "c57b4a5c",
   "metadata": {},
   "source": [
    "Agora, juntando tudo em um único script, usando um número maior de pontos, obtemos:"
   ]
  },
  {
   "cell_type": "code",
   "execution_count": 47,
   "id": "e7ff8ac4",
   "metadata": {},
   "outputs": [
    {
     "name": "stdout",
     "output_type": "stream",
     "text": [
      "Erro quadrático médio (101 pontos): 2.2918958339434085e-08\n"
     ]
    },
    {
     "data": {
      "image/png": "[encoded data removed]",
      "text/plain": [
       "<Figure size 432x288 with 1 Axes>"
      ]
     },
     "metadata": {
      "needs_background": "light"
     },
     "output_type": "display_data"
    }
   ],
   "source": [
    "N = 101\n",
    "h = 1/(N-1)\n",
    "xi = np.linspace(0, 1, N)\n",
    "A = np.identity(N)\n",
    "\n",
    "for i in range(1,N-1):\n",
    "    A[i,i-1:i+2] = np.array([1,-2,1])\n",
    "\n",
    "b = -(100*h**2)*(xi-1)**2\n",
    "b[0]=0\n",
    "\n",
    "yi= np.linalg.solve(A,b)\n",
    "y_ex = -25*xi**4/3 + 100*xi**3/3 - 50*xi**2 + 25*xi\n",
    "\n",
    "err = np.mean((yi-y_ex)**2)\n",
    "print('Erro quadrático médio (101 pontos):',err)\n",
    "\n",
    "plt.plot(xi,yi,'r-', lw=1)\n",
    "plt.plot(xi,y_ex,'b,', )\n",
    "plt.grid()\n",
    "plt.show()"
   ]
  },
  {
   "cell_type": "markdown",
   "id": "6e23475c",
   "metadata": {},
   "source": [
    "**Exemplo 4:** Use o método de diferenças finitas para resolver o seguinte problema de valor de contorno:\n",
    "\n",
    "$$ \\begin{cases} \n",
    "-y'' + y= e^{-x} \\,\\text{, } \\,\\,\\,0,5<x<1,5\\\\\n",
    "y(0,5)= 1\\\\ \n",
    "y(1,5)= 2\n",
    "\\end{cases} $$\n",
    "\n",
    "Para tanto, use a fórmula de diferenças finitas central de ordem 2 para discretizar a derivada em uma malha uniforme com passo $h=0,1$. Faça, então, um esboço do gráfico da solução computada."
   ]
  },
  {
   "cell_type": "markdown",
   "id": "0652a25d",
   "metadata": {},
   "source": [
    "Substituindo $ y''(x_i)$ por $\\frac{y_{i-1}-2y_i+y_{i+1}}{h^2}$, com $h=0,1$, na equação e simplificando obtém-se um sistema linear. "
   ]
  },
  {
   "cell_type": "markdown",
   "id": "d666a658",
   "metadata": {},
   "source": [
    "As equações do sistema serão dadas por \n",
    "\n",
    "\n",
    "$$ \\begin{cases} \n",
    "y_0 = 1\\\\\n",
    "-y_0 + 2,01y_1 - y_1= 0,01e^{-0,1}\\\\ \n",
    "-y_1 + 2,01y_2 - y_3= 0,01e^{-0,2}\\\\ \n",
    "-y_2 + 2,01y_3 - y_4= 0,01e^{-0,3}\\\\ \n",
    "\\vdots \\\\\n",
    "-y_8 + 2,01y_9 + y_{10}= 0,01e^{-0,9}\\\\\n",
    "y_{10}= 2\n",
    "\\end{cases} $$"
   ]
  },
  {
   "cell_type": "markdown",
   "id": "4c170737",
   "metadata": {},
   "source": [
    "Computacionalmente podemos encontrar a solução seguindo os passos descritos a seguir. Primeiro entramos com os dados do problema."
   ]
  },
  {
   "cell_type": "code",
   "execution_count": 48,
   "id": "477e3753",
   "metadata": {},
   "outputs": [],
   "source": [
    "N = 11\n",
    "x0 = 0.5\n",
    "xn = 1.5\n",
    "h = (xn-x0)/(N-1)\n",
    "xi = np.linspace(x0, xn, N)  "
   ]
  },
  {
   "cell_type": "markdown",
   "id": "a4883a9a",
   "metadata": {},
   "source": [
    "Então construímos as matrizes $A$ e $b$.\n"
   ]
  },
  {
   "cell_type": "code",
   "execution_count": 49,
   "id": "81e3817e",
   "metadata": {},
   "outputs": [
    {
     "name": "stdout",
     "output_type": "stream",
     "text": [
      "[[ 1.    0.    0.    0.    0.    0.    0.    0.    0.    0.    0.  ]\n",
      " [-1.    2.01 -1.    0.    0.    0.    0.    0.    0.    0.    0.  ]\n",
      " [ 0.   -1.    2.01 -1.    0.    0.    0.    0.    0.    0.    0.  ]\n",
      " [ 0.    0.   -1.    2.01 -1.    0.    0.    0.    0.    0.    0.  ]\n",
      " [ 0.    0.    0.   -1.    2.01 -1.    0.    0.    0.    0.    0.  ]\n",
      " [ 0.    0.    0.    0.   -1.    2.01 -1.    0.    0.    0.    0.  ]\n",
      " [ 0.    0.    0.    0.    0.   -1.    2.01 -1.    0.    0.    0.  ]\n",
      " [ 0.    0.    0.    0.    0.    0.   -1.    2.01 -1.    0.    0.  ]\n",
      " [ 0.    0.    0.    0.    0.    0.    0.   -1.    2.01 -1.    0.  ]\n",
      " [ 0.    0.    0.    0.    0.    0.    0.    0.   -1.    2.01 -1.  ]\n",
      " [ 0.    0.    0.    0.    0.    0.    0.    0.    0.    0.    1.  ]]\n"
     ]
    }
   ],
   "source": [
    "A = np.zeros((N,N))  \n",
    "b = np.zeros(N)  \n",
    " \n",
    "A[0,0] = 1  \n",
    "b[0] = 1  \n",
    "\n",
    "for i in np.arange(1,N-1):\n",
    "    A[i,i-1] = -1  \n",
    "    A[i,i] = 2+h**2\n",
    "    A[i,i+1] = -1  \n",
    "    b[i] = h**2*np.exp(-xi[i])  \n",
    "A[N-1,N-1] = 1  \n",
    "b[N-1] = 2  \n",
    "print(A)"
   ]
  },
  {
   "cell_type": "code",
   "execution_count": 50,
   "id": "1048f839",
   "metadata": {},
   "outputs": [
    {
     "name": "stdout",
     "output_type": "stream",
     "text": [
      "[1.         0.00548812 0.00496585 0.00449329 0.0040657  0.00367879\n",
      " 0.00332871 0.00301194 0.00272532 0.00246597 2.        ]\n"
     ]
    }
   ],
   "source": [
    "print(b)"
   ]
  },
  {
   "cell_type": "markdown",
   "id": "4b44aaae",
   "metadata": {},
   "source": [
    "resolvendo o sistema"
   ]
  },
  {
   "cell_type": "code",
   "execution_count": 51,
   "id": "2d97085d",
   "metadata": {},
   "outputs": [
    {
     "name": "stdout",
     "output_type": "stream",
     "text": [
      "[1.         1.06189437 1.12891956 1.2022681  1.28314602 1.37278972\n",
      " 1.47248251 1.58357142 1.7074841  1.8457463  2.        ]\n"
     ]
    }
   ],
   "source": [
    "yi = np.linalg.solve(A,b)  \n",
    "print(yi)"
   ]
  },
  {
   "cell_type": "markdown",
   "id": "af95af46",
   "metadata": {},
   "source": [
    "Antes de plotar a solução numérica obtida, vamos encontrar a solução analítica usando `sympy`"
   ]
  },
  {
   "cell_type": "code",
   "execution_count": 58,
   "id": "f8db0171",
   "metadata": {},
   "outputs": [
    {
     "data": {
      "image/png": "[encoded data removed]",
      "text/latex": [
       "$\\displaystyle y{\\left(x \\right)} = \\left(\\frac{x}{2} + 0.332107241263667\\right) e^{- x} + 0.392385373094705 e^{x}$"
      ],
      "text/plain": [
       "       ⎛x                    ⎞  -x                      x\n",
       "y(x) = ⎜─ + 0.332107241263667⎟⋅ℯ   + 0.392385373094705⋅ℯ \n",
       "       ⎝2                    ⎠                           "
      ]
     },
     "execution_count": 58,
     "metadata": {},
     "output_type": "execute_result"
    }
   ],
   "source": [
    "x = sp.symbols('x')\n",
    "y = sp.Function('y')(x)\n",
    "eq = -y.diff(x,x)+y-sp.exp(-x)\n",
    "sol = sp.dsolve(eq, y, ics={y.subs(x, 0.5):1, y.subs(x, 1.5): 2})\n",
    "sol"
   ]
  },
  {
   "cell_type": "markdown",
   "id": "8c347546",
   "metadata": {},
   "source": [
    "Calculando o erro quadrático médio"
   ]
  },
  {
   "cell_type": "code",
   "execution_count": 59,
   "id": "fcfedfd0",
   "metadata": {},
   "outputs": [
    {
     "name": "stdout",
     "output_type": "stream",
     "text": [
      "Erro quadrático médio (11 pontos): 1.8502912502771752e-09\n"
     ]
    }
   ],
   "source": [
    "y_ex =(xi/2 + 0.332107241263667)*np.exp(-xi) + 0.392385373094705*np.exp(xi)\n",
    "\n",
    "err = np.mean((yi-y_ex)**2)\n",
    "print('Erro quadrático médio (11 pontos):',err)"
   ]
  },
  {
   "cell_type": "markdown",
   "id": "4b9aa73b",
   "metadata": {},
   "source": [
    "Plotando a solução numérica e a solução analítica"
   ]
  },
  {
   "cell_type": "code",
   "execution_count": 60,
   "id": "cf50741b",
   "metadata": {},
   "outputs": [
    {
     "data": {
      "image/png": "[encoded data removed]",
      "text/plain": [
       "<Figure size 432x288 with 1 Axes>"
      ]
     },
     "metadata": {
      "needs_background": "light"
     },
     "output_type": "display_data"
    }
   ],
   "source": [
    "plt.plot(xi,yi,'rx', xi, y_ex,'b--' )\n",
    "plt.grid()\n",
    "plt.show()"
   ]
  },
  {
   "cell_type": "code",
   "execution_count": null,
   "id": "61468aff",
   "metadata": {},
   "outputs": [],
   "source": []
  },
  {
   "cell_type": "markdown",
   "id": "c7b27ad8",
   "metadata": {},
   "source": [
    "**Exemplo 5:** Considere o seguinte problema de valor de contorno para a equação de calor no estado estacionário \n",
    "\n",
    "$$ \\begin{cases} \n",
    "-y'' = 200e^{-(x-1)^2} \\,\\text{, } \\,\\,\\,0<x<2\\\\\n",
    "y'(0)=0\\\\ \n",
    "y(2)=100\n",
    "\\end{cases} $$\n",
    "\n",
    "Aproxime a derivada segunda por um esquema de segunda ordem, a derivada primeira na fronteira por um esquema de primeira ordem e transforme a equação diferencial em um sistema de equações lineares. Resolva o sistema linear obtido."
   ]
  },
  {
   "cell_type": "markdown",
   "id": "6897e61d",
   "metadata": {},
   "source": [
    "*Solução exata com* `sympy`:"
   ]
  },
  {
   "cell_type": "code",
   "execution_count": 61,
   "id": "183187f5",
   "metadata": {},
   "outputs": [
    {
     "data": {
      "image/png": "[encoded data removed]",
      "text/latex": [
       "$\\displaystyle y{\\left(x \\right)} = - 100 \\sqrt{\\pi} x \\operatorname{erf}{\\left(1 \\right)} - 100 \\sqrt{\\pi} \\left(x \\operatorname{erf}{\\left(x - 1 \\right)} + \\frac{e^{2 x} e^{- x^{2}}}{e \\sqrt{\\pi}} - \\operatorname{erf}{\\left(x - 1 \\right)}\\right) + \\frac{100}{e} + 100 + 300 \\sqrt{\\pi} \\operatorname{erf}{\\left(1 \\right)}$"
      ],
      "text/plain": [
       "                                 ⎛                           2             ⎞  \n",
       "                                 ⎜                -1  2⋅x  -x              ⎟  \n",
       "                                 ⎜               ℯ  ⋅ℯ   ⋅ℯ                ⎟  \n",
       "y(x) = -100⋅√π⋅x⋅erf(1) - 100⋅√π⋅⎜x⋅erf(x - 1) + ───────────── - erf(x - 1)⎟ +\n",
       "                                 ⎝                     √π                  ⎠  \n",
       "\n",
       "                              \n",
       "                              \n",
       "      -1                      \n",
       " 100⋅ℯ   + 100 + 300⋅√π⋅erf(1)\n",
       "                              "
      ]
     },
     "execution_count": 61,
     "metadata": {},
     "output_type": "execute_result"
    }
   ],
   "source": [
    "x = sp.symbols('x')\n",
    "y = sp.Function('y')(x)\n",
    "eq = y.diff(x,x) + 200*sp.exp(-(x-1)**2)\n",
    "sol = sp.dsolve(eq, y, ics={y.diff(x).subs(x, 0):0, y.subs(x, 2): 100})\n",
    "sol"
   ]
  },
  {
   "cell_type": "markdown",
   "id": "e403f680",
   "metadata": {},
   "source": [
    "Observe que a solução não pode ser expressa em termos de funções elementares. Nesse caso, a resolução numérica é a abordagem mais indicada."
   ]
  },
  {
   "cell_type": "markdown",
   "id": "a5e4efb9",
   "metadata": {},
   "source": [
    "*Solução numérica:*\n",
    "\n",
    "Escolhendo uma discretização em 21 pontos no intervalo de 0 a 2, temos $h=0,2$. O esquema de fiferenças finitas de 1ª ordem na fronteira esquerda será dado pela equação\n",
    "\n",
    "$$y'(x_i)\\approx\\ \\frac{f(x_{i+1})-f(x_i)}{h}  \\,\\,\\,\\,\\,\\text{ou} \\,\\,\\,\\, y'_0=0\\approx\\frac{y_1-y_0}{0,1}$$\n",
    "\n",
    "assim as equações fornecidas pelas condições de contorno são\n",
    "\n",
    "$$ y_1-y_0 = 0 \\,\\,\\,\\,\\,\\text{e} \\,\\,\\,\\, y_{20}=100$$\n",
    "\n",
    "As demais equações serão fornecidas pelo esquema de segunda ordem, ou seja, serão dadas por\n",
    "\n",
    "$$ y''(x_i)= 200e^{-(xi-1)^2} \\approx \\frac{y_{i-1}-2y_i+y_{i+1}}{h^2}$$\n",
    "\n",
    "que leva a \n",
    "\n",
    "$$ y_{i-1}-2y_i+y_{i+1}=2e^{-(xi-1)^2}  \\,\\,\\,\\,\\,\\text{para} \\,\\,\\,\\, i=1,...,19$$\n",
    "\n"
   ]
  },
  {
   "cell_type": "markdown",
   "id": "7f5840fa",
   "metadata": {},
   "source": [
    "Temos, portanto\n",
    "\n",
    "$$ \\begin{cases} \n",
    "y_0 - y_1 = 0\\\\\n",
    "y_1 - 2y_1 + y_1= 2e^{-(0,2-1)^2}\\\\\n",
    "y_2 - 2y_2 + y_3= 2e^{-(0,4-1)^2}\\\\\n",
    "\\vdots \\\\\n",
    "y_{18} - 2y_{18} + y_{19}= 2e^{-(1,6-1)^2}\\\\\n",
    "y_{19} - 2y_{18} + y_{19}= 2e^{-(1,8-1)^2}\\\\\n",
    "y_{20}= 100\n",
    "\\end{cases} $$\n"
   ]
  },
  {
   "cell_type": "code",
   "execution_count": 62,
   "id": "265d2a73",
   "metadata": {},
   "outputs": [
    {
     "name": "stdout",
     "output_type": "stream",
     "text": [
      "xi= [0.  0.2 0.4 0.6 0.8 1.  1.2 1.4 1.6 1.8 2. ]\n",
      "A= [[ 1. -1.  0.  0.  0.  0.  0.  0.  0.  0.  0.]\n",
      " [ 1. -2.  1.  0.  0.  0.  0.  0.  0.  0.  0.]\n",
      " [ 0.  1. -2.  1.  0.  0.  0.  0.  0.  0.  0.]\n",
      " [ 0.  0.  1. -2.  1.  0.  0.  0.  0.  0.  0.]\n",
      " [ 0.  0.  0.  1. -2.  1.  0.  0.  0.  0.  0.]\n",
      " [ 0.  0.  0.  0.  1. -2.  1.  0.  0.  0.  0.]\n",
      " [ 0.  0.  0.  0.  0.  1. -2.  1.  0.  0.  0.]\n",
      " [ 0.  0.  0.  0.  0.  0.  1. -2.  1.  0.  0.]\n",
      " [ 0.  0.  0.  0.  0.  0.  0.  1. -2.  1.  0.]\n",
      " [ 0.  0.  0.  0.  0.  0.  0.  0.  1. -2.  1.]\n",
      " [ 0.  0.  0.  0.  0.  0.  0.  0.  0.  0.  1.]]\n",
      "yi= [ 29.24196044  29.24196044  30.29654528  32.74648278  36.90070786\n",
      "  42.97651182  51.05231577  61.04969861  72.75136902  85.84839209\n",
      " 100.        ]\n"
     ]
    },
    {
     "data": {
      "image/png": "[encoded data removed]",
      "text/plain": [
       "<Figure size 432x288 with 1 Axes>"
      ]
     },
     "metadata": {
      "needs_background": "light"
     },
     "output_type": "display_data"
    }
   ],
   "source": [
    "N = 11\n",
    "x0 = 0.0\n",
    "xn = 2.0\n",
    "h = (xn-x0)/(N-1)\n",
    "xi = np.linspace(x0, xn, N)  \n",
    "print('xi=',xi)\n",
    "\n",
    "A = np.zeros((N,N))  \n",
    "b = np.zeros(N)  \n",
    " \n",
    "# Condições de contorno\n",
    "A[0,0] = 1\n",
    "A[0,1] = -1\n",
    "A[N-1,N-1] = 1\n",
    "b[0] = 0\n",
    "b[N-1] = 100\n",
    "\n",
    "# montando as matrizes A e b\n",
    "for i in np.arange(1,N-1):\n",
    "    A[i,i-1] = 1  \n",
    "    A[i,i] = -2\n",
    "    A[i,i+1] = 1  \n",
    "    b[i] = 2*np.exp(-(xi[i]-1)**2)  \n",
    "print('A=',A)\n",
    "\n",
    "#resolvendo o sistema\n",
    "yi = np.linalg.solve(A,b)  \n",
    "print('yi=',yi)\n",
    "\n",
    "#plotando\n",
    "plt.plot(xi,yi)\n",
    "plt.grid()\n",
    "plt.show()"
   ]
  },
  {
   "cell_type": "code",
   "execution_count": null,
   "id": "4571762b",
   "metadata": {},
   "outputs": [],
   "source": []
  },
  {
   "cell_type": "markdown",
   "id": "d6cf6430",
   "metadata": {},
   "source": [
    "## Exercícios:\n",
    "\n",
    "(Adaptados de https://www.ufrgs.br/reamat/CalculoNumerico)**:**"
   ]
  },
  {
   "cell_type": "markdown",
   "id": "91620d03",
   "metadata": {},
   "source": [
    "**1.** Considere o seguinte problema de valor de contorno para a equação de calor no estado estacionário \n",
    "\n",
    "$$ \\begin{cases} \n",
    "-y'' = 200e^{-(x-1)^2} \\,\\text{, } \\,\\,\\,0<x<2\\\\\n",
    "y(0)=120\\\\ \n",
    "y(2)=100\n",
    "\\end{cases} $$\n",
    "\n",
    "Aproxime a derivada segunda por um esquema de segunda ordem, a derivada primeira na fronteira por um esquema de primeira ordem e transforme a equação diferencial em um sistema de equações lineares. Resolva o sistema linear obtido. Use uma discretização com 21 pontos."
   ]
  },
  {
   "cell_type": "code",
   "execution_count": null,
   "id": "e30abb75",
   "metadata": {},
   "outputs": [],
   "source": []
  },
  {
   "cell_type": "markdown",
   "id": "12a92bce",
   "metadata": {},
   "source": [
    "**2.** Considere o seguinte problema de valor de contorno para a equação de calor no estado estacionário com um termo não linear de radiação\n",
    "\n",
    "$$-y'' = 100 - \\frac{y^4}{10000} \\,\\text{, } \\,\\,\\,0<x<2$$\n",
    "$$y(0)=0 \\,\\,\\,\\text{e}\\,\\,\\, y(2)=10$$\n",
    "\n",
    "Aproxime a derivada segunda por um esquema de segunda ordem, a derivada primeira na fronteira por um esquema de primeira ordem e transforme a equação diferencial em um sistema de equações lineares. Resolva o sistema linear obtido."
   ]
  },
  {
   "cell_type": "code",
   "execution_count": null,
   "id": "607b65ca",
   "metadata": {},
   "outputs": [],
   "source": []
  },
  {
   "cell_type": "markdown",
   "id": "3c7f0b81",
   "metadata": {},
   "source": [
    "**3.** Considere o seguinte problema de valor de contorno para a equação de calor no estado estacionário com um termo não linear de radiação e um termo de convecção\n",
    "\n",
    "$$-y'' +3y'= 100 - \\frac{y^4}{10000} \\,\\text{, } \\,\\,\\,0<x<2$$\n",
    "$$y'(0)=0 \\,\\,\\,\\text{e}\\,\\,\\, y(2)=10$$\n",
    "\n",
    "Aproxime a derivada segunda por um esquema de segunda ordem, a derivada primeira na fronteira por um esquema de primeira ordem e transforme a equação diferencial em um sistema de equações lineares. Resolva o sistema linear obtido."
   ]
  },
  {
   "cell_type": "code",
   "execution_count": null,
   "id": "00a4a00e",
   "metadata": {},
   "outputs": [],
   "source": []
  }
 ],
 "metadata": {
  "kernelspec": {
   "display_name": "Python 3 (ipykernel)",
   "language": "python",
   "name": "python3"
  },
  "language_info": {
   "codemirror_mode": {
    "name": "ipython",
    "version": 3
   },
   "file_extension": ".py",
   "mimetype": "text/x-python",
   "name": "python",
   "nbconvert_exporter": "python",
   "pygments_lexer": "ipython3",
   "version": "3.12.4"
  }
 },
 "nbformat": 4,
 "nbformat_minor": 5
}
