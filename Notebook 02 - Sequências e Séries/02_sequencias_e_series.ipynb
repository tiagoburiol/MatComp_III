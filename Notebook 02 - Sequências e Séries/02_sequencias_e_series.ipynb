{
 "cells": [
  {
   "cell_type": "markdown",
   "metadata": {},
   "source": [
    "## 2. Sequências e séries\n",
    "\n",
    "### 2.1 Introdução\n",
    "\n",
    "Uma sequência (infinita ou não) pode ser compreendida como uma lista de números apresentados em uma ordem definida:\n",
    "\n",
    "$$\n",
    "a_1, a_2, a_3, a_4, \\ldots, a_n, \\ldots\n",
    "$$\n",
    "\n",
    "\n",
    "O número $a_1$ é chamado primeiro termo, $a_2$ é o segundo termo $\\mathrm{e}, \\mathrm{em}$ geral, $a_n$ é o n-ésimo termo. Trataremos exclusivamente de sequências infinitas, de modo que cada termo $a_n$ terá um sucessor $a_{n+1^*}$\n",
    "\n",
    "Observe que, para cada inteiro positivo $n$ existe um número correspondente $a_n$, dessa forma, uma sequência $f$ pode ser definida como uma função cujo dominio é o conjunto dos inteiros positivos. Mas, geralmente, escrevemos $a_n \\mathrm{em}$ vez da notação de função $f(n)$ para o valor da função no número $n$.\n",
    "\n",
    "**Notação:** A sequência $\\left\\{a_1, a_2, a_3, \\ldots\\right\\}$ é também indicada por\n",
    "\n",
    "$$\n",
    "\\left\\{a_n\\right\\} \\quad \\text { ou } \\quad  \\left\\{a_n\\right\\}_{n-1}^{\\infty}\n",
    "$$\n",
    "\n",
    "\n",
    "ou, simplesmente, pelo termo geral $a_n$. Salvo se indicarmos de outra forma, suporemos que $n$ começa em 1."
   ]
  },
  {
   "cell_type": "markdown",
   "metadata": {},
   "source": [
    "**Exemplo 2.1:** ([Fonte](https://integrada.minhabiblioteca.com.br/reader/books/9786555584103/pageid/145)) Exemplos de sequências infinitas definidas pela fórmula do termo geral:\n",
    "\n",
    "a)   A expressão $\\left\\{\\frac{n}{n+1}\\right\\}_{n-2}^{\\infty}$ define uma sequência cuja fórmula do $n$-ésimo termo é $a_n=\\frac{n}{n+1}$ e que começa em $n=2$ :\n",
    "\n",
    "$$\n",
    "\\left\\{\\frac{2}{3}, \\frac{3}{4}, \\frac{4}{5}, \\frac{5}{6}, \\ldots\\right\\}\n",
    "$$\n",
    "\n",
    "b) A sequência $\\{\\sqrt{3}, \\sqrt{4}, \\sqrt{5}, \\sqrt{6}, \\ldots\\}$ pode ser descrita por $\\{\\sqrt{n+2}\\}_{n=1}^{\\infty}$ se começarmos em $n=1$. Analogamente, podemos começar em $n=3$ e escrever $\\{\\sqrt{n}\\}_{n-3}^{\\infty}$ ou $a_n=\\sqrt{n}$, $n \\geq 3$.\n",
    "\n",
    "c) A expressão $\\left\\{(-1)^n \\frac{(n+1)}{3^n}\\right\\}_{n=0}^{\\infty}$ gera a sequência\n",
    "\n",
    "$$\n",
    "\\left\\{\\frac{1}{1},-\\frac{2}{3}, \\frac{3}{9},-\\frac{4}{27}, \\frac{5}{81}, \\cdots\\right\\}\n",
    "$$\n",
    "\n",
    "\n",
    "Nesse caso, o primeiro termo corresponde a $n=0$ e o fator $(-1)^n$ contido na expressão faz que os termos se alternem entre positivos e negativos.\n"
   ]
  },
  {
   "cell_type": "markdown",
   "metadata": {},
   "source": [
    "### 2.2 Computando os termos de uma sequência"
   ]
  },
  {
   "cell_type": "markdown",
   "metadata": {},
   "source": [
    "**Exemplo 2.2:** Vejamos como computar os $10$ primeiros termos da sequência de termo geral $a_n=n^2$. "
   ]
  },
  {
   "cell_type": "code",
   "execution_count": 1,
   "metadata": {},
   "outputs": [
    {
     "name": "stdout",
     "output_type": "stream",
     "text": [
      "a_1 = 1\n",
      "a_2 = 4\n",
      "a_3 = 9\n",
      "a_4 = 16\n",
      "a_5 = 25\n",
      "a_6 = 36\n",
      "a_7 = 49\n",
      "a_8 = 64\n",
      "a_9 = 81\n",
      "a_10 = 100\n"
     ]
    }
   ],
   "source": [
    "ntermos = 10     # número de termos\n",
    "for n in range(1, ntermos+1):    # for loop, especificando que n varia entre 1 e ntermos+1\n",
    "    an = n**2\n",
    "    print(\"a_%s =\" %(n), an)"
   ]
  },
  {
   "cell_type": "markdown",
   "metadata": {},
   "source": [
    "Analogamente, vamos fazer o mesmo para a sequência $\\{b_n\\}=\\left\\{\\frac{1}{n+4}\\right\\}_{n=1}^{10}$."
   ]
  },
  {
   "cell_type": "code",
   "execution_count": 2,
   "metadata": {},
   "outputs": [
    {
     "name": "stdout",
     "output_type": "stream",
     "text": [
      "b_1 = 0.2\n",
      "b_2 = 0.16666666666666666\n",
      "b_3 = 0.14285714285714285\n",
      "b_4 = 0.125\n",
      "b_5 = 0.1111111111111111\n",
      "b_6 = 0.1\n",
      "b_7 = 0.09090909090909091\n",
      "b_8 = 0.08333333333333333\n",
      "b_9 = 0.07692307692307693\n",
      "b_10 = 0.07142857142857142\n"
     ]
    }
   ],
   "source": [
    "ntermos = 10     # número de termos\n",
    "for n in range(1, ntermos+1):    # for loop, especificando que n varia entre 1 e ntermos+1\n",
    "    bn = 1/(n+4)\n",
    "    print(\"b_%s =\" %(n), bn)"
   ]
  },
  {
   "cell_type": "markdown",
   "metadata": {},
   "source": [
    "**Atividade 2.1:** Modifique o código acima para computar os 50 primeiros termos das sequências dadas pelo termo geral\n",
    "\n",
    "a) $\\frac{cosn}{n}$\n",
    "\n",
    "b) $\\frac{1}{2^n}$\n",
    "\n",
    "c) $(-1)^n \\frac{1}{n}$\n",
    "\n",
    "d) $\\left( \\frac{n+1}{n-1} \\right)^n$\n",
    "\n",
    "e) $\\frac{ln(n)}{n}$\n",
    "\n",
    "f) $\\left( 1+ \\frac{1}{n} \\right)^n$"
   ]
  },
  {
   "cell_type": "code",
   "execution_count": 2,
   "metadata": {},
   "outputs": [],
   "source": [
    "# copie aqui o código anterior para resolver o exercício"
   ]
  },
  {
   "cell_type": "markdown",
   "metadata": {},
   "source": [
    "### 2.3 Representando sequências graficamente\n",
    "\n",
    "A seguir vamos ver alguns exemplos de como visualizar o gráfico dos primeiros elementos de uma sequência como pontos de uma função. "
   ]
  },
  {
   "cell_type": "markdown",
   "metadata": {},
   "source": [
    "Começamos importando a biblioteca numérica `numpy` e a biblioteca gráfica `matplotlib`."
   ]
  },
  {
   "cell_type": "code",
   "execution_count": 4,
   "metadata": {},
   "outputs": [],
   "source": [
    "import numpy as np\n",
    "import matplotlib.pyplot as plt"
   ]
  },
  {
   "cell_type": "markdown",
   "metadata": {},
   "source": [
    "**Exemplo 2.3:** Considere a sequência dada pelo termo geral $a_n=n^2$. Vamos plotar um gráfico para visualizar seus primeiros elementos e seu comportamento com o códimo mostrado abaixo. "
   ]
  },
  {
   "cell_type": "code",
   "execution_count": 5,
   "metadata": {},
   "outputs": [
    {
     "data": {
      "image/png": "[encoded data removed]",
      "text/plain": [
       "<Figure size 640x480 with 1 Axes>"
      ]
     },
     "metadata": {},
     "output_type": "display_data"
    }
   ],
   "source": [
    "n = np.arange(1, 50)\n",
    "a = n**2\n",
    "plt.plot(n, a, '.', linewidth=0.5)\n",
    "plt.show()"
   ]
  },
  {
   "cell_type": "markdown",
   "metadata": {},
   "source": [
    "Para visualizar os termos da série, basta usar o comando print:"
   ]
  },
  {
   "cell_type": "code",
   "execution_count": 6,
   "metadata": {},
   "outputs": [
    {
     "name": "stdout",
     "output_type": "stream",
     "text": [
      "[   1    4    9   16   25   36   49   64   81  100  121  144  169  196\n",
      "  225  256  289  324  361  400  441  484  529  576  625  676  729  784\n",
      "  841  900  961 1024 1089 1156 1225 1296 1369 1444 1521 1600 1681 1764\n",
      " 1849 1936 2025 2116 2209 2304 2401]\n"
     ]
    }
   ],
   "source": [
    "print(a)"
   ]
  },
  {
   "cell_type": "markdown",
   "metadata": {},
   "source": [
    "**Exemplo 2.4:** Vamos fazer o mesmo para plotar o gráfico da sequência dada por $b_n = \\frac{1}{n+4}$ mas agora incluindo uma linha tracejada entre os pontos e aumentando o número de pontos."
   ]
  },
  {
   "cell_type": "code",
   "execution_count": 7,
   "metadata": {},
   "outputs": [
    {
     "data": {
      "image/png": "[encoded data removed]",
      "text/plain": [
       "<Figure size 640x480 with 1 Axes>"
      ]
     },
     "metadata": {},
     "output_type": "display_data"
    }
   ],
   "source": [
    "n = np.arange(1, 100)\n",
    "b = 1/(n+4)\n",
    "plt.plot(n, b, '.--', linewidth=0.5)\n",
    "plt.show()"
   ]
  },
  {
   "cell_type": "markdown",
   "metadata": {},
   "source": [
    "Observe que os termos da série no Exemplo 1 aumentam cada vez mais eos termos da série do Exemplo 2 parecem se aproximar de 0. Vejamos mais um exemplo."
   ]
  },
  {
   "cell_type": "markdown",
   "metadata": {},
   "source": [
    "**Importante:** As evidências numéricas servem apenas de indicação, elas NÃO permitem concluir definitivamente que uma sequência converge ou diverge. Para isso precisamos argumentar <u>analiticamente</u>. Por exemplo, a sequência $a_n=\\frac{2n}{3n-1}$ de fato converge para $\\frac23$ pois podemos dividir numerador e denominador por $n$ e obter:\n",
    "\n",
    "$$\\lim_{n\\to\\infty}a_n = \\lim_{n\\to\\infty}\\frac{2n}{3n-1} = \\lim_{n\\to\\infty}\\frac{\\frac{2n}{n}}{\\frac{3n-1}{n}} = \\lim_{n\\to\\infty}\\frac{2}{3-\\frac{1}{n}} = \\frac23.$$"
   ]
  },
  {
   "cell_type": "markdown",
   "metadata": {},
   "source": [
    "**Exemplo 2.5:** A função $f(n)=\\frac{n}{2n+1}$ gera a sequência $\\left(\\frac{1}{3}, \\frac{1}{3},\\frac{2}{5},\\frac{3}{7},\\frac{4}{9},...,\\frac{n}{2n+1},... \\right)$. \n",
    "\n",
    "É fácil notar que os elementos da sequência se aproximam cada vez mais de 1/2, podemos também concluir que $$\\lim_{n \\to +\\infty} f(n) = 1/2$$\n",
    "nesse caso, dizemos que a sequência converge para 1/2. \n",
    "\n",
    "Para completar esse exemplo, vamos usar Python para calcular numericamente os primeiros 50 termos da sequência e plotar o gráfico de $f$."
   ]
  },
  {
   "cell_type": "code",
   "execution_count": 8,
   "metadata": {},
   "outputs": [
    {
     "data": {
      "image/png": "[encoded data removed]",
      "text/plain": [
       "<Figure size 640x480 with 1 Axes>"
      ]
     },
     "metadata": {},
     "output_type": "display_data"
    }
   ],
   "source": [
    "n = np.linspace(1,50,50)\n",
    "s = n/(2*n+1)\n",
    "plt.plot(n,s,'.--', linewidth=0.5)\n",
    "plt.show()"
   ]
  },
  {
   "cell_type": "markdown",
   "metadata": {},
   "source": [
    "Claramente a função se aproxima cada vez mais de 0.5 a medida que $n$ aumenta. Podemos mostrar analiticamente que isto é verdade calculando o limite do termo geral da série quando $n \\to +\\infty$."
   ]
  },
  {
   "cell_type": "markdown",
   "metadata": {},
   "source": [
    "**Exemplo 2.6:** Considere a sequência $f(n)=\\frac{(-1)^{n+1}}{n}$. Observe que $(-1)^{n+1}$ é igual a $-1$ se $n$ for par e igual a  $1$ se $n$ for ímpar. Além disso $$\\lim_{n \\to +\\infty} f(n) = 0$$\n",
    "Então os termos dessa sequência vão se aproximando de $0$ oscilando entre valores positivos e negativos. Vamos gerar um gráfico para ver:"
   ]
  },
  {
   "cell_type": "code",
   "execution_count": 9,
   "metadata": {},
   "outputs": [
    {
     "data": {
      "image/png": "[encoded data removed]",
      "text/plain": [
       "<Figure size 640x480 with 1 Axes>"
      ]
     },
     "metadata": {},
     "output_type": "display_data"
    }
   ],
   "source": [
    "s = (-1)**(n-1)/(n)\n",
    "plt.plot(n,s,'.--', linewidth=0.5)\n",
    "plt.axhline(linewidth=0.5, color='black')\n",
    "plt.show()"
   ]
  },
  {
   "cell_type": "markdown",
   "metadata": {},
   "source": [
    "### 2.4 Convergência \n",
    "\n",
    "Dizemos que uma sequência $(a_n)$ converge para $a$ se à medida que $n$ cresce, o termo $a_n$ se torna cada vez mais próximo de $a$. Nesse caso, escrevemos \n",
    "\n",
    "$$\\lim_{n\\to\\infty}a_n = a.$$\n",
    "\n",
    "A sequência de termo geral $a_n=n^2$ que estudamos anteriormente, por exemplo, não converge, pois seus termos crescem cada vez mais, não se aproximando de nenhum limite $a$. Já nos exemplos 2, 3 e 4 as sequências são convergentes."
   ]
  },
  {
   "cell_type": "markdown",
   "metadata": {},
   "source": [
    " **Exemplo 2.6:**  Determine se a sequência $f(n)=\\frac{4n^2}{2n^2+1}$ é convergente ou divergente.\n",
    " \n",
    " _Solução:_ Vamos começar pelo gráfico."
   ]
  },
  {
   "cell_type": "code",
   "execution_count": 10,
   "metadata": {},
   "outputs": [
    {
     "data": {
      "image/png": "[encoded data removed]",
      "text/plain": [
       "<Figure size 640x480 with 1 Axes>"
      ]
     },
     "metadata": {},
     "output_type": "display_data"
    }
   ],
   "source": [
    "s = (4*n**2)/(2*n**2+1)\n",
    "plt.plot(n,s,'.--', linewidth=0.5)\n",
    "plt.show()"
   ]
  },
  {
   "cell_type": "markdown",
   "metadata": {},
   "source": [
    "Aparentemente a sequência converge para 2, mas é arriscado afirmar apenas com base em evidências numéricas. Para mostrar que isso é verdade é preciso calcular o limite:\n",
    "$$\\lim_{n \\to +\\infty} f(n) = \\lim_{n \\to +\\infty} \\frac{4n^2}{2n^2+1}= \\lim_{n \\to +\\infty} \\frac{4}{1+\\frac{1}{n^2}} = 2.$$"
   ]
  },
  {
   "cell_type": "markdown",
   "metadata": {},
   "source": [
    " **Exemplo 2.7:** Determine se a sequência $f(n)=n sen\\frac{\\pi}{n}$ é convergente ou divergente.\n",
    " \n",
    "_Solução:_ Vamos começar pelo gráfico. "
   ]
  },
  {
   "cell_type": "code",
   "execution_count": 11,
   "metadata": {},
   "outputs": [
    {
     "data": {
      "image/png": "[encoded data removed]",
      "text/plain": [
       "<Figure size 640x480 with 1 Axes>"
      ]
     },
     "metadata": {},
     "output_type": "display_data"
    }
   ],
   "source": [
    "s = n*np.sin(np.pi/n)\n",
    "plt.plot(n,s,'.--', linewidth=0.5)\n",
    "plt.show()"
   ]
  },
  {
   "cell_type": "markdown",
   "metadata": {},
   "source": [
    "Aparentemente a sequência converge para algum número próximo de 3. Podemos mostrar a sequência converge para $\\pi$ escrevendo $n\n",
    "sen\\frac{\\pi}{n}$ como $\\frac{sen(\\pi/n)}{1/n}$ e calculando o limite usando a regra de L'Hospital, obtemos\n",
    "\n",
    "$$\\lim_{n \\to +\\infty} f(n) = \\lim_{n \\to +\\infty} \\frac{sen(\\pi/n)}{1/n}\n",
    "= \\lim_{n \\to +\\infty} \\frac{(-\\pi/n^2)cos(\\pi/n)}{1/n^2}\n",
    "= \\lim_{n \\to +\\infty} \\pi cos(\\pi/n) = \\pi$$"
   ]
  },
  {
   "cell_type": "markdown",
   "metadata": {},
   "source": [
    "**Atividade 2.2:** \n",
    "\n",
    "**1.** Investigue a convergência das sequências:\n",
    "\n",
    "(a) $f(n)=\\frac{n+1}{2n-1}$\n",
    "\n",
    "(b) $f(n)=\\frac{1}{\\sqrt{n^2+1}-n}$\n",
    "\n",
    "(c) $f(n)=\\frac{ln(n)}{n^2}$\n",
    "\n",
    "(d) $f(n)=\\frac{n}{n+1}sen\\frac{n\\pi}{2}$"
   ]
  },
  {
   "cell_type": "markdown",
   "metadata": {},
   "source": [
    "**2.** Utilizando os códigos anteriores, verifique se as seguintes sequências parecem convergir ou não. Em caso positivo, indique o possível limite para a sequência.\n",
    "\n",
    "(a) $a_n=\\frac{2n}{3n-1}$\n",
    "\n",
    "\n",
    "(b) $a_n=\\frac{2^n}{n^2}$\n",
    "\n",
    "(c) $a_n=\\frac{2^n}{n!}$\n",
    "\n",
    "(d) $a_n=\\sqrt[n]{99}$\n",
    "\n",
    "(e) $a_n=n\\sin(\\frac{\\pi}{n})$\n",
    "\n",
    "**Desafio:** Dentre as séries acima que convergem, você consegue mostrar analiticamente qual o seu limite?"
   ]
  },
  {
   "cell_type": "markdown",
   "metadata": {},
   "source": [
    "### 2.5 Séries numéricas\n",
    "\n",
    "Uma série é a soma dos infinitos termos de uma sequência $(a_n)$, ou seja, $s=\\sum\\limits_{n=1}^\\infty a_n$. \n",
    "\n",
    "As somas parciais de uma série é uma sequência $s=(s_n)$ onde:\n",
    "\n",
    "$s_1 = a_1$\n",
    "\n",
    "$s_2 = a_1+a_2$\n",
    "\n",
    "$s_3 = a_1+a_2+a_3$\n",
    "\n",
    "$\\vdots$\n",
    "\n",
    "$s_n = a_1+a_2+\\ldots+a_n$.\n",
    "\n",
    "\n",
    "Cuidado para não confundir a série $\\sum\\limits_{n=1}^\\infty a_n$ com a sequência $(a_n)$."
   ]
  },
  {
   "cell_type": "markdown",
   "metadata": {},
   "source": [
    "**Exemplo 2.8: Computando os termos de uma série**\n",
    "\n",
    "\n",
    "Tomemos a série geométrica $\\sum\\limits_{n=1}^\\infty\\frac{1}{2^n}$."
   ]
  },
  {
   "cell_type": "code",
   "execution_count": 12,
   "metadata": {},
   "outputs": [
    {
     "name": "stdout",
     "output_type": "stream",
     "text": [
      "n= 1 Termo somado:  a_1 = 0.5\n",
      "     Soma parcial:  s_1 = 0.5\n",
      "\n",
      "n= 2 Termo somado:  a_2 = 0.25\n",
      "     Soma parcial:  s_2 = 0.75\n",
      "\n",
      "n= 3 Termo somado:  a_3 = 0.125\n",
      "     Soma parcial:  s_3 = 0.875\n",
      "\n",
      "n= 4 Termo somado:  a_4 = 0.0625\n",
      "     Soma parcial:  s_4 = 0.9375\n",
      "\n",
      "n= 5 Termo somado:  a_5 = 0.03125\n",
      "     Soma parcial:  s_5 = 0.96875\n",
      "\n",
      "n= 6 Termo somado:  a_6 = 0.015625\n",
      "     Soma parcial:  s_6 = 0.984375\n",
      "\n",
      "n= 7 Termo somado:  a_7 = 0.0078125\n",
      "     Soma parcial:  s_7 = 0.9921875\n",
      "\n",
      "n= 8 Termo somado:  a_8 = 0.00390625\n",
      "     Soma parcial:  s_8 = 0.99609375\n",
      "\n",
      "n= 9 Termo somado:  a_9 = 0.001953125\n",
      "     Soma parcial:  s_9 = 0.998046875\n",
      "\n",
      "n= 10 Termo somado:  a_10 = 0.0009765625\n",
      "     Soma parcial:  s_10 = 0.9990234375\n",
      "\n"
     ]
    }
   ],
   "source": [
    "ntermos = 10      # número de termos\n",
    "sn = 0\n",
    "for n in range(1, ntermos+1):\n",
    "    sn += 1/2**n    # a cada iteração, somamos o respectivo termo da série\n",
    "    print(\"n=\", n, \"Termo somado:  a_%s =\" %(n), 1/2**n)\n",
    "    print(\"     Soma parcial:  s_%s =\" %(n), sn)\n",
    "    print()"
   ]
  },
  {
   "cell_type": "markdown",
   "metadata": {},
   "source": [
    "Assim, vemos que cada vez somamos termos menores (isto é, $a_n$ tende a 0) e as somas parciais se aproximam cada vez mais de 1. Com isso, temos evidências numéricas de que $\\sum\\limits_{n=1}^\\infty\\frac{1}{2^n}=1$. \n",
    "\n",
    "É possível provar analiticamente que essa afirmação é verdadeira. \n"
   ]
  },
  {
   "cell_type": "markdown",
   "metadata": {},
   "source": [
    "**Atividade 2.3:**\n",
    "\n",
    "**1.** Estude computacionalmente o comportamento das séries:\n",
    "\n",
    "(a) $\\sum\\limits_{n=1}^\\infty \\frac{1}{n} \\quad$ (série harmônica)\n",
    "\n",
    "(b) $\\sum\\limits_{n=1}^\\infty \\frac{1}{n^2} \\quad$ (p-série)\n",
    "\n",
    "(c) $\\sum_{n=1}^{\\infty} \\frac{1}{2^n} \\quad$ (série geométrica)\n",
    "\n",
    "(d) $\\sum_{n=1}^{\\infty} \\left(\\frac{1}{n}-\\frac{1}{n+1} \\right)\\quad$ (série telescópica)"
   ]
  },
  {
   "cell_type": "code",
   "execution_count": null,
   "metadata": {},
   "outputs": [],
   "source": []
  },
  {
   "cell_type": "markdown",
   "metadata": {},
   "source": [
    "**Exemplo 2.9:** Consideremos a série $\\sum_{n=1}^{\\infty} \\frac{1}{n(n+1)}$. Vamos usar Sympy para reescrever o termo geral e calcular alguns termos da série numericamente. Observe que converge para $S_n=1$. "
   ]
  },
  {
   "cell_type": "code",
   "execution_count": 13,
   "metadata": {},
   "outputs": [
    {
     "data": {
      "text/latex": [
       "$\\displaystyle - \\frac{1}{n + 1} + \\frac{1}{n}$"
      ],
      "text/plain": [
       "-1/(n + 1) + 1/n"
      ]
     },
     "execution_count": 13,
     "metadata": {},
     "output_type": "execute_result"
    }
   ],
   "source": [
    "import sympy as sp\n",
    "n = sp.Symbol('n')\n",
    "\n",
    "sp.apart(1/(n*(n+1)))"
   ]
  },
  {
   "cell_type": "code",
   "execution_count": 14,
   "metadata": {},
   "outputs": [
    {
     "name": "stdout",
     "output_type": "stream",
     "text": [
      "0.9799999999999995\n"
     ]
    }
   ],
   "source": [
    "Sn=0\n",
    "for n in range(1,50):\n",
    "    Sn+=(1/(n*(n+1)))\n",
    "print (Sn)"
   ]
  },
  {
   "cell_type": "markdown",
   "metadata": {},
   "source": [
    "**Atividade 2.4:** \n",
    "\n",
    "**1.** Use o exemplo acima para estudar a série $\\sum_{n=1}^{\\infty} \\frac{1}{n^2+3 n}$. Observe que a série converge para $S_n=\\frac{1}{3}\\left(1+\\frac{1}{2}+\\frac{1}{3}\\right)$."
   ]
  },
  {
   "cell_type": "code",
   "execution_count": null,
   "metadata": {},
   "outputs": [],
   "source": []
  },
  {
   "cell_type": "markdown",
   "metadata": {},
   "source": [
    "**2.** Estude a série $\\sum_{n=1}^{\\infty} \\frac{1}{n(n+3)(n+6)}$."
   ]
  },
  {
   "cell_type": "code",
   "execution_count": null,
   "metadata": {},
   "outputs": [],
   "source": []
  },
  {
   "cell_type": "markdown",
   "metadata": {},
   "source": [
    "**Referências**\n",
    "\n",
    "KONG, Qingkai; SIAUW, Timmy; BAYEN, Alexandre M. Python Programming and Numerical Methods: A Guide For Engineers And Scientists. ed 1, Academic Press, 2021. DOI: https://doi.org/10.1016/C2018-0-04165-1\n",
    "\n",
    "LANGTANGEN, Hans Pette. A Primer on Scientific Programming with Python. Texts in Computational Science and Engineering. Springer Berlin, Heidelberg, ed 5, 2016. DOI: https://doi.org/10.1007/978-3-662-49887-3"
   ]
  },
  {
   "cell_type": "code",
   "execution_count": null,
   "metadata": {},
   "outputs": [],
   "source": []
  }
 ],
 "metadata": {
  "kernelspec": {
   "display_name": "Python 3 (ipykernel)",
   "language": "python",
   "name": "python3"
  },
  "language_info": {
   "codemirror_mode": {
    "name": "ipython",
    "version": 3
   },
   "file_extension": ".py",
   "mimetype": "text/x-python",
   "name": "python",
   "nbconvert_exporter": "python",
   "pygments_lexer": "ipython3",
   "version": "3.12.4"
  }
 },
 "nbformat": 4,
 "nbformat_minor": 4
}
