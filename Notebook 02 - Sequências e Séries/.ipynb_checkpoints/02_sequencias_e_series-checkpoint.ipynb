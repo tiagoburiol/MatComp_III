{
 "cells": [
  {
   "cell_type": "markdown",
   "metadata": {},
   "source": [
    "BURIOL, Tiago M.; SOUZA, Leonardo G. (Março de 2023) - Matemática Computacional III - UFSM"
   ]
  },
  {
   "cell_type": "markdown",
   "metadata": {},
   "source": [
    "# 2. Sequências e séries\n",
    "\n",
    "## 2.1 Introdução\n",
    "\n",
    "Uma sequência é um conjunto ordenado de números reais denotados por uma lista entre parênteses. Por exemplo, $(a_n) = (a_1, a_2, a_3, \\ldots)$ denota a sequência cujo $n$-ésimo termo é o número $a_n$. Note que o índice $n$ é sempre um número inteiro positivo, isto é, sempre percorre os valores $1, 2, 3, 4,\\ldots$. \n",
    "\n",
    "Veja alguns exemplos de sequência, indicando os primeiros termos de cada uma: \n",
    "\n",
    "- $(a_n)$, onde $a_n=n^2$. Então, $(a_n) =  (a_1, a_2, a_3, a_4,\\ldots) = (1, 4, 9, 16, \\ldots)$.\n",
    "\n",
    "\n",
    "- $(b_n)$, onde $b_n=\\frac{1}{n+4}$ e $n\\in N , 1\\leq n\\leq 5$ . Então, $(b_n) = (\\frac{1}{5}, \\frac{1}{6},\\frac{1}{7},\\frac{1}{8},\\frac{1}{9})$.\n",
    "\n",
    "\n",
    "- $(c_n)$, onde $c_n = \\frac{(-1)^n}{n!}$. Então $(c_n) = \\left( 1, -1,\\frac{1}{2}, -\\frac{1}{6}, \\cdots\\right)$\n",
    "\n",
    "\n",
    "- $(d_n)$, onde $d_n = 5$. Então $(d_n) = (5,5,5,5, \\ldots)$"
   ]
  },
  {
   "cell_type": "markdown",
   "metadata": {},
   "source": [
    "Mais formalmente, uma sequência também pode ser definida como uma função $f:\\mathbb N \\to \\mathbb R$, onde $\\mathbb N = \\{1,2,3,\\ldots,n,\\ldots\\}$ e $\\mathbb R$ é o conjunto dos números reais. Assim, a sequência é dada pelas imagens $f(n)$, isto é, $\\left(f(1), f(2), f(3),\\ldots \\right)$."
   ]
  },
  {
   "cell_type": "markdown",
   "metadata": {},
   "source": [
    "Observe que alguns autores pondem usar chaves para denotar sequências, como em Thomas (2012), no entando é mais comum que chaves sejam usadas para conjuntos não ordenados e parênteses para sequências."
   ]
  },
  {
   "cell_type": "markdown",
   "metadata": {},
   "source": [
    "## 2.2 Computando os termos de uma sequência\n",
    "\n",
    "Vejamos como computar os $n$ primeiros termos da sequência $a_n=n^2$. "
   ]
  },
  {
   "cell_type": "code",
   "execution_count": 1,
   "metadata": {},
   "outputs": [
    {
     "name": "stdout",
     "output_type": "stream",
     "text": [
      "a_1 = 1\n",
      "a_2 = 4\n",
      "a_3 = 9\n",
      "a_4 = 16\n",
      "a_5 = 25\n",
      "a_6 = 36\n",
      "a_7 = 49\n",
      "a_8 = 64\n",
      "a_9 = 81\n",
      "a_10 = 100\n"
     ]
    }
   ],
   "source": [
    "n_max = 10   \n",
    "for n in range(1, n_max+1):   \n",
    "    an = n**2\n",
    "    print(\"a_%s =\" %(n), an)"
   ]
  },
  {
   "cell_type": "markdown",
   "metadata": {},
   "source": [
    "Analogamente, vamos fazer o mesmo para a sequência $(b_n)$:"
   ]
  },
  {
   "cell_type": "code",
   "execution_count": 2,
   "metadata": {},
   "outputs": [
    {
     "name": "stdout",
     "output_type": "stream",
     "text": [
      "b_1 = 0.2\n",
      "b_2 = 0.16666666666666666\n",
      "b_3 = 0.14285714285714285\n",
      "b_4 = 0.125\n",
      "b_5 = 0.1111111111111111\n",
      "b_6 = 0.1\n",
      "b_7 = 0.09090909090909091\n",
      "b_8 = 0.08333333333333333\n",
      "b_9 = 0.07692307692307693\n",
      "b_10 = 0.07142857142857142\n"
     ]
    }
   ],
   "source": [
    "ntermos = 10     # número de termos\n",
    "for n in range(1, ntermos+1):    # for loop, especificando que n varia entre 1 e ntermos+1\n",
    "    bn = 1/(n+4)\n",
    "    print(\"b_%s =\" %(n), bn)"
   ]
  },
  {
   "cell_type": "markdown",
   "metadata": {},
   "source": [
    "**Exercício 1:** Modifique o código acima para computar os 50 primeiros termos das sequências dadas pelo termo geral\n",
    "\n",
    "a) $\\frac{cosn}{n}$"
   ]
  },
  {
   "cell_type": "code",
   "execution_count": 10,
   "metadata": {},
   "outputs": [],
   "source": [
    "# copie aqui o código anterior para resolver o exercício"
   ]
  },
  {
   "cell_type": "markdown",
   "metadata": {},
   "source": [
    "b) $\\frac{1}{2^n}$"
   ]
  },
  {
   "cell_type": "code",
   "execution_count": 11,
   "metadata": {},
   "outputs": [],
   "source": [
    "# copie aqui o código anterior para resolver o exercício"
   ]
  },
  {
   "cell_type": "markdown",
   "metadata": {},
   "source": [
    "c) $(-1)^n \\frac{1}{n}$"
   ]
  },
  {
   "cell_type": "code",
   "execution_count": 4,
   "metadata": {},
   "outputs": [],
   "source": [
    "# copie aqui o código anterior para resolver o exercício"
   ]
  },
  {
   "cell_type": "markdown",
   "metadata": {},
   "source": [
    "d) $\\left( \\frac{n+1}{n-1} \\right)^n$"
   ]
  },
  {
   "cell_type": "code",
   "execution_count": 5,
   "metadata": {},
   "outputs": [],
   "source": [
    "# copie aqui o código anterior para resolver o exercício"
   ]
  },
  {
   "cell_type": "markdown",
   "metadata": {},
   "source": [
    "e) $\\frac{ln(n)}{n}$"
   ]
  },
  {
   "cell_type": "code",
   "execution_count": 6,
   "metadata": {},
   "outputs": [],
   "source": [
    "# copie aqui o código anterior para resolver o exercício"
   ]
  },
  {
   "cell_type": "markdown",
   "metadata": {},
   "source": [
    "f) $\\left( 1+ \\frac{1}{n} \\right)^n$"
   ]
  },
  {
   "cell_type": "code",
   "execution_count": 7,
   "metadata": {},
   "outputs": [],
   "source": [
    "# copie aqui o código anterior para resolver o exercício"
   ]
  },
  {
   "cell_type": "markdown",
   "metadata": {},
   "source": []
  },
  {
   "cell_type": "markdown",
   "metadata": {},
   "source": [
    "O que você consegue observar sobre os termos da sequência, estão se aproximando de algum valor fixo?"
   ]
  },
  {
   "cell_type": "markdown",
   "metadata": {},
   "source": [
    "## 2.3 Representando sequências graficamente\n",
    "\n",
    "A seguir vamos ver alguns exemplos de como visualizar o gráfico dos primeiros elementos de uma sequência como pontos de uma função. "
   ]
  },
  {
   "cell_type": "markdown",
   "metadata": {},
   "source": [
    "Começamos importando a biblioteca numérica `numpy` e a biblioteca gráfica `matplotlib`."
   ]
  },
  {
   "cell_type": "code",
   "execution_count": 4,
   "metadata": {},
   "outputs": [],
   "source": [
    "import numpy as np\n",
    "import matplotlib.pyplot as plt"
   ]
  },
  {
   "cell_type": "markdown",
   "metadata": {},
   "source": [
    "**Exemplo 1:** Considere a sequência dada por $a_n=n^2$ que vimos acima. Vamos plotar um gráfico para visualizar seus primeiros elementos e seu comportamento com o códimo mostrado abaixo. "
   ]
  },
  {
   "cell_type": "code",
   "execution_count": 5,
   "metadata": {},
   "outputs": [
    {
     "data": {
      "image/png": "[encoded data removed]",
      "text/plain": [
       "<Figure size 432x288 with 1 Axes>"
      ]
     },
     "metadata": {
      "needs_background": "light"
     },
     "output_type": "display_data"
    }
   ],
   "source": [
    "n = np.arange(1, 50)\n",
    "a = n**2\n",
    "plt.plot(n, a, '.', linewidth=0.5)\n",
    "plt.show()"
   ]
  },
  {
   "cell_type": "markdown",
   "metadata": {},
   "source": [
    "Para visualizar os termos da série, basta usar o comando print:"
   ]
  },
  {
   "cell_type": "code",
   "execution_count": 6,
   "metadata": {},
   "outputs": [
    {
     "name": "stdout",
     "output_type": "stream",
     "text": [
      "[   1    4    9   16   25   36   49   64   81  100  121  144  169  196\n",
      "  225  256  289  324  361  400  441  484  529  576  625  676  729  784\n",
      "  841  900  961 1024 1089 1156 1225 1296 1369 1444 1521 1600 1681 1764\n",
      " 1849 1936 2025 2116 2209 2304 2401]\n"
     ]
    }
   ],
   "source": [
    "print(a)"
   ]
  },
  {
   "cell_type": "markdown",
   "metadata": {},
   "source": [
    "**Exemplo 2:** Vamos fazer o mesmo para plotar o gráfico da sequência dada por $b_n = \\frac{1}{n+4}$ mas agora incluindo uma linha tracejada entre os pontos e aumentando o número de pontos."
   ]
  },
  {
   "cell_type": "code",
   "execution_count": 7,
   "metadata": {
    "scrolled": true
   },
   "outputs": [
    {
     "data": {
      "image/png": "[encoded data removed]",
      "text/plain": [
       "<Figure size 432x288 with 1 Axes>"
      ]
     },
     "metadata": {
      "needs_background": "light"
     },
     "output_type": "display_data"
    }
   ],
   "source": [
    "n = np.arange(1, 100)\n",
    "b = 1/(n+4)\n",
    "plt.plot(n, b, '.--', linewidth=0.5)\n",
    "plt.show()"
   ]
  },
  {
   "cell_type": "markdown",
   "metadata": {},
   "source": [
    "Observe que os termos da série no Exemplo 1 aumentam cada vez mais eos termos da série do Exemplo 2 parecem se aproximar de 0. Vejamos mais um exemplo."
   ]
  },
  {
   "cell_type": "markdown",
   "metadata": {},
   "source": [
    "**Importante:** As evidências numéricas servem apenas de indicação, elas NÃO permitem concluir definitivamente que uma sequência converge ou diverge. Para isso precisamos argumentar <u>analiticamente</u>. Por exemplo, a sequência $a_n=\\frac{2n}{3n-1}$ de fato converge para $\\frac23$ pois podemos dividir numerador e denominador por $n$ e obter:\n",
    "\n",
    "$$\\lim_{n\\to\\infty}a_n = \\lim_{n\\to\\infty}\\frac{2n}{3n-1} = \\lim_{n\\to\\infty}\\frac{\\frac{2n}{n}}{\\frac{3n-1}{n}} = \\lim_{n\\to\\infty}\\frac{2}{3-\\frac{1}{n}} = \\frac23.$$"
   ]
  },
  {
   "cell_type": "markdown",
   "metadata": {},
   "source": [
    "**Exemplo 3:** A função $f(n)=\\frac{n}{2n+1}$ gera a sequência $\\left(\\frac{1}{3}, \\frac{1}{3},\\frac{2}{5},\\frac{3}{7},\\frac{4}{9},...,\\frac{n}{2n+1},... \\right)$. \n",
    "\n",
    "É fácil notar que os elementos da sequência se aproximam cada vez mais de 1/2, podemos também concluir que $$\\lim_{n \\to +\\infty} f(n) = 1/2$$\n",
    "nesse caso, dizemos que a sequência converge para 1/2. \n",
    "\n",
    "Para completar esse exemplo, vamos usar Python para calcular numericamente os primeiros 50 termos da sequência e plotar o gráfico de $f$."
   ]
  },
  {
   "cell_type": "code",
   "execution_count": 8,
   "metadata": {
    "scrolled": true
   },
   "outputs": [
    {
     "data": {
      "image/png": "[encoded data removed]",
      "text/plain": [
       "<Figure size 432x288 with 1 Axes>"
      ]
     },
     "metadata": {
      "needs_background": "light"
     },
     "output_type": "display_data"
    }
   ],
   "source": [
    "n = np.linspace(1,50,50)\n",
    "s = n/(2*n+1)\n",
    "plt.plot(n,s,'.--', linewidth=0.5)\n",
    "plt.show()"
   ]
  },
  {
   "cell_type": "markdown",
   "metadata": {},
   "source": [
    "Claramente a função se aproxima cada vez mais de 0.5 a medida que $n$ aumenta. Podemos mostrar analiticamente que isto é verdade calculando o limite do termo geral da série quando $n \\to +\\infty$."
   ]
  },
  {
   "cell_type": "markdown",
   "metadata": {},
   "source": [
    "**Exemplo 4:** Considere a sequência $f(n)=\\frac{(-1)^{n+1}}{n}$. Observe que $(-1)^{n+1}$ é igual a $-1$ se $n$ for par e igual a  $1$ se $n$ for ímpar. Além disso $$\\lim_{n \\to +\\infty} f(n) = 0$$\n",
    "Então os termos dessa sequência vão se aproximando de $0$ oscilando entre valores positivos e negativos. Vamos gerar um gráfico para ver:"
   ]
  },
  {
   "cell_type": "code",
   "execution_count": 9,
   "metadata": {},
   "outputs": [
    {
     "data": {
      "image/png": "[encoded data removed]",
      "text/plain": [
       "<Figure size 432x288 with 1 Axes>"
      ]
     },
     "metadata": {
      "needs_background": "light"
     },
     "output_type": "display_data"
    }
   ],
   "source": [
    "s = (-1)**(n-1)/(n)\n",
    "plt.plot(n,s,'.--', linewidth=0.5)\n",
    "plt.axhline(linewidth=0.5, color='black')\n",
    "plt.show()"
   ]
  },
  {
   "cell_type": "markdown",
   "metadata": {},
   "source": [
    "## 2.4 Convergência \n",
    "\n",
    "Dizemos que uma sequência $(a_n)$ converge para $a$ se à medida que $n$ cresce, o termo $a_n$ se torna cada vez mais próximo de $a$. Nesse caso, escrevemos \n",
    "\n",
    "$$\\lim_{n\\to\\infty}a_n = a.$$\n",
    "\n",
    "A sequência de termo geral $a_n=n^2$ que estudamos anteriormente, por exemplo, não converge, pois seus termos crescem cada vez mais, não se aproximando de nenhum limite $a$. Já nos exemplos 2, 3 e 4 as sequências são convergentes."
   ]
  },
  {
   "cell_type": "markdown",
   "metadata": {},
   "source": [
    " **Exemplo 5:**  Determine se a sequência $f(n)=\\frac{4n^2}{2n^2+1}$ é convergente ou divergente.\n",
    " \n",
    " _Solução:_ Vamos começar pelo gráfico."
   ]
  },
  {
   "cell_type": "code",
   "execution_count": 10,
   "metadata": {},
   "outputs": [
    {
     "data": {
      "image/png": "[encoded data removed]",
      "text/plain": [
       "<Figure size 432x288 with 1 Axes>"
      ]
     },
     "metadata": {
      "needs_background": "light"
     },
     "output_type": "display_data"
    }
   ],
   "source": [
    "s = (4*n**2)/(2*n**2+1)\n",
    "plt.plot(n,s,'.--', linewidth=0.5)\n",
    "plt.show()"
   ]
  },
  {
   "cell_type": "markdown",
   "metadata": {},
   "source": [
    "Aparentemente a sequência converge para 2, mas é arriscado afirmar apenas com base em evidências numéricas. Para mostrar que isso é verdade é preciso calcular o limite:\n",
    "$$\\lim_{n \\to +\\infty} f(n) = \\lim_{n \\to +\\infty} \\frac{4n^2}{2n^2+1}= \\lim_{n \\to +\\infty} \\frac{4}{1+\\frac{1}{n^2}} = 2.$$"
   ]
  },
  {
   "cell_type": "markdown",
   "metadata": {},
   "source": [
    " **Exemplo 6:** Determine se a sequência $f(n)=n sen\\frac{\\pi}{n}$ é convergente ou divergente.\n",
    " \n",
    "_Solução:_ Vamos começar pelo gráfico. "
   ]
  },
  {
   "cell_type": "code",
   "execution_count": 11,
   "metadata": {},
   "outputs": [
    {
     "data": {
      "image/png": "[encoded data removed]",
      "text/plain": [
       "<Figure size 432x288 with 1 Axes>"
      ]
     },
     "metadata": {
      "needs_background": "light"
     },
     "output_type": "display_data"
    }
   ],
   "source": [
    "s = n*np.sin(np.pi/n)\n",
    "plt.plot(n,s,'.--', linewidth=0.5)\n",
    "plt.show()"
   ]
  },
  {
   "cell_type": "markdown",
   "metadata": {},
   "source": [
    "Aparentemente a sequência converge para algum número próximo de 3. Podemos mostrar a sequência converge para $\\pi$ escrevendo $n\n",
    "sen\\frac{\\pi}{n}$ como $\\frac{sen(\\pi/n)}{1/n}$ e calculando o limite usando a regra de L'Hospital, obtemos\n",
    "\n",
    "$$\\lim_{n \\to +\\infty} f(n) = \\lim_{n \\to +\\infty} \\frac{sen(\\pi/n)}{1/n}\n",
    "= \\lim_{n \\to +\\infty} \\frac{(-\\pi/n^2)cos(\\pi/n)}{1/n^2}\n",
    "= \\lim_{n \\to +\\infty} \\pi cos(\\pi/n) = \\pi$$"
   ]
  },
  {
   "cell_type": "markdown",
   "metadata": {},
   "source": [
    "**Exercícios:** \n",
    "\n",
    "**1.** Investigue a convergência das sequências:\n",
    "\n",
    "(a) $f(n)=\\frac{n+1}{2n-1}$\n",
    "\n",
    "(b) $f(n)=\\frac{1}{\\sqrt{n^2+1}-n}$\n",
    "\n",
    "(c) $f(n)=\\frac{ln(n)}{n^2}$\n",
    "\n",
    "(d) $f(n)=\\frac{n}{n+1}sen\\frac{n\\pi}{2}$"
   ]
  },
  {
   "cell_type": "markdown",
   "metadata": {},
   "source": [
    "**2.** Utilizando os códigos anteriores, verifique se as seguintes sequências parecem convergir ou não. Em caso positivo, indique o possível limite para a sequência.\n",
    "\n",
    "(a) $a_n=\\frac{2n}{3n-1}$\n",
    "\n",
    "\n",
    "(b) $a_n=\\frac{2^n}{n^2}$\n",
    "\n",
    "(c) $a_n=\\frac{2^n}{n!}$\n",
    "\n",
    "(d) $a_n=\\sqrt[n]{99}$\n",
    "\n",
    "(e) $a_n=n\\sin(\\frac{\\pi}{n})$\n",
    "\n",
    "**Desafio:** Dentre as séries acima que convergem, você consegue mostrar analiticamente qual o seu limite?"
   ]
  },
  {
   "cell_type": "markdown",
   "metadata": {},
   "source": [
    "## 2.5 Séries numéricas\n",
    "\n",
    "Uma série é a soma dos infinitos termos de uma sequência $(a_n)$, ou seja, $s=\\sum\\limits_{n=1}^\\infty a_n$. \n",
    "\n",
    "As somas parciais de uma série é uma sequência $s=(s_n)$ onde:\n",
    "\n",
    "$s_1 = a_1$\n",
    "\n",
    "$s_2 = a_1+a_2$\n",
    "\n",
    "$s_3 = a_1+a_2+a_3$\n",
    "\n",
    "$\\vdots$\n",
    "\n",
    "$s_n = a_1+a_2+\\ldots+a_n$.\n",
    "\n",
    "\n",
    "Cuidado para não confundir a série $\\sum\\limits_{n=1}^\\infty a_n$ com a sequência $(a_n)$."
   ]
  },
  {
   "cell_type": "markdown",
   "metadata": {},
   "source": [
    "**Exemplo 7: Computando os termos de uma série**\n",
    "\n",
    "\n",
    "Tomemos a série geométrica $\\sum\\limits_{n=1}^\\infty\\frac{1}{2^n}$."
   ]
  },
  {
   "cell_type": "code",
   "execution_count": 12,
   "metadata": {},
   "outputs": [
    {
     "name": "stdout",
     "output_type": "stream",
     "text": [
      "n= 1 Termo somado:  a_1 = 0.5\n",
      "     Soma parcial:  s_1 = 0.5\n",
      "\n",
      "n= 2 Termo somado:  a_2 = 0.25\n",
      "     Soma parcial:  s_2 = 0.75\n",
      "\n",
      "n= 3 Termo somado:  a_3 = 0.125\n",
      "     Soma parcial:  s_3 = 0.875\n",
      "\n",
      "n= 4 Termo somado:  a_4 = 0.0625\n",
      "     Soma parcial:  s_4 = 0.9375\n",
      "\n",
      "n= 5 Termo somado:  a_5 = 0.03125\n",
      "     Soma parcial:  s_5 = 0.96875\n",
      "\n",
      "n= 6 Termo somado:  a_6 = 0.015625\n",
      "     Soma parcial:  s_6 = 0.984375\n",
      "\n",
      "n= 7 Termo somado:  a_7 = 0.0078125\n",
      "     Soma parcial:  s_7 = 0.9921875\n",
      "\n",
      "n= 8 Termo somado:  a_8 = 0.00390625\n",
      "     Soma parcial:  s_8 = 0.99609375\n",
      "\n",
      "n= 9 Termo somado:  a_9 = 0.001953125\n",
      "     Soma parcial:  s_9 = 0.998046875\n",
      "\n",
      "n= 10 Termo somado:  a_10 = 0.0009765625\n",
      "     Soma parcial:  s_10 = 0.9990234375\n",
      "\n"
     ]
    }
   ],
   "source": [
    "ntermos = 10      # número de termos\n",
    "sn = 0\n",
    "for n in range(1, ntermos+1):\n",
    "    sn += 1/2**n    # a cada iteração, somamos o respectivo termo da série\n",
    "    print(\"n=\", n, \"Termo somado:  a_%s =\" %(n), 1/2**n)\n",
    "    print(\"     Soma parcial:  s_%s =\" %(n), sn)\n",
    "    print()"
   ]
  },
  {
   "cell_type": "markdown",
   "metadata": {},
   "source": [
    "Assim, vemos que cada vez somamos termos menores (isto é, $a_n$ tende a 0) e as somas parciais se aproximam cada vez mais de 1. Com isso, temos evidências numéricas de que $\\sum\\limits_{n=1}^\\infty\\frac{1}{2^n}=1$. \n",
    "\n",
    "É possível provar analiticamente que essa afirmação é verdadeira. \n"
   ]
  },
  {
   "cell_type": "markdown",
   "metadata": {},
   "source": [
    "**Exercícios:**\n",
    "\n",
    "**3.** Estude computacionalmente o comportamento das séries:\n",
    "\n",
    "(a) $\\sum\\limits_{n=1}^\\infty \\frac{1}{n}\\,\\,\\,\\,\\,\\,$ (série harmônica)\n",
    "\n",
    "(b) $\\sum\\limits_{n=1}^\\infty \\frac{1}{n^2}\\,\\,\\,\\,\\,\\,$ (p-série)"
   ]
  },
  {
   "cell_type": "markdown",
   "metadata": {},
   "source": [
    "## 2.6 Série de Taylor\n",
    "\n",
    "A expansão em série de Taylor de uma função é uma representação por uma série infinita de polinômios em torno de um ponto. Definimos a série de Taylor de uma função $f(x)$ em torno de $x=a$ como:\n",
    "\n",
    "$$ f(x) = \\sum_{n = 0}^{\\infty} f^{(n)}(a)\\frac{(x-a)^n}{n!},\n",
    "$$\n",
    "\n",
    "onde $f^{(n)}$ é a n-ésima derivada de $f$ e $f^{(0)}$ é a própria função $f$. \n",
    "\n",
    "Assim, a forma expandida fica:\n",
    "\n",
    "$$f(x)= f(a)+f^{(1)}(a)(x-a)+ f^{(2)}(a)\\frac{(x-a)^2}{2!}+f^{(3)}(a)\\frac{(x-a)^3}{3!}+\\cdots$$"
   ]
  },
  {
   "cell_type": "markdown",
   "metadata": {},
   "source": [
    "**Exemplo 5:**\n",
    "\n",
    "Calcule a expansão da série de Taylor para $f(x) = 3x^2 + 2x + 1$ em torno de $a = 0$ e $a = 1$. Verifique que $f$ e suas expansões são idênticas.\n",
    "\n",
    "Calculando as derivadas:\n",
    "\n",
    "\\begin{eqnarray*}\n",
    "f^{(0)}(x) &=& 3x^2 + 2x + 1\\\\\n",
    "f^{(1)}(x) &=& 6x + 2\\\\\n",
    "f^{(2)}(x)&=& 6\\\\\n",
    "f^{(3)}(x)&=& 0\\\\\n",
    "f^{(4)}(x)&=& 0\\\\\n",
    "\\end{eqnarray*}\n",
    "$$\\vdots$$\n",
    "\n",
    "Em torno de $a = 0$:\n",
    "\\begin{eqnarray*}\n",
    "f(x) &=& f^{(0)}(0)\\frac{(x-0)^0}{0!}+f^{(1)}(0)\\frac{(x-0)^1}{1!}+ f^{(2)}(0)\\frac{(x-0)^2}{2!}+\\cdots \\\\[8pt]\n",
    "&=&\\frac{x^0}{0!}+\\frac{2x^1}{1!}+\\frac{6x^2}{2!}+0+0+\\cdots\\\\[12pt]\n",
    "&=&1+2x+3x^2\n",
    "\\end{eqnarray*}\n",
    "\n",
    "\n",
    "\n",
    "Em torno de $a = 1$:\n",
    "\\begin{eqnarray*}\n",
    "f(x) &=& f^{(0)}(0)\\frac{(x-1)^0}{0!}+f^{(1)}(1)\\frac{(x-1)^1}{1!}+ f^{(2)}(1)\\frac{(x-1)^2}{2!}+\\cdots \\\\[5pt]\n",
    "&=& 6+8\\frac{(x-1)^0}{0!}+6\\frac{(x-1)^1}{1!}+ 6\\frac{(x-1)^2}{2!}+0+0+\\cdots\\\\[5pt]\n",
    "&=& 6+8(x-1)+3(x^2-2x+1)\\\\[8pt]\n",
    "&=& 3x^2+2x+1\n",
    "\\end{eqnarray*}\n",
    "\n",
    "\n",
    "\n",
    "\n",
    "Note que a expansão em série de Taylor de qualquer polinômio é finita, pois a derivada $n$-ésima de qualquer polinômio é nula para $n$  suficientemente grande.\n",
    "\n"
   ]
  },
  {
   "cell_type": "markdown",
   "metadata": {},
   "source": [
    "**Exemplo 9:** Escreva a série de Taylor para $sen(x)$ em torno do ponto $a = 0$. \n",
    "\n",
    "Seja $f(x) = \\sin(x)$ a sua expansão da série de Taylor é:\n",
    "\n",
    "\\begin{eqnarray*}\n",
    "f(x) &=& \\frac{sen(0)}{0!}x^0 + \\frac{cos(0)}{1!}x^1 + \\frac{-sen(0) }{2!}x^2 + \\frac{-cos(0)}{3!}x^3 + \\frac{sen(0)}{4!}x^4 + \\frac{cos( 0)}{5!}x^5 + \\cdots\\\\[5pt]\n",
    "&=& \\frac{0}{0!}x^0 + \\frac{1}{1!}x^1 + \\frac{-0 }{2!}x^2 + \\frac{-1}{3!}x^3 + \\frac{0}{4!}x^4 + \\frac{1}{5!}x^5 + \\cdots\\\\\n",
    "&=& \\frac{x}{1!} - \\frac{x^3}{3!}+ \\frac{x^5}{5!} + \\cdots\n",
    "\\end{eqnarray*}\n",
    "\n",
    "ou, de forma compacta,\n",
    "\n",
    "$$f(x) = \\sum_{n = 0}^{\\infty} \\frac{(-1)^n x^{2n+1}}{(2n+1)!}$$\n",
    "\n",
    "\n",
    "Observe que nessa fórmula, os termos de potências pares na série de Taylor são ignorados, assim, o termo $n = 0$ da fórmula é o termo $n = 1$ na série Taylor, e o termo $n = 1$ da fórmula é o termo $n = 3$ na série Taylor."
   ]
  },
  {
   "cell_type": "markdown",
   "metadata": {},
   "source": [
    "**Obtendo a série de Taylor com SymPy**\n",
    "\n",
    "Vamos agora usar SymPy para resolver os dois exemplos anteriores. Primeiramente importamos a bibliotece, iniciamos o modo de impressão, e  definimos os símbolos. Iste é feito como nas três linhas a seguir.  "
   ]
  },
  {
   "cell_type": "code",
   "execution_count": 13,
   "metadata": {},
   "outputs": [],
   "source": [
    "import sympy\n",
    "sympy.init_printing(use_unicode=True)\n",
    "x, a = sympy.symbols(\"x, a\", real=True)"
   ]
  },
  {
   "cell_type": "markdown",
   "metadata": {},
   "source": [
    "Definimos a função do **Exemplo 5** e obtemos das derivadas"
   ]
  },
  {
   "cell_type": "code",
   "execution_count": 14,
   "metadata": {},
   "outputs": [
    {
     "name": "stdout",
     "output_type": "stream",
     "text": [
      "Derivadas: \n"
     ]
    },
    {
     "data": {
      "text/latex": [
       "$\\displaystyle \\left( 3 a^{2} + 2 a + 1, \\  6 a + 2, \\  6\\right)$"
      ],
      "text/plain": [
       "⎛   2                      ⎞\n",
       "⎝3⋅a  + 2⋅a + 1, 6⋅a + 2, 6⎠"
      ]
     },
     "execution_count": 14,
     "metadata": {},
     "output_type": "execute_result"
    }
   ],
   "source": [
    "f0 = 3*a**2+2*a+1\n",
    "f1 = sympy.diff(f0, a)\n",
    "f2 = sympy.diff(f1, a)\n",
    "df=(f0,f1,f2)\n",
    "\n",
    "print(\"Derivadas: \")\n",
    "df"
   ]
  },
  {
   "cell_type": "markdown",
   "metadata": {},
   "source": [
    "Agora vamos desenvolver a série de Taylor:"
   ]
  },
  {
   "cell_type": "code",
   "execution_count": 15,
   "metadata": {},
   "outputs": [
    {
     "data": {
      "text/latex": [
       "$\\displaystyle 3 a^{2} + 2 a + 3 \\left(- a + x\\right)^{2} + \\left(- a + x\\right) \\left(6 a + 2\\right) + 1$"
      ],
      "text/plain": [
       "   2                   2                         \n",
       "3⋅a  + 2⋅a + 3⋅(-a + x)  + (-a + x)⋅(6⋅a + 2) + 1"
      ]
     },
     "execution_count": 15,
     "metadata": {},
     "output_type": "execute_result"
    }
   ],
   "source": [
    "s = 0\n",
    "for n in range(len(df)):\n",
    "    s += df[n]*(x-a)**n/sympy.factorial(n)\n",
    "s"
   ]
  },
  {
   "cell_type": "markdown",
   "metadata": {},
   "source": [
    "Calculando para $a=0$ e simplificando "
   ]
  },
  {
   "cell_type": "code",
   "execution_count": 16,
   "metadata": {},
   "outputs": [
    {
     "data": {
      "text/latex": [
       "$\\displaystyle 3 x^{2} + 2 x + 1$"
      ],
      "text/plain": [
       "   2          \n",
       "3⋅x  + 2⋅x + 1"
      ]
     },
     "execution_count": 16,
     "metadata": {},
     "output_type": "execute_result"
    }
   ],
   "source": [
    "a=0\n",
    "sympy.simplify(s)"
   ]
  },
  {
   "cell_type": "markdown",
   "metadata": {},
   "source": [
    "Por fim, o mesmo para $a=1$ e simplificando "
   ]
  },
  {
   "cell_type": "code",
   "execution_count": 17,
   "metadata": {},
   "outputs": [
    {
     "data": {
      "text/latex": [
       "$\\displaystyle 3 x^{2} + 2 x + 1$"
      ],
      "text/plain": [
       "   2          \n",
       "3⋅x  + 2⋅x + 1"
      ]
     },
     "execution_count": 17,
     "metadata": {},
     "output_type": "execute_result"
    }
   ],
   "source": [
    "a=1\n",
    "sympy.simplify(s)"
   ]
  },
  {
   "cell_type": "markdown",
   "metadata": {},
   "source": [
    "Para finalizar essa seção, vamos usar SymPy para resolver os dois exemplos anteriores. Primeiramente importamos a biblioteca, iniciamos o modo de impressão, e  definimos os símbolos. Iste é feito como nas três linhas a seguir"
   ]
  },
  {
   "cell_type": "code",
   "execution_count": 18,
   "metadata": {},
   "outputs": [
    {
     "data": {
      "text/latex": [
       "$\\displaystyle \\left(- a + x\\right) \\cos{\\left(a \\right)} - \\frac{\\left(a - x\\right)^{5} \\cos{\\left(a \\right)}}{120} + \\frac{\\left(a - x\\right)^{4} \\sin{\\left(a \\right)}}{24} + \\frac{\\left(a - x\\right)^{3} \\cos{\\left(a \\right)}}{6} - \\frac{\\left(a - x\\right)^{2} \\sin{\\left(a \\right)}}{2} + \\sin{\\left(a \\right)}$"
      ],
      "text/plain": [
       "                         5                 4                 3                \n",
       "                  (a - x) ⋅cos(a)   (a - x) ⋅sin(a)   (a - x) ⋅cos(a)   (a - x\n",
       "(-a + x)⋅cos(a) - ─────────────── + ─────────────── + ─────────────── - ──────\n",
       "                        120                24                6                \n",
       "\n",
       " 2                \n",
       ") ⋅sin(a)         \n",
       "───────── + sin(a)\n",
       " 2                "
      ]
     },
     "execution_count": 18,
     "metadata": {},
     "output_type": "execute_result"
    }
   ],
   "source": [
    "x, a = sympy.symbols(\"x, a\", real=True)\n",
    "f = sympy.sin(a)\n",
    "s = 0\n",
    "\n",
    "for n in range(6):\n",
    "    s += f*(x-a)**n/sympy.factorial(n)\n",
    "    f = sympy.diff(f,a)\n",
    "sympy.simplify(s)"
   ]
  },
  {
   "cell_type": "markdown",
   "metadata": {},
   "source": [
    "Para facilitar a nossa vida, `sympy` dispõe de uma função para a serie de Taylor. Então, ao invés de todo esse trabalho, basta fazer como é mostrado abaixo"
   ]
  },
  {
   "cell_type": "code",
   "execution_count": 19,
   "metadata": {},
   "outputs": [
    {
     "data": {
      "text/latex": [
       "$\\displaystyle x - \\frac{x^{3}}{6} + \\frac{x^{5}}{120} + O\\left(x^{7}\\right)$"
      ],
      "text/plain": [
       "     3     5        \n",
       "    x     x     ⎛ 7⎞\n",
       "x - ── + ─── + O⎝x ⎠\n",
       "    6    120        "
      ]
     },
     "execution_count": 19,
     "metadata": {},
     "output_type": "execute_result"
    }
   ],
   "source": [
    "f = sympy.sin(x)\n",
    "sympy.series(f, x, 0, 7)"
   ]
  },
  {
   "cell_type": "markdown",
   "metadata": {},
   "source": [
    "**Aproximação de funções por série de Taylor**\n",
    "\n",
    "Muitas vezes é útil representar uma função usando a série de Taylor com um número limitado de termos. Especialmente quando conhecemos um ponto da função e suas derivadas nesse ponto. Dessa forma é possível obter uma aproximação para a função na vizinhanca do ponto em torno do qual a serie de Taylor é desenvolvida. \n",
    "\n",
    "Por exemplo, podemos facilmente obter a proximações para a função $f(x)=e^x$ em torno de $a=0$ pois sabemos que as derivadas $f^{(n)}(a)=1$ para $n=0,1,2,...$. Assim, a série de Taylor para $e^x$ em torno de $a=0$ tem a forma:\n",
    "\n",
    "$$e^x = 1 + x + \\frac{x^2}{2!}+ \\frac{x^3}{3!}+\\frac{x^4}{4!}+\\cdots$$\n",
    "\n",
    "Assim, truncando a série a partir do 3º termo podemos aproximar $e^x$ par algum valor de $x$ próximo do ponto $a=0$ usando o polinômio obtido da série de Taylor. Por exemplo, uma aproximação para $e^{\\frac{1}{2}}$ é:\n",
    "\n",
    "$$e^x \\approx 1 + 1/2 + \\frac{(1/2)^2}{2}+ \\frac{(1/2)^3}{6}=1.6458333333333333$$\n",
    "\n",
    "O valor fornecido pela calculadora é $e^x=1.6487212707001282$, então, o erro naaproximação obtida pela série de Taylor com 4 termos é aproximadamente $0.0029$, ou seja, na ordem de $0.17\\%$ da solução exata. Podemos verificar facilmente que quanto mais termos são usados na aproximação, menor é o erro. Além disso, para um mesmo número de termos da série, quanto mais próximo $x$ estiver de $0$, melhor será a aproximação. \n",
    "\n",
    "Vamos agora usar Python para realizar alguns experimentos numéricos. Primeiramente vamos criar um pequeno programa com um laço `for` para obter algumas aproximações de $e^{0.5}$ pala série de Taylor com número de termos variando de 1 a 10.\n"
   ]
  },
  {
   "cell_type": "code",
   "execution_count": 20,
   "metadata": {},
   "outputs": [
    {
     "name": "stdout",
     "output_type": "stream",
     "text": [
      "Série com 1 termos: 1.0\n",
      "Série com 2 termos: 1.5\n",
      "Série com 3 termos: 1.625\n",
      "Série com 4 termos: 1.6458333333333333\n",
      "Série com 5 termos: 1.6484375\n",
      "Série com 6 termos: 1.6486979166666667\n",
      "Série com 7 termos: 1.6487196180555554\n",
      "Série com 8 termos: 1.6487211681547618\n",
      "Série com 9 termos: 1.6487212650359622\n",
      "Série com 10 termos: 1.648721270418251\n"
     ]
    }
   ],
   "source": [
    "x = 0.5\n",
    "soma = 0\n",
    "fatorial = 1\n",
    "\n",
    "for n in range(10):\n",
    "    soma += x**n/fatorial\n",
    "    fatorial *= n+1\n",
    "    \n",
    "    print('Série com',n+1,'termos:',soma)"
   ]
  },
  {
   "cell_type": "markdown",
   "metadata": {},
   "source": [
    "É possível notar que quanto maior o número de termos, mais o resultado da série de Taylor  se aproxima do valor exato de $e^x$.\n",
    "\n",
    "Agora vamos escrever explicitamente os polinômios obtidos pela série de Taylor com 2, 3, 4 e 5 termos e fazer o gráfico para comparação."
   ]
  },
  {
   "cell_type": "code",
   "execution_count": 21,
   "metadata": {},
   "outputs": [
    {
     "data": {
      "image/png": "[encoded data removed]",
      "text/plain": [
       "<Figure size 432x288 with 1 Axes>"
      ]
     },
     "metadata": {
      "needs_background": "light"
     },
     "output_type": "display_data"
    }
   ],
   "source": [
    "x = np.linspace(-3,3)\n",
    "s2 = 1 + x\n",
    "s3 = 1 + x + x**2/2\n",
    "s4 = 1 + x + x**2/2 + x**3/6\n",
    "s5 = 1 + x + x**2/2 + x**3/6 + x**4/24\n",
    "y = np.exp(x)\n",
    "plt.plot(x,y,'k--',x,s2,x,s3,x,s4,x,s5)\n",
    "plt.grid()\n",
    "plt.show()"
   ]
  },
  {
   "cell_type": "markdown",
   "metadata": {},
   "source": [
    "**Exemplo 10:** Obtenha a série de Taylor para a função $cox(x)$ em torno de $a=0$ e descubra quantos termos precisam ser retidos para aproximar $cos(0.5)$ com um erro relativo menor que $\\epsilon=0.0001$.\n",
    "\n",
    "_Solução:_ Desenvolvendo a série de Taylor para a função $cox(x)$ em torno de $a=0$ chega-se a: \n",
    "\n",
    "$$\\cos \\left( x \\right) = 1 - \\frac{{{x^2}}}{{2!}} + \\frac{{{x^4}}}{{4!}} - \\frac{{{x^6}}}{{6!}} + \\frac{{{x^8}}}{{8!}} - \\frac{{{x^{10}}}}{{10!}} \\ + \\ ... = \\sum\\limits_{n = 0}^\\infty  {{{\\left( { - 1} \\right)}^n}\\frac{{{x^{2n}}}}{{\\left( {2n} \\right)!}}}$$\n",
    "\n",
    "Observe que os termos de potência ímpar são anulados na série de taylor, de modo que para cada valor de $n$, os termos da série acima correspondem ao termo de número $2n+1$ na série de Taylor. POr exemplo, para $n=2$ tem-se o termo $\\frac{{{x^4}}}{{4!}}$ que é o 5º termo da série de Taylor. \n",
    "\n",
    "Vamos agora usar Python para gerar as aproximações, somando um termo por vez e calculando o erro relativo até atingir a precisão desejada. No código abaixo criamos a variável `soma` para armazenar o resultado da série."
   ]
  },
  {
   "cell_type": "code",
   "execution_count": 22,
   "metadata": {},
   "outputs": [
    {
     "name": "stdout",
     "output_type": "stream",
     "text": [
      "Série de Taylor com 3 termos: 1.0\n",
      "Série de Taylor com 5 termos: 0.875\n",
      "Série de Taylor com 7 termos: 0.8776041666666666\n",
      "Valor de np.cos(0.5): 0.8775825618903728\n",
      "Erro relativo: 2.461851138807129e-05\n"
     ]
    }
   ],
   "source": [
    "x = 0.5\n",
    "soma = 0\n",
    "err = 1\n",
    "n = 0\n",
    "\n",
    "while err>0.0001:\n",
    "    soma += (-1)**n * x**(2*n)/np.math.factorial(2*n)\n",
    "    err = abs(np.cos(x)-soma)/abs(np.cos(x))\n",
    "    n+=1\n",
    "    print('Série de Taylor com',2*n+1,'termos:',soma)\n",
    "    \n",
    "print('Valor de np.cos(0.5):',np.cos(0.5))\n",
    "print('Erro relativo:',err)"
   ]
  },
  {
   "cell_type": "markdown",
   "metadata": {},
   "source": [
    "Para finalizar esse exemplo, vamos fazer o gráfico de dos polinômios obtidos pela série de Taylor com 3, 5 e 7 termos, ou seja, para a somatória mostrada acima, com $n=1$, $n=2$ e $n=3$."
   ]
  },
  {
   "cell_type": "code",
   "execution_count": 23,
   "metadata": {},
   "outputs": [
    {
     "data": {
      "image/png": "[encoded data removed]",
      "text/plain": [
       "<Figure size 432x288 with 1 Axes>"
      ]
     },
     "metadata": {
      "needs_background": "light"
     },
     "output_type": "display_data"
    }
   ],
   "source": [
    "x = np.linspace(-2*np.pi,2*np.pi)\n",
    "s3 = 1 - x**2/2\n",
    "s5 = 1 - x**2/2 + x**4/24\n",
    "s7 = 1 - x**2/2 + x**4/24 -x**6/720\n",
    "y = np.cos(x)\n",
    "plt.plot(x,y,'k--',x,s3,x,s5,x,s7)\n",
    "plt.ylim(-5, 5) \n",
    "plt.grid()\n",
    "plt.show()"
   ]
  },
  {
   "cell_type": "markdown",
   "metadata": {},
   "source": [
    "**Observações:** \n",
    "Observe que em torno de $x=0$ todos os gráficos são próximos do gráfico de $cos(x)$ em preto.O gráfico em azul, um polinômio de Taylor de grau 2, torna-se mais distante de $cos(x)$ do que os outros para valores de $x$ mais distantes de $0$.O gráfico em verde, série de Taylor com 7 termos, parece dar uma boa aproximação para $cos(x)$ em um intervalo maior que os outros, entre -3 e 3. Podemos ver melhor se plotarmos novamente, usando apenas valores de $x$ no intervalo $[-3,3]$. "
   ]
  },
  {
   "cell_type": "code",
   "execution_count": 24,
   "metadata": {},
   "outputs": [
    {
     "data": {
      "image/png": "[encoded data removed]",
      "text/plain": [
       "<Figure size 432x288 with 1 Axes>"
      ]
     },
     "metadata": {
      "needs_background": "light"
     },
     "output_type": "display_data"
    }
   ],
   "source": [
    "plt.plot(x,y,'k--',x,s3,x,s5,x,s7)\n",
    "plt.ylim(-5, 5) \n",
    "plt.xlim(-3, 3) \n",
    "plt.grid()\n",
    "plt.show()"
   ]
  },
  {
   "cell_type": "markdown",
   "metadata": {},
   "source": [
    "Em muitos casos uma aproximação linear pode ser útil para analisar funções complicadas nas proximidades de um ponto. Assim, é comum usarmos aproximações por série de Taylor de 1ª ordem. De fato, para uma função \"suave\" se olharmos o gráfico bem de perto a função parece uma reta. Observe, por exemplo, como o gráfico da função $cos(x)$ se parece com uma reta se plotarmos em um intervalo suficientemente pequeno em torno de $x=0.5$."
   ]
  },
  {
   "cell_type": "code",
   "execution_count": 25,
   "metadata": {},
   "outputs": [
    {
     "data": {
      "image/png": "[encoded data removed]",
      "text/plain": [
       "<Figure size 1008x324 with 3 Axes>"
      ]
     },
     "metadata": {
      "needs_background": "light"
     },
     "output_type": "display_data"
    }
   ],
   "source": [
    "x = np.linspace(0, 3)\n",
    "y = np.cos(x)\n",
    "\n",
    "plt.figure(figsize = (14, 4.5))\n",
    "plt.subplot(1, 3, 1)\n",
    "plt.plot(x, y, 0.5, np.cos(0.5),'o r')\n",
    "plt.grid()\n",
    "\n",
    "plt.subplot(1, 3, 2)\n",
    "plt.plot(x, y, 0.5, np.cos(0.5),'o r')\n",
    "plt.grid()\n",
    "plt.xlim(0, 1.5)\n",
    "plt.ylim(0, 1)\n",
    "\n",
    "plt.subplot(1, 3, 3)\n",
    "plt.plot(x, y, 0.5, np.cos(0.5),'o r')\n",
    "plt.grid()\n",
    "plt.xlim(0.48, 0.52)\n",
    "plt.ylim(0.86, 0.90)\n",
    "plt.tight_layout()\n",
    "plt.show()"
   ]
  },
  {
   "cell_type": "markdown",
   "metadata": {},
   "source": [
    "## 2.7 Série de Fourier\n",
    "\n",
    "A aproximação por séries de senos e cossenos, ou simplesmente séries de Fourier, representa um esquema sistemático úlil no estudo de modelos de matemática, e tratamento de problemas de ciências e engenharia envolvendo sistemas que oscilam ou vibram."
   ]
  },
  {
   "cell_type": "markdown",
   "metadata": {},
   "source": [
    "Funções periódicas, podem ser escritas como uma soma infinita de funções trigonoméricas  seno e cosseno conhecida como série de Fourier. A representação em série de Fourier de uma função periódica $f$ é dada por:\n",
    "\n",
    "$$f(x)= \\frac{A_0}{2}+\\sum_{n=1}^{\\infty}A_n\\ cos{(nx)} + B_n\\ sen{(nx)}$$\n",
    "\n",
    "Mostra-se que os valores de $A_n$ e $B_n$ podem ser calculados pelas seguintes fórmulas:\n",
    "\n",
    "$$A_n= \\frac{1}{\\pi} \\int_{-\\pi}^{\\pi} f(x) cos{(nx)}\\ dx$$\n",
    "\n",
    "$$B_n= \\frac{1}{\\pi} \\int_{-\\pi}^{\\pi} f(x) sen{(nx)}\\ dx$$\n",
    "\n",
    "As séries de Fourier são usadas para aproximar algumas funções particularmente desagradáveis, como a função degrau, por exemplo, e formam a base de muitas aplicações de engenharia, como o processamento de sinais. Vamos ver alguns exemplos.\n"
   ]
  },
  {
   "cell_type": "markdown",
   "metadata": {},
   "source": [
    "Os coeficiente da série de fourier podem ser obtidos usando integração numérica, por exemplo, por quadratura gaussiana usando a função `quad` disponível em `scipy.integrate`. Vejamos um exemplo a seguir."
   ]
  },
  {
   "cell_type": "markdown",
   "metadata": {},
   "source": [
    "**Exemplo 11:** Use integração numérica para obter uma aproximação por série de Fourier da função $f(x)=sen(e^x)$ no intervalo $(-3,3)$. Plote o gráfico da função $f$ e da função aproximadora com 10 termos.\n"
   ]
  },
  {
   "cell_type": "code",
   "execution_count": 26,
   "metadata": {},
   "outputs": [],
   "source": [
    "from scipy.integrate import quad"
   ]
  },
  {
   "cell_type": "code",
   "execution_count": 27,
   "metadata": {},
   "outputs": [],
   "source": [
    "f = lambda x: np.sin(np.exp(x))"
   ]
  },
  {
   "cell_type": "code",
   "execution_count": 28,
   "metadata": {},
   "outputs": [],
   "source": [
    "def fourier(f,N):\n",
    "    n=0\n",
    "    A0 = 1/np.pi * quad(lambda x: f(x)*np.cos(n*x),-np.pi,np.pi)[0]\n",
    "    \n",
    "    xi = np.linspace(-3,3,301)\n",
    "    yi = []\n",
    "\n",
    "    soma = A0/2\n",
    "\n",
    "    for x in xi:\n",
    "        soma = A0/2\n",
    "        for n in range(1,N):\n",
    "            An = 1/np.pi * quad(lambda x: f(x)*np.cos(n*x),-np.pi,np.pi)[0]\n",
    "            Bn = 1/np.pi * quad(lambda x: f(x)*np.sin(n*x),-np.pi,np.pi)[0]\n",
    "            soma +=  An*np.cos(n*x)+Bn*np.sin(n*x)\n",
    "        yi.append(soma)\n",
    "        \n",
    "    plt.plot(xi,yi, xi, f(xi))\n",
    "    plt.grid()"
   ]
  },
  {
   "cell_type": "code",
   "execution_count": 29,
   "metadata": {},
   "outputs": [
    {
     "data": {
      "image/png": "[encoded data removed]",
      "text/plain": [
       "<Figure size 432x288 with 1 Axes>"
      ]
     },
     "metadata": {
      "needs_background": "light"
     },
     "output_type": "display_data"
    }
   ],
   "source": [
    "fourier(f,20)"
   ]
  },
  {
   "cell_type": "markdown",
   "metadata": {},
   "source": [
    "**Exemplo 12:**"
   ]
  },
  {
   "cell_type": "code",
   "execution_count": 30,
   "metadata": {},
   "outputs": [
    {
     "name": "stderr",
     "output_type": "stream",
     "text": [
      "<ipython-input-28-57334b112a2f>:3: IntegrationWarning: The maximum number of subdivisions (50) has been achieved.\n",
      "  If increasing the limit yields no improvement it is advised to analyze \n",
      "  the integrand in order to determine the difficulties.  If the position of a \n",
      "  local difficulty can be determined (singularity, discontinuity) one will \n",
      "  probably gain from splitting up the interval and calling the integrator \n",
      "  on the subranges.  Perhaps a special-purpose integrator should be used.\n",
      "  A0 = 1/np.pi * quad(lambda x: f(x)*np.cos(n*x),-np.pi,np.pi)[0]\n",
      "<ipython-input-28-57334b112a2f>:14: IntegrationWarning: The maximum number of subdivisions (50) has been achieved.\n",
      "  If increasing the limit yields no improvement it is advised to analyze \n",
      "  the integrand in order to determine the difficulties.  If the position of a \n",
      "  local difficulty can be determined (singularity, discontinuity) one will \n",
      "  probably gain from splitting up the interval and calling the integrator \n",
      "  on the subranges.  Perhaps a special-purpose integrator should be used.\n",
      "  Bn = 1/np.pi * quad(lambda x: f(x)*np.sin(n*x),-np.pi,np.pi)[0]\n",
      "<ipython-input-28-57334b112a2f>:13: IntegrationWarning: The maximum number of subdivisions (50) has been achieved.\n",
      "  If increasing the limit yields no improvement it is advised to analyze \n",
      "  the integrand in order to determine the difficulties.  If the position of a \n",
      "  local difficulty can be determined (singularity, discontinuity) one will \n",
      "  probably gain from splitting up the interval and calling the integrator \n",
      "  on the subranges.  Perhaps a special-purpose integrator should be used.\n",
      "  An = 1/np.pi * quad(lambda x: f(x)*np.cos(n*x),-np.pi,np.pi)[0]\n"
     ]
    },
    {
     "data": {
      "image/png": "[encoded data removed]",
      "text/plain": [
       "<Figure size 432x288 with 1 Axes>"
      ]
     },
     "metadata": {
      "needs_background": "light"
     },
     "output_type": "display_data"
    }
   ],
   "source": [
    "f = lambda x: np.mod(x, 3)\n",
    "x = np.linspace(-3,3)\n",
    "plt.plot(x,f(x))\n",
    "fourier(f,5)"
   ]
  },
  {
   "cell_type": "markdown",
   "metadata": {},
   "source": [
    "**Exemplo 13:**"
   ]
  },
  {
   "cell_type": "code",
   "execution_count": 31,
   "metadata": {
    "scrolled": true
   },
   "outputs": [
    {
     "data": {
      "image/png": "[encoded data removed]",
      "text/plain": [
       "<Figure size 432x288 with 1 Axes>"
      ]
     },
     "metadata": {
      "needs_background": "light"
     },
     "output_type": "display_data"
    }
   ],
   "source": [
    "f = lambda x: (x > -np.pi/2) & (x < np.pi/2)\n",
    "fourier(f,10)"
   ]
  },
  {
   "cell_type": "markdown",
   "metadata": {},
   "source": [
    "**Referências**\n",
    "\n",
    "KONG, Qingkai; SIAUW, Timmy; BAYEN, Alexandre M. Python Programming and Numerical Methods: A Guide For Engineers And Scientists. ed 1, Academic Press, 2021. DOI: https://doi.org/10.1016/C2018-0-04165-1\n",
    "\n",
    "LANGTANGEN, Hans Pette. A Primer on Scientific Programming with Python. Texts in Computational Science and Engineering. Springer Berlin, Heidelberg, ed 5, 2016. DOI: https://doi.org/10.1007/978-3-662-49887-3"
   ]
  },
  {
   "cell_type": "code",
   "execution_count": null,
   "metadata": {},
   "outputs": [],
   "source": []
  }
 ],
 "metadata": {
  "kernelspec": {
   "display_name": "Python 3",
   "language": "python",
   "name": "python3"
  },
  "language_info": {
   "codemirror_mode": {
    "name": "ipython",
    "version": 3
   },
   "file_extension": ".py",
   "mimetype": "text/x-python",
   "name": "python",
   "nbconvert_exporter": "python",
   "pygments_lexer": "ipython3",
   "version": "3.8.5"
  }
 },
 "nbformat": 4,
 "nbformat_minor": 4
}
