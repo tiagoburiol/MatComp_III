{
 "cells": [
  {
   "cell_type": "markdown",
   "metadata": {},
   "source": [
    "# 3. Método de Euler para EDOs de 1ª ordem\n",
    "\n",
    "## 3.1 Introdução\n",
    "\n",
    "As equações diferenciais são relações entre uma função e suas derivadas e são usadas para modelar sistemas em todos os campos da engenharia e da ciência. Por exemplo, uma equação diferencial simples relaciona a aceleração de um carro com sua posição. Em geral, encontrar soluções exatas para equações diferenciais pode ser uma tarefa difícil ou até mesmo impossível. Portanto, soluções numéricas são alternativas para tornar essas equações úteis em projetos e estudo de fenômenos da natureza.\n",
    "\n",
    "Por exemplo, considere um pêndulo de comprimento $l$, com massa $m$ em sua extremidade, como ilustrado na figura abaixo. \n",
    "\n",
    "<img src=\"imagens/pendulo.png\" width=\"100\"/>\n",
    "\n",
    "O ângulo que o pêndulo faz com o eixo vertical ao longo do tempo, $\\theta (t)$ na presença de gravidade vertical $g$ pode ser descrito pela equação do pêndulo, que é a EDO\n",
    "\n",
    "$$\n",
    "ml\\frac{d^2\\theta(t)}{dt^2} = -mg \\, sen(\\theta(t)).\n",
    "$$\n",
    "\n",
    "Esta equação pode ser deduzida somando as forças nas direções $x$\n",
    "e $y$ e, em seguida, mudando para coordenadas polares.\n",
    "\n",
    "Essa é uma equação não linear de difícil solução mas pode ser simplificada assumindo que os ângulos são muito pequenos (ou seja, $sen(\\theta(t) \\approx \\theta(t)$, então a equação do pêndulo se reduz a\n",
    "\n",
    "$$\n",
    "l\\frac{d^2\\theta(t)}{dt^2} = -g\\theta(t).\n",
    "$$\n",
    "\n",
    "e a solução geral $\\theta(t) = \\cos\\left(\\sqrt{\\frac{g}{l}}t\\right)$ pode ser obtida. Para um ângulo inicial $\\theta_0$, partindo do repouso no instante $t=0$, obtém-se a solução particular \n",
    "\n",
    "$$\\theta(t) = \\theta_0\\cos\\left(\\sqrt{\\frac{g}{l}}t\\right)$$\n",
    "\n",
    "Para verificar, basta calcular as derivadas de 1ª e 2ª ordens e substituir na equação.\n",
    "\n",
    "Infelizmente, não existe uma solução explícita para a equação do pêndulo com grandes ângulos que seja tão simples algebricamente. Uma vez que este sistema é muito mais simples do que a maioria dos sistemas práticos de engenharia e não tem solução analítica óbvia, a necessidade de soluções numéricas para EDOs é clara.\n",
    "\n",
    "As equações diferenciais são bastante comuns em engenharia, física e matemática, portanto seu estudo é um campo vasto e rico. Este capítulo cobre equações diferenciais ordinárias com valores iniciais especificados, uma subclasse de problemas de equações diferenciais chamados problemas de valor inicial. Para esses casos, o Python possui um conjunto completo de funções para resolver esse tipo de problema. Neste capítulo vamos estudar equações diferenciais ordinárias e alguns métodos de resolução com Python."
   ]
  },
  {
   "cell_type": "markdown",
   "metadata": {},
   "source": [
    "## 3.2 O que são EDOs?\n",
    "\n",
    "Uma equação diferencial ordinária (EDO) é uma equação que relaciona uma função de uma variável, $y(x)$ e suas derivadas, sendo $x$ a variável independente e $y(x)$ a função incógnita.\n",
    "\n",
    "A ordem de uma equação diferencial é determinada pela mais alta ordem da derivada da função $y(x)$ presente na equação. As equações a seguir são exemplos de equações diferenciais ordinárias. Temos as seguintes notações usuais:\n",
    "\n",
    "$$y'= \\frac{dy}{dx}, \\,\\,\\,  y''= \\frac{d^2y}{dx^2}, \\,\\,\\,... $$\n",
    "\n",
    "Por exemplo:\n",
    "\n",
    "$ \\frac{dy}{dx} = 3x-1$ é uma EDO de ordem 1\n",
    "\n",
    "$ y' = -xy$ é uma EDO de ordem 1\n",
    "\n",
    "$ \\frac{d^2y}{dx^2} = x^2-y+e^x$ é uma EDO de ordem 2 \n",
    "\n",
    "$ y'' -4y' + 3y = x$ é uma EDO de ordem 2 \n",
    "\n",
    "$ \\frac{d^5y}{dx^5} + 3x\\frac{dy}{dx}=2$ é uma EDO de ordem 5 \n",
    "\n",
    "Resolver uma equação diferencial consiste em determinar uma função 𝑦(𝑥) que satisfaça a equação.\n"
   ]
  },
  {
   "cell_type": "markdown",
   "metadata": {},
   "source": [
    "**Exemplo 3.1:** Vamos verificar se $\\theta(t) = \\cos\\left(\\sqrt{\\frac{g}{l}}t\\right)$ é solução da equação do pêndulo \n",
    "\n",
    "$$\n",
    "l\\frac{d^2\\theta(t)}{dt^2} = -g\\theta(t)\n",
    "$$\n"
   ]
  },
  {
   "cell_type": "code",
   "execution_count": 1,
   "metadata": {},
   "outputs": [],
   "source": [
    "import sympy as sym\n",
    "sym.init_printing()"
   ]
  },
  {
   "cell_type": "code",
   "execution_count": 2,
   "metadata": {},
   "outputs": [],
   "source": [
    "t,g,l = sym.symbols('t,g,l')     #variáveis simbólicas\n",
    "theta = sym.Function('theta')(t) #função simbolica\n",
    "theta_func = sym.cos(sym.sqrt(g/l)*t) #função"
   ]
  },
  {
   "cell_type": "code",
   "execution_count": 3,
   "metadata": {},
   "outputs": [
    {
     "data": {
      "text/latex": [
       "$\\displaystyle \\frac{d}{d t} \\theta{\\left(t \\right)} = - \\sqrt{\\frac{g}{l}} \\sin{\\left(t \\sqrt{\\frac{g}{l}} \\right)}$"
      ],
      "text/plain": [
       "                ___    ⎛      ___⎞\n",
       "d              ╱ g     ⎜     ╱ g ⎟\n",
       "──(θ(t)) = -  ╱  ─ ⋅sin⎜t⋅  ╱  ─ ⎟\n",
       "dt          ╲╱   l     ⎝  ╲╱   l ⎠"
      ]
     },
     "execution_count": 3,
     "metadata": {},
     "output_type": "execute_result"
    }
   ],
   "source": [
    "# theta_func.diff(t) -> derivada primeira\n",
    "expr = sym.Eq(theta.diff(t), theta_func.diff(t))\n",
    "expr"
   ]
  },
  {
   "cell_type": "code",
   "execution_count": 4,
   "metadata": {},
   "outputs": [
    {
     "data": {
      "text/latex": [
       "$\\displaystyle \\frac{d^{2}}{d t^{2}} \\theta{\\left(t \\right)} = - \\frac{g \\cos{\\left(t \\sqrt{\\frac{g}{l}} \\right)}}{l}$"
      ],
      "text/plain": [
       "                  ⎛      ___⎞ \n",
       "                  ⎜     ╱ g ⎟ \n",
       "  2         -g⋅cos⎜t⋅  ╱  ─ ⎟ \n",
       " d                ⎝  ╲╱   l ⎠ \n",
       "───(θ(t)) = ──────────────────\n",
       "  2                 l         \n",
       "dt                            "
      ]
     },
     "execution_count": 4,
     "metadata": {},
     "output_type": "execute_result"
    }
   ],
   "source": [
    "# theta_func.diff(t.t) -> derivada segunda\n",
    "expr2 = sym.Eq(theta.diff(t,t), theta_func.diff(t,t))\n",
    "expr2 "
   ]
  },
  {
   "cell_type": "code",
   "execution_count": null,
   "metadata": {},
   "outputs": [],
   "source": []
  },
  {
   "cell_type": "code",
   "execution_count": null,
   "metadata": {},
   "outputs": [],
   "source": []
  },
  {
   "cell_type": "code",
   "execution_count": null,
   "metadata": {},
   "outputs": [],
   "source": []
  },
  {
   "cell_type": "code",
   "execution_count": null,
   "metadata": {},
   "outputs": [],
   "source": []
  },
  {
   "cell_type": "code",
   "execution_count": null,
   "metadata": {},
   "outputs": [],
   "source": []
  },
  {
   "cell_type": "code",
   "execution_count": null,
   "metadata": {},
   "outputs": [],
   "source": []
  },
  {
   "cell_type": "code",
   "execution_count": null,
   "metadata": {},
   "outputs": [],
   "source": []
  },
  {
   "cell_type": "code",
   "execution_count": null,
   "metadata": {},
   "outputs": [],
   "source": []
  },
  {
   "cell_type": "code",
   "execution_count": null,
   "metadata": {},
   "outputs": [],
   "source": []
  },
  {
   "cell_type": "code",
   "execution_count": null,
   "metadata": {},
   "outputs": [],
   "source": []
  }
 ],
 "metadata": {
  "kernelspec": {
   "display_name": "Python 3",
   "language": "python",
   "name": "python3"
  },
  "language_info": {
   "codemirror_mode": {
    "name": "ipython",
    "version": 3
   },
   "file_extension": ".py",
   "mimetype": "text/x-python",
   "name": "python",
   "nbconvert_exporter": "python",
   "pygments_lexer": "ipython3",
   "version": "3.8.5"
  }
 },
 "nbformat": 4,
 "nbformat_minor": 4
}
