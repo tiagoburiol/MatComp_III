{
 "cells": [
  {
   "cell_type": "code",
   "execution_count": 5,
   "id": "3e18052c",
   "metadata": {},
   "outputs": [
    {
     "data": {
      "image/png": "[encoded data removed]",
      "text/plain": [
       "<Figure size 432x288 with 1 Axes>"
      ]
     },
     "metadata": {},
     "output_type": "display_data"
    }
   ],
   "source": [
    "import matplotlib.pyplot as plt\n",
    "import numpy as np\n",
    "x = np.linspace(0,4,5)\n",
    "y = np.linspace(0,4,5)\n",
    "fig, ax = plt.subplots()\n",
    "for i in range(len(x)):\n",
    "    for j in range(len(y)):\n",
    "        ax.plot([x[i],x[i]], [y[0],y[-1]], 'k-', lw=0.5)\n",
    "        ax.plot([x[0],x[-1]], [y[i],y[i]], 'k-', lw=0.5)\n",
    "        ax.plot(i, j, 'k.')\n",
    "        texto = '('+str(i)+','+str(j)+')'\n",
    "        ax.text(i+0.1 , j+0.1, texto)\n",
    "\n",
    "# Remove as bordas\n",
    "ax.spines['top'].set_visible(False)\n",
    "ax.spines['right'].set_visible(False)\n",
    "ax.spines['bottom'].set_visible(False)\n",
    "ax.spines['left'].set_visible(False)\n",
    "plt.ylim(-0.5, 5) \n",
    "plt.xlim(-0.5, 5)\n",
    "# remove a escala\n",
    "plt.xticks([])\n",
    "plt.yticks([])\n",
    "ax.set_aspect('equal')\n",
    "\n",
    "plt.savefig('png/malha.png',dpi=200)\n",
    "plt.show()"
   ]
  },
  {
   "cell_type": "code",
   "execution_count": null,
   "id": "e777d88b",
   "metadata": {},
   "outputs": [],
   "source": []
  }
 ],
 "metadata": {
  "kernelspec": {
   "display_name": "Python 3",
   "language": "python",
   "name": "python3"
  },
  "language_info": {
   "codemirror_mode": {
    "name": "ipython",
    "version": 3
   },
   "file_extension": ".py",
   "mimetype": "text/x-python",
   "name": "python",
   "nbconvert_exporter": "python",
   "pygments_lexer": "ipython3",
   "version": "3.8.5"
  }
 },
 "nbformat": 4,
 "nbformat_minor": 5
}
