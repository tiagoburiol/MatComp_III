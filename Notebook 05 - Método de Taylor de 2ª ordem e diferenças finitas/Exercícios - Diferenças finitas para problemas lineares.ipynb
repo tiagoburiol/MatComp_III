{
 "cells": [
  {
   "cell_type": "markdown",
   "id": "b151131d",
   "metadata": {},
   "source": [
    "Dado o problema de contorno de segunda ordem linear\n",
    "\n",
    "$$\n",
    "y^{\\prime \\prime}=p(x) y^{\\prime}+q(x) y+r(x), \\quad \\text { para } a \\leq x \\leq b \\operatorname{com} y(a)=\\alpha \\text { e } y(b)=\\beta,\n",
    "$$\n",
    "\n",
    "a resolução pelo método das diferenças finitas requer aproximações numéricas para $y'$ e $y''$ em um conjunto pontos que dividem o intervalo $[a,b]$ em $N+1$ subintervalos cujos extremos são os pontos $x_i=a+ih$, com $i=0,1,2,...,N+1$ da malha, e $h=(b-a)/(N+1))$.\n",
    "\n",
    "Aproximando $y'$ e $y''$ pela fórmula de diferenças centradas obtemos uma equação na forma\n",
    "\n",
    "$$\n",
    "\\left(\\frac{-y_{i+1}+2 y_i-y_{i-1}}{h^2}\\right)+p\\left(x_i\\right)\\left(\\frac{y_{i+1}-y_{i-1}}{2 h}\\right)+q\\left(x_i\\right) y_i=-r\\left(x_i\\right)\n",
    "$$\n",
    "\n",
    "para cada $i=1,2,...,N$. \n",
    "\n",
    "As equações podem ser reescritas na forma \n",
    "$$\n",
    "-\\left(1+\\frac{h}{2} p\\left(x_i\\right)\\right) y_{i-1}+\\left(2+h^2 q\\left(x_i\\right)\\right) y_i-\\left(1-\\frac{h}{2} p\\left(x_i\\right)\\right) y_{i+1}=-h^2 r\\left(x_i\\right),\n",
    "$$\n",
    "\n",
    "que vai gerar o sistema linear tridiagonal $N \\times N$ cuja solução dará a solução numérica do problema de valor de contorno.  "
   ]
  },
  {
   "cell_type": "code",
   "execution_count": 70,
   "id": "d07c55c5",
   "metadata": {},
   "outputs": [],
   "source": [
    "import numpy as np\n",
    "import matplotlib.pyplot as plt"
   ]
  },
  {
   "cell_type": "code",
   "execution_count": 37,
   "id": "237e3212",
   "metadata": {},
   "outputs": [],
   "source": [
    "a = 1.0\n",
    "b = 2.0\n",
    "ya = 1\n",
    "yb = 2\n",
    "\n",
    "N = 9\n",
    "h = (b-a)/(N+1)\n",
    "A = np.zeros((N,N))\n",
    "b = np.zeros(N)\n",
    "\n",
    "p = lambda x: -2./x\n",
    "q = lambda x: 2./x**2\n",
    "r = lambda x: np.sin(np.log(x))/x**2"
   ]
  },
  {
   "cell_type": "code",
   "execution_count": 54,
   "id": "58189d9f",
   "metadata": {},
   "outputs": [],
   "source": [
    "x = a+h\n",
    "A[0,0] = 2+h**2*q(x)\n",
    "A[0,1] = -1+(h/2)*p(x)\n",
    "b[0] = -h**2*r(x)+(1+(h/2)*p(x))*ya\n",
    "#print(x)\n",
    "\n",
    "for i in range(1,N-1):\n",
    "    x = a+(i+1)*h\n",
    "    A[i,i-1] = -1-(h/2)*p(x)\n",
    "    A[i,i] = 2+h**2*q(x) \n",
    "    A[i,i+1] = -1+(h/2)*p(x)\n",
    "    b[i] = -h**2*r(x)\n",
    "    #print(x)\n",
    "    \n",
    "x = a+(N)*h\n",
    "#print (x)\n",
    "A[N-1,N-2] = -1-(h/2)*p(x)\n",
    "A[N-1,N-1] = 2+h**2*q(x)\n",
    "b[N-1] = -h**2*r(x)+(1-(h/2)*p(x))*yb"
   ]
  },
  {
   "cell_type": "code",
   "execution_count": 55,
   "id": "376a847e",
   "metadata": {},
   "outputs": [
    {
     "name": "stdout",
     "output_type": "stream",
     "text": [
      "[[ 2.017 -1.091  0.     0.     0.     0.     0.     0.     0.   ]\n",
      " [-0.917  2.014 -1.083  0.     0.     0.     0.     0.     0.   ]\n",
      " [ 0.    -0.923  2.012 -1.077  0.     0.     0.     0.     0.   ]\n",
      " [ 0.     0.    -0.929  2.01  -1.071  0.     0.     0.     0.   ]\n",
      " [ 0.     0.     0.    -0.933  2.009 -1.067  0.     0.     0.   ]\n",
      " [ 0.     0.     0.     0.    -0.938  2.008 -1.062  0.     0.   ]\n",
      " [ 0.     0.     0.     0.     0.    -0.941  2.007 -1.059  0.   ]\n",
      " [ 0.     0.     0.     0.     0.     0.    -0.944  2.006 -1.056]\n",
      " [ 0.     0.     0.     0.     0.     0.     0.    -0.947  2.006]]\n",
      "[ 9.080e-01 -1.000e-03 -2.000e-03 -2.000e-03 -2.000e-03 -2.000e-03\n",
      " -2.000e-03 -2.000e-03  2.104e+00]\n"
     ]
    }
   ],
   "source": [
    "print (np.round(A,3))\n",
    "print (np.round(b,3))"
   ]
  },
  {
   "cell_type": "code",
   "execution_count": null,
   "id": "22b4022d",
   "metadata": {},
   "outputs": [],
   "source": []
  }
 ],
 "metadata": {
  "kernelspec": {
   "display_name": "Python 3 (ipykernel)",
   "language": "python",
   "name": "python3"
  },
  "language_info": {
   "codemirror_mode": {
    "name": "ipython",
    "version": 3
   },
   "file_extension": ".py",
   "mimetype": "text/x-python",
   "name": "python",
   "nbconvert_exporter": "python",
   "pygments_lexer": "ipython3",
   "version": "3.8.5"
  }
 },
 "nbformat": 4,
 "nbformat_minor": 5
}
