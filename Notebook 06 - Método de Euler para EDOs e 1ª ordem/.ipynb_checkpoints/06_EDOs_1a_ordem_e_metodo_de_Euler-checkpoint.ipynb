{
 "cells": [
  {
   "cell_type": "markdown",
   "metadata": {},
   "source": [
    "## EDOs de 1ª ordem e método de Euler"
   ]
  },
  {
   "cell_type": "markdown",
   "metadata": {},
   "source": [
    "## Solução numérica de um PVI\n",
    "\n",
    "Usando a biblioteca `scipy` podemos obter uma solução numérica para um problema como esse usando a função `solve_ivp`, como é mostrado no código abaixo. Para isso, vamos primeiramente importar a função do módulo `integrate` usando a linha mostrada a seguir."
   ]
  },
  {
   "cell_type": "code",
   "execution_count": 1,
   "metadata": {},
   "outputs": [],
   "source": [
    "from scipy.integrate import solve_ivp"
   ]
  },
  {
   "cell_type": "code",
   "execution_count": 2,
   "metadata": {},
   "outputs": [
    {
     "ename": "NameError",
     "evalue": "name 'np' is not defined",
     "output_type": "error",
     "traceback": [
      "\u001b[0;31m---------------------------------------------------------------------------\u001b[0m",
      "\u001b[0;31mNameError\u001b[0m                                 Traceback (most recent call last)",
      "Cell \u001b[0;32mIn[2], line 9\u001b[0m\n\u001b[1;32m      7\u001b[0m u0 \u001b[38;5;241m=\u001b[39m [\u001b[38;5;241m1\u001b[39m]\n\u001b[1;32m      8\u001b[0m \u001b[38;5;66;03m# Discretização do intervalo em 20 pontos\u001b[39;00m\n\u001b[0;32m----> 9\u001b[0m ti \u001b[38;5;241m=\u001b[39m np\u001b[38;5;241m.\u001b[39mlinspace(I[\u001b[38;5;241m0\u001b[39m],I[\u001b[38;5;241m1\u001b[39m],\u001b[38;5;241m20\u001b[39m)\n\u001b[1;32m     11\u001b[0m \u001b[38;5;66;03m# Obtendo a solução\u001b[39;00m\n\u001b[1;32m     12\u001b[0m sol \u001b[38;5;241m=\u001b[39m solve_ivp(du, I, u0, t_eval\u001b[38;5;241m=\u001b[39mti)\n",
      "\u001b[0;31mNameError\u001b[0m: name 'np' is not defined"
     ]
    }
   ],
   "source": [
    "# Definindo a função usando 'def'\n",
    "def du(t, y): \n",
    "    return t+2\n",
    "\n",
    "# Dados do problema\n",
    "I = (0,5)\n",
    "u0 = [1]\n",
    "# Discretização do intervalo em 20 pontos\n",
    "ti = np.linspace(I[0],I[1],20)\n",
    "\n",
    "# Obtendo a solução\n",
    "sol = solve_ivp(du, I, u0, t_eval=ti)\n",
    "print(np.round(sol.y,4))\n"
   ]
  },
  {
   "cell_type": "code",
   "execution_count": null,
   "metadata": {
    "scrolled": true
   },
   "outputs": [],
   "source": [
    "plt.plot(ti, sol.y[0],'.')\n",
    "plt.plot(ti, u(ti)+u0, 'r', lw=0.5)\n",
    "plt.grid()\n",
    "plt.show()"
   ]
  },
  {
   "cell_type": "markdown",
   "metadata": {},
   "source": [
    "O método usado por padrão na função `solve_ivp` é o `RK45`, ou seja,  o método Runge-Kutta explícito de ordem 5(4). O erro é controlado assumindo a precisão do método de quarta ordem, mas os passos são executadas usando a fórmula precisa de quinta ordem. Mais informações sobre outros métodos disponíveis e sua descrição podem ser acessadas em: https://docs.scipy.org/doc/scipy/reference/generated/scipy.integrate.solve_ivp.html\n"
   ]
  },
  {
   "cell_type": "markdown",
   "metadata": {},
   "source": [
    "## Campo de direções\n",
    "\n",
    "As soluções apresentadas nos exemplos anteriores são curvas no plano. Se pensarmos nas direções tangentes às curvas-solução em um conjunto de pntos distribuidos no plano temos o qe chamamos de **campo de direções** ou **campo de inclinações**. Como a inclinação de uma curva $y$ em um determinado ponto é dada pela sua derivada $y'$ nesse ponto, podemos construir o campo de direções para uma EDO mesmo não tendo encontrado solução alguma. Com isso é possível fazer deduções qualitativas sobre o comportamento das soluções mesmo ver o gráfico de nenhuma solução. \n",
    "\n",
    "Vejamos como podemos obter o campo de direções da equação do exemplo 3.  "
   ]
  },
  {
   "cell_type": "code",
   "execution_count": null,
   "metadata": {},
   "outputs": [],
   "source": [
    "t = np.linspace(-5, 5, 15)\n",
    "y = np.linspace(-10, 10, 10)\n",
    "\n",
    "tt, yy = np.meshgrid(t, y)\n",
    "\n",
    "dy = tt + 2\n",
    "\n",
    "plt.title(\"Campo de direções para $y'= t+2$\")\n",
    "plt.quiver(tt,yy,np.ones(dy.shape),dy,width=0.003)\n",
    "plt.show()"
   ]
  },
  {
   "cell_type": "markdown",
   "metadata": {},
   "source": [
    "**Exemplo 4:** Vamos obter a solução da equação $y' + y = \\cos(t)$ com a condição inicial $y(0) = 1$ e plotar solução juntamente com o campo de direções.\n"
   ]
  },
  {
   "cell_type": "code",
   "execution_count": null,
   "metadata": {},
   "outputs": [],
   "source": [
    "t, C1 = sp.symbols('t, C1')\n",
    "y = sp.Function('y')(t)\n",
    "\n",
    "# uma outra forma de declarar a derivada\n",
    "dy = sp.Derivative(y,t)\n",
    "\n",
    "eq = sp.Eq(dy+y, sp.cos(t))\n",
    "sol = sp.dsolve(eq)\n",
    "display(sol)"
   ]
  },
  {
   "cell_type": "markdown",
   "metadata": {},
   "source": [
    "ou"
   ]
  },
  {
   "cell_type": "code",
   "execution_count": null,
   "metadata": {},
   "outputs": [],
   "source": [
    "sol.expand()"
   ]
  },
  {
   "cell_type": "markdown",
   "metadata": {},
   "source": [
    "Aplicando a condição inicial $y(0)=1$ encontramos $C_1=1/2$. Para fazer as contas com o  SymPy podemos montar a equação substituindo $t=0$ no lado direito (`rhs`) da equação acima usando `subs` e igualando a $1$. Depois basta resolver a equação para $C_1$ usando `solveset`, como é mostrado abaixo:"
   ]
  },
  {
   "cell_type": "code",
   "execution_count": null,
   "metadata": {},
   "outputs": [],
   "source": [
    "eq = sp.Eq(1, sol.rhs.subs(t,0))\n",
    "display(eq)"
   ]
  },
  {
   "cell_type": "code",
   "execution_count": null,
   "metadata": {},
   "outputs": [],
   "source": [
    "display(sp.solveset(eq, C1))"
   ]
  },
  {
   "cell_type": "markdown",
   "metadata": {},
   "source": [
    "Agora podemos plotar a solução particular mostrada abaixo e o campo de direções."
   ]
  },
  {
   "cell_type": "code",
   "execution_count": null,
   "metadata": {},
   "outputs": [],
   "source": [
    "sol.expand().subs(C1,1/2)"
   ]
  },
  {
   "cell_type": "code",
   "execution_count": null,
   "metadata": {},
   "outputs": [],
   "source": [
    "t = np.linspace(0, 10, 15)\n",
    "y = np.linspace(-3, 3, 15)\n",
    "\n",
    "tt, yy = np.meshgrid(t, y)\n",
    "dy = -yy + np.cos(tt)\n",
    "plt.quiver(tt,yy,np.ones(dy.shape),dy,width=0.002)\n",
    "\n",
    "ti = np.linspace(0, 10, 50)\n",
    "yi = np.cos(ti)/2 + np.sin(ti)/2 + 0.5*np.exp(-ti)\n",
    "\n",
    "plt.plot(ti,yi,'r')\n",
    "plt.show()"
   ]
  },
  {
   "cell_type": "code",
   "execution_count": null,
   "metadata": {},
   "outputs": [],
   "source": []
  },
  {
   "cell_type": "markdown",
   "metadata": {},
   "source": [
    "**Exercícios:**\n",
    "\n",
    "(a) $y'+xy=x$\n",
    "\n",
    "(b) $y'+6y=e^x$\n",
    "\n",
    "(c) $y'+3x^2y=sen(x)e^{-x^3}$\n"
   ]
  },
  {
   "cell_type": "markdown",
   "metadata": {},
   "source": [
    "**Exercícios:** \n",
    "\n",
    "(a) $y'=\\frac{x^2}{y}$ \n",
    "\n",
    "(b) $y'+y^2sen(x)=0$\n",
    "\n",
    "(c) $y'=cos^2(x)cos^2(2y)$\n",
    "\n",
    "(d) $xy'=(1-y^2)^{1/2}$"
   ]
  },
  {
   "cell_type": "markdown",
   "metadata": {},
   "source": [
    "**Exercícios:** Use os passos acima para resolver as sequintes equações e teste a solução obtida.\n",
    "\n",
    "(a) $y'=\\frac{x^2}{y}$ \n",
    "\n",
    "(b) $y'+y^2sen(x)=0$\n",
    "\n",
    "(c) $y'=cos^2(x)cos^2(2y)$\n",
    "\n",
    "(d) $xy'=(1-y^2)^{1/2}$\n",
    "\n",
    "(e) $y'+xy=x$\n",
    "\n",
    "(f) $y'+6y=e^x$\n",
    "\n",
    "(g) $y'+3x^2y=sen(x)e^{-x^3}$"
   ]
  },
  {
   "cell_type": "code",
   "execution_count": null,
   "metadata": {},
   "outputs": [],
   "source": []
  },
  {
   "cell_type": "markdown",
   "metadata": {},
   "source": [
    "## Solução numérica de um PVI\n",
    "\n",
    "Considere a equação diferencial ordinária, $y' = y$, cuja solução é dada por $y(x)=ce^x$ $c\\in R$.\n",
    "\n",
    "Assim, a equação diferencial dada apresenta infinitas soluções, uma vez que, para cada valor escolhido para a constante $c$, temos uma solução, como, por exemplo, $y(x)=c_0e^x$,$y(x)=c_1e^x$,$y(x)=c_2e^x$,sendo $c_0$, $c_1$ , $c_2$ valores fixados,conforme exibido na figura abaixo.\n"
   ]
  },
  {
   "cell_type": "markdown",
   "metadata": {},
   "source": [
    "<img src=\"https://github.com/tiagoburiol/NUMETHODS/raw/master/8_SOLUCAO_NUMERICA_DE_EDOs/imagens/pvi01.png\" width=\"560\">"
   ]
  },
  {
   "cell_type": "markdown",
   "metadata": {},
   "source": [
    "Se considerarmos que conhecemos o valor da função $y(x)$ em um ponto, isto é, $x = x_0$ , o valor de $y(x)$ é $y(x_0) = y_0$ e temos uma única solução para a equação proposta. Esta solução única é obtida quando usamos a solução geral da equação diferencial\n",
    "no ponto $x = x_0$ e obtemos o valor da constante $c$, como segue: $$y(x_0)=y_0$$ \n",
    "então \n",
    "$$ce^{x_0} = y_0$$ \n",
    "logo \n",
    "$$c=y_0e^{0-x_0}$$\n",
    "\n",
    "Assim, a solução única para a equação diferencial é dada por: \n",
    "\n",
    "$$y(x) = ce^x = y_0 e^{-x_0} e^x = y_0e^{(x-x_0)}$$\n",
    "\n",
    "Portanto, $y(x) = y_0 e^{(x-x_0)}$, conforme exibido na figura."
   ]
  },
  {
   "cell_type": "markdown",
   "metadata": {},
   "source": [
    "**Definição:** Um Problema de Valor Inicial (PVI) de primeira ordem consiste de uma equação diferencial $y' = f (x,y)$, $x \\geq x_0$ e uma condição inicial $y(x_0) = y_0$, em que $y_0$ é um valor dado, chamado de valor inicial.\n",
    "\n",
    "Neste caso, podemos escrever o PVI da seguinte forma:\n",
    "\n",
    "$$ \n",
    "\\begin{cases} \n",
    "y'= f(x,y)\\\\ \n",
    "\\\\\n",
    "y(x_0)=y_0\n",
    "\\end{cases}$$\n",
    "\n",
    "Resolver o PVI consiste em determinar uma função $y(x)$ que satisfaça a equação diferencial $y' = f (x,y)$ e a condição inicial $y(x_0) = y_0$.\n",
    "\n",
    "Se a função $f$ e $ \\frac{\\partial f}{\\partial y}$ são contínuas, temos que o PVI apresenta solução única.\n",
    "\n"
   ]
  },
  {
   "cell_type": "markdown",
   "metadata": {},
   "source": [
    "**Discretização:** Resolver numericamente um PVI consiste em calcular aproximações para $y = y(x)$ em pontos discretos $x_0,x_1,x_2,...,x_N$ de um intervalo $[a,b]$.\n",
    "\n",
    "Para discretizar o intervalo $[a,b]$, tomamos $N$ subintervalos $(N \\geq 1)$ e fazemos $x_n = x_0 + nh$, $n = 0,1,2,...,N$ com $x_0 =a$ e $x_N =b$,sendo $h = (x_N −x_0)/N$.\n",
    "\n",
    "A este conjunto de pontos $x_0,x_1,x_2,...,x_N$ denominamos rede ou malha de pontos discretos, e calculamos aproximações para a função $y(x)$ nestes pontos, isto é, determinamos $y_n$ tal que $y_n \\approx y(x_n)$, $n=0,1,...,N$.\n",
    "\n",
    "A partir de um ponto inicial dado $y(x_0) = y_0$ (valor inicial), calculamos passo a passo, nos pontos \n",
    "\n",
    "$x_1 = x_0 +h$, \n",
    "\n",
    "$x_2 = x_0 +2h$, \n",
    "\n",
    "$x_3 = x_0 +3h$\n",
    "\n",
    ",...,\n",
    "\n",
    "$x_n = x_0 +nh$, \n",
    "\n",
    "soluções aproximadas $y_n$ para a solução exata $y(x_n)$, $n=0,1,2,...,N$, conforme ilustrado na figura a seguir.\n",
    "\n",
    "<img src=\"https://github.com/tiagoburiol/NUMETHODS/raw/master/8_SOLUCAO_NUMERICA_DE_EDOs/imagens/discretizacao.png\" width=\"560\">"
   ]
  },
  {
   "cell_type": "markdown",
   "metadata": {},
   "source": [
    "## Método de Euler\n",
    "\n",
    "Vamos agora estudar a solução de equações diferenciais ordinárias da forma\n",
    "\n",
    "$$ \\frac{dy}{dx} = f(x,y) $$\n",
    "\n",
    "usando um método numérico de _passo único_ em que obtemos um processo iterativo para obter a solução para cada ponto $y_{i+1}$ a partir de um ponto $y_i$ conhecido. Fazemos isso considerando a derivada no ponto $x_i$ para obter o valor da função no ponto $x_{i+1}$ em que o tamanho de cada _passo_ é dado por $h = x_{i+1} - x_i$. Matemativamente, escrevemos\n",
    "\n",
    "$$ y_{i+1} = y_i + \\phi h$$\n",
    "\n",
    "Assim, a estimativa da inclinação\té usada para extrapolar de um valor antigo $y_i$ para um valor novo $y_{i+1}$ em uma distância $h$. \n",
    "\n",
    "\n",
    "<img src=\"https://github.com/tiagoburiol/NUMETHODS/raw/master/8_SOLUCAO_NUMERICA_DE_EDOs/imagens/euler_fig01.png\" width=\"400\">\n",
    "\n",
    "A inclinação no início do intervalo é tomada como uma aproximação da inclinação média em todo o intervalo, com isso um erro é inserido. Em geral, quanto maior o tamanho do passo, maior é o erro nessa apoximação.\n",
    "\n",
    "<img src=\"https://github.com/tiagoburiol/NUMETHODS/raw/master/8_SOLUCAO_NUMERICA_DE_EDOs/imagens/euler_fig02.png\" width=\"400\">\n",
    "\n",
    "No método de Euler a inclinação é tomada como sendo a derivada primeira da função $f(x,y)$, ou seja, considerando que $\\frac{dy}{dx} = f(x,y)$, escrevemos\n",
    "\n",
    "$$ y_{i+1} = y_i + f(x_i, y_{i}) h$$\n",
    "\n",
    "Assim, a partir de um valor inicial $y_0$ conhecido obtemos estimativas para os valores subsequentes $y_1, y_2, y_3, ...$ da função.\n",
    "\n",
    "Esse método também é chamado de método de _Euler-Cauchy_ ou _ponto-inclinação_."
   ]
  },
  {
   "cell_type": "markdown",
   "metadata": {},
   "source": [
    "**Exemplo 5:** Use o método de Euler para integrar numericamente a equação:\n",
    "\n",
    "$$ \\frac{dy}{dx} = -2x^3+12x^2-20x+8.5$$\n",
    "\n",
    "de $x = 0$ a $x = 4$ com um tamanho de passo de $0.5$. A condição inicial em $x = 0$ é $y = 1$. \n",
    "\n",
    "A solução exata é dada por $y = -5.x^4+4x^3-10x^2+8.5x+1$."
   ]
  },
  {
   "cell_type": "markdown",
   "metadata": {},
   "source": [
    "_Solução:_ Com um passo $h=0.5$, temos $x_0 = 0.0$, $x_1 = 0.5$, $x_2 = 1.0$, $x_3 = 1.5$, ..., $x_8=4.0$. Assim, a partir da equação \n",
    "\n",
    "$$ y_{i+1} = y_i + f(x_i, y_{i}) h$$\n",
    "\n",
    "com\n",
    "\n",
    "$$f(x,y)= \\frac{dy}{dx} = -2x^3+12x^2-20x+8.5$$\n",
    "\n",
    "e sabendo que em $x_0 = 0$ temos $y_0 = 1$ obtemos os valores de $y_1, y_2, y_3, ..., y_8$ \n",
    "\n",
    "Vamos fazer isso computacionalmente, em Python."
   ]
  },
  {
   "cell_type": "code",
   "execution_count": null,
   "metadata": {},
   "outputs": [],
   "source": [
    "import numpy as np\n",
    "import matplotlib.pyplot as plt\n",
    "\n",
    "h = 0.5 #passo\n",
    "x0 = 0.0\n",
    "xn = 4.0\n",
    "\n",
    "# criamos a lista com os pontos xi\n",
    "X = np.arange(x0, xn+h, h) \n",
    "print (\"pontos xi:\", X)\n",
    "\n",
    "# lista com y0, a ser preenchida pelos yi\n",
    "Y = [1.0]                  \n",
    "\n",
    "# entramos com f(x,y)\n",
    "f = lambda x: -2*x**3 + 12*x**2 - 20*x + 8.5\n",
    "\n",
    "# laço para ir calculando os yi e preenchendo a lista\n",
    "for x in X[0:-1]:\n",
    "    Y.append(Y[-1] + f(x)*h ) #Y[-1] é o último yi calculado\n",
    "    \n",
    "# imprime\n",
    "print (\"pontos yi:\", Y)\n",
    "\n",
    "# plota\n",
    "plt.plot(X, Y, \"r-\")\n",
    "plt.grid()\n",
    "plt.show()"
   ]
  },
  {
   "cell_type": "code",
   "execution_count": null,
   "metadata": {},
   "outputs": [],
   "source": [
    "# plotando a solução exata para comparar\n",
    "Xex = np.arange(0, 4.1, 0.1)\n",
    "Yex = []\n",
    "sol_ex = lambda x: -0.5*x**4 + 4*x**3 - 10*x**2 + 8.5*x + 1.0\n",
    "\n",
    "for x in Xex:\n",
    "    Yex.append(sol_ex(x))\n",
    "\n",
    "plt.plot(X, Y, \"r-\", Xex, Yex, \"b-\")\n",
    "plt.grid()\n",
    "plt.show()"
   ]
  },
  {
   "cell_type": "markdown",
   "metadata": {},
   "source": [
    "Nesse exemplo usamos um polinômio simples para a equação diferencial para facilitar a análise de erro a seguir. Logo,\n",
    "\n",
    "$$\\frac{dy}{dx} = f(x)$$\n",
    "\n",
    "Um caso mais geral envolveria EDOs que dependam de $x$ e $y$, \n",
    "\n",
    "$$\\frac{dy}{dx} = f(x,y)$$\n",
    "\n",
    "Conforme progredirmos por esta parte do texto, nossos exemplos vão envolver cada vez mais EDOs que dependem tanto das variáveis dependentes quanto das independentes."
   ]
  },
  {
   "cell_type": "markdown",
   "metadata": {},
   "source": [
    "**Exemplo 6:** Use o método de Euler para integrar numericamente a equação:\n",
    "\n",
    "$$ \\frac{dy}{dx} = x-y+2$$\n",
    "\n",
    "de $x = 0$ a $x = 1$ com um tamanho de passo de $0.25$. A condição inicial em $x = 0$ é $y = 2$. "
   ]
  },
  {
   "cell_type": "code",
   "execution_count": null,
   "metadata": {},
   "outputs": [],
   "source": [
    "import numpy as np\n",
    "import matplotlib.pyplot as plt\n",
    "\n",
    "h = 0.20; x0 = 0.0; xn = 1.0\n",
    "\n",
    "X = np.arange(x0, xn+h, h); Y = [2.0]                  \n",
    "\n",
    "f = lambda x,y: x-y+2\n",
    "\n",
    "for n in range(len(X)-1):\n",
    "    Y.append(Y[n] + f(X[n],Y[n])*h ) #Y[-1] é o último yi calculado\n",
    "    \n",
    "s = lambda x: np.exp(-x) + x + 1\n",
    "Xe = np.linspace(x0,xn, 20)\n",
    "Ye = s(Xe)\n",
    "\n",
    "# plota\n",
    "plt.plot(X, Y, \"r-\", Xe, Ye, \"b-\")\n",
    "plt.grid()\n",
    "plt.show()"
   ]
  },
  {
   "cell_type": "markdown",
   "metadata": {},
   "source": [
    "### Exercícios\n",
    "\n",
    "**1.** Resolva o seguinte problema de valor inicial no intervalo de $t=0$ a $2$ em que $y(0)=1$ analiticamente e numericamente, usando o método de Euler ($h=0,5$ e $0,25$) e plote as soluções.\n",
    "$$\n",
    "\\frac{d y}{d t}=y t^2-1,1 y\n",
    "$$\n",
    "\n",
    "\n",
    "**2.** Resolva o seguinte problema de valor inicial no intervalo de $t=0$ a $1$ em que $y(0)=1$ analiticamente e numericamente, usando o método de Euler ($h=0,5$ e $0,25$) e plote as soluções.\n",
    "\n",
    "$$\n",
    "\\frac{d y}{d t}=(1+4 t) \\sqrt{y}\n",
    "$$\n",
    "\n",
    "**3.** Usando o método de Euler, determine uma solução aproximada para o PVI dado por\n",
    "\n",
    "$$ \\begin{cases} \n",
    "y'= -3y+6x+5 \\\\ \n",
    "y(0)=3   \n",
    "\\end{cases}$$\n",
    "\n",
    "com $x \\in [0,1]$ e $N=10$. Compare com a solução exata $y(x)=2e^{-3x}+2x+1$.\n",
    "\n",
    "**4.** \n",
    "Dados o PVI abaixo e a sua solução exata, use dois métodos diferentes para estimar $u(t)$ com o passo sugerido, plote e comente os resultados.\n",
    "\n",
    "$$ \\begin{cases} \n",
    "u'= t^2(5-u)\\\\ \n",
    "0 \\leq t \\leq 2 \\\\\n",
    "u(0)=0\n",
    "\\end{cases}$$\n",
    "\n",
    "Solução exata: $u(t)=5-5e^{-t^3/3}$. Use passo $h=0,25$ e também $h=0,1$.\n"
   ]
  },
  {
   "cell_type": "markdown",
   "metadata": {},
   "source": [
    "**Referências**\n",
    "\n",
    "ARENALES, Selma; DAREZZO, Artur. Cálculo Numérico: aprendizagem com Apoio de Software. [Digite o Local da Editora]: Cengage Learning Brasil, 2016. E-book. ISBN 9788522112821. Disponível em: https://integrada.minhabiblioteca.com.br/#/books/9788522112821/. Acesso em: 09 abr. 2024.\n",
    "\n",
    "BOYCE, William E. Equações Diferenciais Elementares e Problemas de Valores de Contorno. [Digite o Local da Editora]: Grupo GEN, 2020. E-book. ISBN 9788521637134. Disponível em: https://integrada.minhabiblioteca.com.br/#/books/9788521637134/. Acesso em: 19 mar. 2023.\n",
    "\n",
    "CHAPRA, Steven C.; CANALE, Raymond P. Métodos numéricos para engenharia. [Digite o Local da Editora]: Grupo A, 2016. E-book. ISBN 9788580555691. Disponível em: https://integrada.minhabiblioteca.com.br/#/books/9788580555691/. Acesso em: 09 abr. 2024."
   ]
  },
  {
   "cell_type": "code",
   "execution_count": null,
   "metadata": {},
   "outputs": [],
   "source": []
  }
 ],
 "metadata": {
  "kernelspec": {
   "display_name": "Python 3 (ipykernel)",
   "language": "python",
   "name": "python3"
  },
  "language_info": {
   "codemirror_mode": {
    "name": "ipython",
    "version": 3
   },
   "file_extension": ".py",
   "mimetype": "text/x-python",
   "name": "python",
   "nbconvert_exporter": "python",
   "pygments_lexer": "ipython3",
   "version": "3.12.4"
  }
 },
 "nbformat": 4,
 "nbformat_minor": 4
}
