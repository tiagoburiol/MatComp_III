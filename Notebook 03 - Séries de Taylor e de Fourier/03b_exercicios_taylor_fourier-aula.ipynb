{
 "cells": [
  {
   "cell_type": "markdown",
   "metadata": {},
   "source": [
    "## 2b. Exercícios com as séries de Taylor e de Fourier"
   ]
  },
  {
   "cell_type": "markdown",
   "metadata": {},
   "source": [
    "**Série de Taylor:** Como sabemos, a série de Taylor de uma função $f(x)$ em torno de $x=a$ é definida como:\n",
    "\n",
    "$$ f(x) = \\sum_{n = 0}^{\\infty} f^{(n)}(a)\\frac{(x-a)^n}{n!},\n",
    "$$\n",
    "\n",
    "onde $f^{(n)}$ é a n-ésima derivada de $f$ e $f^{(0)}$ é a própria função $f$. "
   ]
  },
  {
   "cell_type": "markdown",
   "metadata": {},
   "source": [
    "**Exercício 1:** Desenvolva a série de Taylor em $a=0$ para a função exponencial $e^x$. e verifique que \n",
    "\n",
    "$$e^x=\\sum_{n=0}^{\\infty} \\frac{x^n}{n!}.$$\n",
    "\n",
    "Então, encontre aproximações para $e^{0.3}$ com precisão de 5 casas decimais. Quantos termos da série foram necessários?"
   ]
  },
  {
   "cell_type": "code",
   "execution_count": null,
   "metadata": {},
   "outputs": [],
   "source": []
  },
  {
   "cell_type": "markdown",
   "metadata": {},
   "source": [
    "**Exercício 2:** Desenvolva a série de Taylor em $a=0$ para a função $\\operatorname{sen}(x)$. e verifique que \n",
    "\n",
    "$$\n",
    "\\operatorname{sen}(x)=\\sum_{n=0}^{\\infty} \\frac{(-1)^n}{(2 n+1)!} x^{2 n+1}\n",
    "$$\n",
    "\n",
    "\n",
    "Então, encontre aproximações para $\\operatorname{sen}(\\pi/4)$ com 3, 5 e 20 termos."
   ]
  },
  {
   "cell_type": "code",
   "execution_count": null,
   "metadata": {},
   "outputs": [],
   "source": []
  },
  {
   "cell_type": "markdown",
   "metadata": {},
   "source": [
    "**Exercício 3:** A função cosseno pode ser representada pela série de série de Taylor em $a=0$ (ou série de Maclaurin), fazendo\n",
    "$$\n",
    "\\cos x=\\sum_{n=0}^{\\infty} \\frac{(-1)^n}{(2 n)!} x^{2 n}.\n",
    "$$\n",
    "Descubra quantos termos da série são necessários para obter uma aproximação para $\\cos(\\pi/6)$ com erro relativo menor que $10^4$."
   ]
  },
  {
   "cell_type": "code",
   "execution_count": null,
   "metadata": {},
   "outputs": [],
   "source": []
  },
  {
   "cell_type": "markdown",
   "metadata": {},
   "source": [
    "**Exercício 4:** Sabendo que a função $ln(1+x)$ pode ser representada pela série de Maclaurin, fazendo\n",
    "$$\n",
    "\\ln (1+x)=\\sum_{n=0}^{\\infty} \\frac{(-1)^n}{n+1} x^{n+1} \\quad \\text { para }|x|<1\n",
    "$$\n",
    "\n",
    "Descubra quantos termos da série são necessários para obter uma aproximação para $ln(0.2)$ com erro relativo menor que $10^4$."
   ]
  },
  {
   "cell_type": "code",
   "execution_count": null,
   "metadata": {},
   "outputs": [],
   "source": []
  },
  {
   "cell_type": "markdown",
   "metadata": {},
   "source": [
    "**Série de Fourier:** (Fonte: [Chapra e Canale, 2016](https://integrada.minhabiblioteca.com.br/reader/books/9788580555691/pageid/486))\n",
    "\n",
    "Para uma função de período T, uma série de Fourier contínua no tempo pode ser escrita\n",
    "\n",
    "$$\n",
    "f(t)=a_0+a_1 \\cos \\left(\\omega_0 t\\right)+b_1 \\operatorname{sen}\\left(\\omega_0 t\\right)+a_2 \\cos \\left(2 \\omega_0 t\\right)+b_2 \\operatorname{sen}\\left(2 \\omega_0 t\\right)+\\cdots$$"
   ]
  },
  {
   "cell_type": "markdown",
   "metadata": {},
   "source": [
    "ou, mais concisamente,\n",
    "\n",
    "$$f(t)=a_0+\\sum_{k=1}^{\\infty}\\left[a_k \\cos \\left(k \\omega_0 t\\right)+b_k \\operatorname{sen}\\left(k \\omega_0 t\\right)\\right]$$\n",
    "\n",
    "onde $\\omega_0=2 \\pi / T$ é chamada de frequência fundamental e os seus múltiplos constantes $2 \\omega_0, 3 \\omega_0$, etc. são chamados de harmônicos. "
   ]
  },
  {
   "cell_type": "markdown",
   "metadata": {},
   "source": [
    "Os coeficientes da série de Fourier podem ser calculados por\n",
    "\n",
    "$$\n",
    "a_k=\\frac{2}{T} \\int_0^T f(t) \\cos \\left(k \\omega_0 t\\right) d t\n",
    "$$\n",
    "\n",
    "e\n",
    "\n",
    "$$\n",
    "b_k=\\frac{2}{T} \\int_0^T f(t) \\operatorname{sen}\\left(k \\omega_0 t\\right) d t\n",
    "$$\n",
    "\n",
    "para $k=1,2, \\ldots$ e \n",
    "\n",
    "$$\n",
    "a_0=\\frac{1}{T} \\int_0^T f(t)dt\n",
    "$$"
   ]
  },
  {
   "cell_type": "markdown",
   "metadata": {},
   "source": [
    "As séries de Fourier são usadas para aproximar algumas funções particularmente desagradáveis, como a função degrau, por exemplo, e formam a base de muitas aplicações de engenharia, como o processamento de sinais. Vamos ver alguns exemplos."
   ]
  },
  {
   "cell_type": "markdown",
   "metadata": {},
   "source": [
    "**Exercício 5:** Defina uma função para uma onda quadrada de período $T=2$ e amplitude $A=1$. Obtenha a série de Fourier com 5 termos e plote a curva, a série e a suas componentes harmônicas (termos da série). "
   ]
  },
  {
   "cell_type": "code",
   "execution_count": null,
   "metadata": {},
   "outputs": [],
   "source": []
  },
  {
   "cell_type": "markdown",
   "metadata": {},
   "source": [
    "**Exercício 6:** Seja a função $f$ definida por\n",
    "\n",
    "$$f(x)=\\begin{cases} \n",
    "    -x,\\,\\,\\, -\\pi \\leq x<  0\\\\\n",
    "     \\,\\,\\,\\,x,\\,\\,\\,\\,\\,\\,\\, 0 < x\\leq \\pi\\\\\n",
    "\\end{cases}$$\n",
    "\n",
    "$$f(x+2\\pi)=f(x)$$\n",
    "\n",
    "Defina a plote a função. Então, Encontre a série de Fourier e plote para alguns termos junto com a função."
   ]
  },
  {
   "cell_type": "code",
   "execution_count": null,
   "metadata": {},
   "outputs": [],
   "source": []
  },
  {
   "cell_type": "markdown",
   "metadata": {},
   "source": [
    "**Exercício 7:**\n",
    "Defina a função representada abaixo e plote seu gráfico. \n",
    "\n",
    "\n",
    "<img src=\"imagens/fig2_02.png\" width=\"360\">\n",
    "\n",
    "Então obtenha uma série de Fourier para essa função. Plote a função e a série."
   ]
  },
  {
   "cell_type": "code",
   "execution_count": null,
   "metadata": {},
   "outputs": [],
   "source": []
  },
  {
   "cell_type": "markdown",
   "metadata": {},
   "source": [
    "**Referências**\n",
    "\n",
    "CHAPRA, Steven, C. e Raymond P. CANALE. Métodos numéricos para engenharia . Disponível em: Minha Biblioteca, (7ª edição). Grupo A, 2016. "
   ]
  },
  {
   "cell_type": "code",
   "execution_count": null,
   "metadata": {},
   "outputs": [],
   "source": []
  }
 ],
 "metadata": {
  "kernelspec": {
   "display_name": "Python 3 (ipykernel)",
   "language": "python",
   "name": "python3"
  },
  "language_info": {
   "codemirror_mode": {
    "name": "ipython",
    "version": 3
   },
   "file_extension": ".py",
   "mimetype": "text/x-python",
   "name": "python",
   "nbconvert_exporter": "python",
   "pygments_lexer": "ipython3",
   "version": "3.12.4"
  }
 },
 "nbformat": 4,
 "nbformat_minor": 4
}
